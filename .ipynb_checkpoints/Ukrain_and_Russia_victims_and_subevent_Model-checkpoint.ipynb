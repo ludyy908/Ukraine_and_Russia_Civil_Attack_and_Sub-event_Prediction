{
 "cells": [
  {
   "cell_type": "code",
   "execution_count": null,
   "id": "f8f1134d",
   "metadata": {},
   "outputs": [],
   "source": [
    "import joblib \n",
    "label_encoders = joblib.load('Label_Encoders')"
   ]
  },
  {
   "cell_type": "code",
   "execution_count": null,
   "id": "b5a1c006",
   "metadata": {},
   "outputs": [],
   "source": [
    "import from keras.models import load_model\n",
    "model = load_model('Ukrain_and_Russia_victims_and_subevent_predictor.h5')"
   ]
  },
  {
   "cell_type": "code",
   "execution_count": null,
   "id": "df402726",
   "metadata": {},
   "outputs": [],
   "source": [
    "def predictor (category_arr, numeric_arr):\n",
    "\n",
    "    x_cat_val = []\n",
    "    x_num_val = numeric_arr\n",
    "    \n",
    "    # Encode the values from category_arr to labels\n",
    "    for i, (feature, val) in enumerate(zip(x_cat_features, category_arr)):\n",
    "        x_cat_val[i] = label_encoders[feature].transform([val])[0]\n",
    "    \n",
    "    # Predict the values using the model\n",
    "    model.predict(x_cat_val, x_num_val)\n",
    "    prediction = model.predict(x_cat_val, x_num_val)\n",
    "    sub_event_type = np.argmax(predictions[0], axis=1)\n",
    "    civilian_atack = np.argmax(predictions[1], axis=1)\n",
    "    \n",
    "    # Convert the results to String\n",
    "    sub_event_type = label_encoders['sub_event_type'].inverse_transform(sub_event_type) \n",
    "    civilian_atack = label_encoders['civilian_attack'].inverse_transform(civilian_atack)\n",
    "    \n",
    "    return sub_event_type, civilian_atack"
   ]
  }
 ],
 "metadata": {
  "kernelspec": {
   "display_name": "Python 3 (ipykernel)",
   "language": "python",
   "name": "python3"
  },
  "language_info": {
   "codemirror_mode": {
    "name": "ipython",
    "version": 3
   },
   "file_extension": ".py",
   "mimetype": "text/x-python",
   "name": "python",
   "nbconvert_exporter": "python",
   "pygments_lexer": "ipython3",
   "version": "3.9.16"
  }
 },
 "nbformat": 4,
 "nbformat_minor": 5
}
