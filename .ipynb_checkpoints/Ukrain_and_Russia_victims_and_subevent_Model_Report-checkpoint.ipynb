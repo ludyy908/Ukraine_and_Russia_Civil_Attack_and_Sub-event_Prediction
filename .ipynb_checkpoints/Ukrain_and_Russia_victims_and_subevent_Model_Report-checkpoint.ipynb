{
 "cells": [
  {
   "cell_type": "markdown",
   "id": "b353c3fd",
   "metadata": {},
   "source": [
    "# Previsão de Ataques de Civis e Ocorrência de Sub-eventos durante os conflitos na Ucrânia\n",
    "### Autores: Amarilda Chihepe, Ludmila Mucavele"
   ]
  },
  {
   "cell_type": "markdown",
   "id": "f23dd41e",
   "metadata": {},
   "source": [
    "### Pacotes"
   ]
  },
  {
   "cell_type": "code",
   "execution_count": 1,
   "id": "5b1c969d",
   "metadata": {},
   "outputs": [],
   "source": [
    "import numpy as np\n",
    "import pandas as pd\n",
    "import matplotlib.pyplot as plt\n",
    "import seaborn as sns\n",
    "%matplotlib inline"
   ]
  },
  {
   "cell_type": "markdown",
   "id": "82ae852b",
   "metadata": {},
   "source": [
    "## Introdução"
   ]
  },
  {
   "cell_type": "code",
   "execution_count": null,
   "id": "be110090",
   "metadata": {},
   "outputs": [],
   "source": []
  },
  {
   "cell_type": "markdown",
   "id": "820a7732",
   "metadata": {},
   "source": [
    "\n",
    "### Importação dos Datasets"
   ]
  },
  {
   "cell_type": "markdown",
   "id": "42795c74",
   "metadata": {},
   "source": [
    "There are two datasets, one that contains data from 2014 to 2021 (df1) and another that contains the data from 2018 to 2023 (df2)."
   ]
  },
  {
   "cell_type": "code",
   "execution_count": 2,
   "id": "cb38283e",
   "metadata": {},
   "outputs": [],
   "source": [
    "df1 = pd.read_csv('./Datasets/conflict_data_ukr-14-21.csv')\n",
    "df2 = pd.read_csv('./Datasets/UkraineConflict-18-23.csv')"
   ]
  },
  {
   "cell_type": "code",
   "execution_count": 3,
   "id": "726d2424",
   "metadata": {},
   "outputs": [
    {
     "data": {
      "text/html": [
       "<div>\n",
       "<style scoped>\n",
       "    .dataframe tbody tr th:only-of-type {\n",
       "        vertical-align: middle;\n",
       "    }\n",
       "\n",
       "    .dataframe tbody tr th {\n",
       "        vertical-align: top;\n",
       "    }\n",
       "\n",
       "    .dataframe thead th {\n",
       "        text-align: right;\n",
       "    }\n",
       "</style>\n",
       "<table border=\"1\" class=\"dataframe\">\n",
       "  <thead>\n",
       "    <tr style=\"text-align: right;\">\n",
       "      <th></th>\n",
       "      <th>id</th>\n",
       "      <th>relid</th>\n",
       "      <th>year</th>\n",
       "      <th>active_year</th>\n",
       "      <th>code_status</th>\n",
       "      <th>type_of_violence</th>\n",
       "      <th>conflict_dset_id</th>\n",
       "      <th>conflict_new_id</th>\n",
       "      <th>conflict_name</th>\n",
       "      <th>dyad_dset_id</th>\n",
       "      <th>...</th>\n",
       "      <th>date_end</th>\n",
       "      <th>deaths_a</th>\n",
       "      <th>deaths_b</th>\n",
       "      <th>deaths_civilians</th>\n",
       "      <th>deaths_unknown</th>\n",
       "      <th>best</th>\n",
       "      <th>high</th>\n",
       "      <th>low</th>\n",
       "      <th>gwnoa</th>\n",
       "      <th>gwnob</th>\n",
       "    </tr>\n",
       "  </thead>\n",
       "  <tbody>\n",
       "    <tr>\n",
       "      <th>0</th>\n",
       "      <td>NaN</td>\n",
       "      <td>NaN</td>\n",
       "      <td>#date+year</td>\n",
       "      <td>NaN</td>\n",
       "      <td>NaN</td>\n",
       "      <td>NaN</td>\n",
       "      <td>NaN</td>\n",
       "      <td>NaN</td>\n",
       "      <td>NaN</td>\n",
       "      <td>NaN</td>\n",
       "      <td>...</td>\n",
       "      <td>#date+end</td>\n",
       "      <td>NaN</td>\n",
       "      <td>NaN</td>\n",
       "      <td>NaN</td>\n",
       "      <td>NaN</td>\n",
       "      <td>#affected+killed</td>\n",
       "      <td>NaN</td>\n",
       "      <td>NaN</td>\n",
       "      <td>NaN</td>\n",
       "      <td>NaN</td>\n",
       "    </tr>\n",
       "    <tr>\n",
       "      <th>1</th>\n",
       "      <td>147997.0</td>\n",
       "      <td>UKR-2014-1-14085-0</td>\n",
       "      <td>2014</td>\n",
       "      <td>1.0</td>\n",
       "      <td>Clear</td>\n",
       "      <td>1.0</td>\n",
       "      <td>13219.0</td>\n",
       "      <td>13219.0</td>\n",
       "      <td>Ukraine: Government</td>\n",
       "      <td>14085.0</td>\n",
       "      <td>...</td>\n",
       "      <td>00:00.0</td>\n",
       "      <td>0.0</td>\n",
       "      <td>5.0</td>\n",
       "      <td>0.0</td>\n",
       "      <td>0.0</td>\n",
       "      <td>5</td>\n",
       "      <td>5.0</td>\n",
       "      <td>5.0</td>\n",
       "      <td>369.0</td>\n",
       "      <td>NaN</td>\n",
       "    </tr>\n",
       "    <tr>\n",
       "      <th>2</th>\n",
       "      <td>149221.0</td>\n",
       "      <td>UKR-2014-1-14085-1</td>\n",
       "      <td>2014</td>\n",
       "      <td>1.0</td>\n",
       "      <td>Clear</td>\n",
       "      <td>1.0</td>\n",
       "      <td>13219.0</td>\n",
       "      <td>13219.0</td>\n",
       "      <td>Ukraine: Government</td>\n",
       "      <td>14085.0</td>\n",
       "      <td>...</td>\n",
       "      <td>00:00.0</td>\n",
       "      <td>0.0</td>\n",
       "      <td>0.0</td>\n",
       "      <td>0.0</td>\n",
       "      <td>1.0</td>\n",
       "      <td>1</td>\n",
       "      <td>1.0</td>\n",
       "      <td>1.0</td>\n",
       "      <td>369.0</td>\n",
       "      <td>NaN</td>\n",
       "    </tr>\n",
       "    <tr>\n",
       "      <th>3</th>\n",
       "      <td>149248.0</td>\n",
       "      <td>UKR-2014-1-14085-3</td>\n",
       "      <td>2014</td>\n",
       "      <td>1.0</td>\n",
       "      <td>Clear</td>\n",
       "      <td>1.0</td>\n",
       "      <td>13219.0</td>\n",
       "      <td>13219.0</td>\n",
       "      <td>Ukraine: Government</td>\n",
       "      <td>14085.0</td>\n",
       "      <td>...</td>\n",
       "      <td>00:00.0</td>\n",
       "      <td>10.0</td>\n",
       "      <td>4.0</td>\n",
       "      <td>0.0</td>\n",
       "      <td>12.0</td>\n",
       "      <td>26</td>\n",
       "      <td>26.0</td>\n",
       "      <td>26.0</td>\n",
       "      <td>369.0</td>\n",
       "      <td>NaN</td>\n",
       "    </tr>\n",
       "    <tr>\n",
       "      <th>4</th>\n",
       "      <td>149249.0</td>\n",
       "      <td>UKR-2014-1-14085-4</td>\n",
       "      <td>2014</td>\n",
       "      <td>1.0</td>\n",
       "      <td>Clear</td>\n",
       "      <td>1.0</td>\n",
       "      <td>13219.0</td>\n",
       "      <td>13219.0</td>\n",
       "      <td>Ukraine: Government</td>\n",
       "      <td>14085.0</td>\n",
       "      <td>...</td>\n",
       "      <td>00:00.0</td>\n",
       "      <td>0.0</td>\n",
       "      <td>0.0</td>\n",
       "      <td>0.0</td>\n",
       "      <td>2.0</td>\n",
       "      <td>2</td>\n",
       "      <td>2.0</td>\n",
       "      <td>2.0</td>\n",
       "      <td>369.0</td>\n",
       "      <td>NaN</td>\n",
       "    </tr>\n",
       "  </tbody>\n",
       "</table>\n",
       "<p>5 rows × 50 columns</p>\n",
       "</div>"
      ],
      "text/plain": [
       "         id               relid        year  active_year code_status  \\\n",
       "0       NaN                 NaN  #date+year          NaN         NaN   \n",
       "1  147997.0  UKR-2014-1-14085-0        2014          1.0       Clear   \n",
       "2  149221.0  UKR-2014-1-14085-1        2014          1.0       Clear   \n",
       "3  149248.0  UKR-2014-1-14085-3        2014          1.0       Clear   \n",
       "4  149249.0  UKR-2014-1-14085-4        2014          1.0       Clear   \n",
       "\n",
       "   type_of_violence  conflict_dset_id  conflict_new_id        conflict_name  \\\n",
       "0               NaN               NaN              NaN                  NaN   \n",
       "1               1.0           13219.0          13219.0  Ukraine: Government   \n",
       "2               1.0           13219.0          13219.0  Ukraine: Government   \n",
       "3               1.0           13219.0          13219.0  Ukraine: Government   \n",
       "4               1.0           13219.0          13219.0  Ukraine: Government   \n",
       "\n",
       "   dyad_dset_id  ...   date_end deaths_a  deaths_b  deaths_civilians  \\\n",
       "0           NaN  ...  #date+end      NaN       NaN               NaN   \n",
       "1       14085.0  ...    00:00.0      0.0       5.0               0.0   \n",
       "2       14085.0  ...    00:00.0      0.0       0.0               0.0   \n",
       "3       14085.0  ...    00:00.0     10.0       4.0               0.0   \n",
       "4       14085.0  ...    00:00.0      0.0       0.0               0.0   \n",
       "\n",
       "  deaths_unknown              best  high   low  gwnoa gwnob  \n",
       "0            NaN  #affected+killed   NaN   NaN    NaN   NaN  \n",
       "1            0.0                 5   5.0   5.0  369.0   NaN  \n",
       "2            1.0                 1   1.0   1.0  369.0   NaN  \n",
       "3           12.0                26  26.0  26.0  369.0   NaN  \n",
       "4            2.0                 2   2.0   2.0  369.0   NaN  \n",
       "\n",
       "[5 rows x 50 columns]"
      ]
     },
     "execution_count": 3,
     "metadata": {},
     "output_type": "execute_result"
    }
   ],
   "source": [
    "df1.head()"
   ]
  },
  {
   "cell_type": "code",
   "execution_count": 4,
   "id": "2bc782ba",
   "metadata": {},
   "outputs": [
    {
     "data": {
      "text/html": [
       "<div>\n",
       "<style scoped>\n",
       "    .dataframe tbody tr th:only-of-type {\n",
       "        vertical-align: middle;\n",
       "    }\n",
       "\n",
       "    .dataframe tbody tr th {\n",
       "        vertical-align: top;\n",
       "    }\n",
       "\n",
       "    .dataframe thead th {\n",
       "        text-align: right;\n",
       "    }\n",
       "</style>\n",
       "<table border=\"1\" class=\"dataframe\">\n",
       "  <thead>\n",
       "    <tr style=\"text-align: right;\">\n",
       "      <th></th>\n",
       "      <th>EVENT_ID_CNTY</th>\n",
       "      <th>EVENT_DATE</th>\n",
       "      <th>YEAR</th>\n",
       "      <th>TIME_PRECISION</th>\n",
       "      <th>DISORDER_TYPE</th>\n",
       "      <th>EVENT_TYPE</th>\n",
       "      <th>SUB_EVENT_TYPE</th>\n",
       "      <th>ACTOR1</th>\n",
       "      <th>ASSOC_ACTOR_1</th>\n",
       "      <th>INTER1</th>\n",
       "      <th>...</th>\n",
       "      <th>LOCATION</th>\n",
       "      <th>LATITUDE</th>\n",
       "      <th>LONGITUDE</th>\n",
       "      <th>GEO_PRECISION</th>\n",
       "      <th>SOURCE</th>\n",
       "      <th>SOURCE_SCALE</th>\n",
       "      <th>NOTES</th>\n",
       "      <th>FATALITIES</th>\n",
       "      <th>TAGS</th>\n",
       "      <th>TIMESTAMP</th>\n",
       "    </tr>\n",
       "  </thead>\n",
       "  <tbody>\n",
       "    <tr>\n",
       "      <th>0</th>\n",
       "      <td>ROU448</td>\n",
       "      <td>20-May-19</td>\n",
       "      <td>2019</td>\n",
       "      <td>1</td>\n",
       "      <td>Political violence</td>\n",
       "      <td>Violence against civilians</td>\n",
       "      <td>Attack</td>\n",
       "      <td>Police Forces of Romania (2016-2019) Coast Guard</td>\n",
       "      <td>NaN</td>\n",
       "      <td>1</td>\n",
       "      <td>...</td>\n",
       "      <td>Coast of Constanta</td>\n",
       "      <td>44.156</td>\n",
       "      <td>28.948</td>\n",
       "      <td>2</td>\n",
       "      <td>Deschide; Hurriyet Daily; News.ro; CNN; TRT Haber</td>\n",
       "      <td>National-International</td>\n",
       "      <td>On 20 May 2019, the Coast Guard of Romania fir...</td>\n",
       "      <td>0</td>\n",
       "      <td>NaN</td>\n",
       "      <td>1649875498</td>\n",
       "    </tr>\n",
       "    <tr>\n",
       "      <th>1</th>\n",
       "      <td>ROU1885</td>\n",
       "      <td>28-Mar-22</td>\n",
       "      <td>2022</td>\n",
       "      <td>1</td>\n",
       "      <td>Strategic developments</td>\n",
       "      <td>Strategic developments</td>\n",
       "      <td>Disrupted weapons use</td>\n",
       "      <td>Military Forces of Romania (2021-)</td>\n",
       "      <td>NaN</td>\n",
       "      <td>1</td>\n",
       "      <td>...</td>\n",
       "      <td>Coast of Constanta</td>\n",
       "      <td>44.156</td>\n",
       "      <td>28.948</td>\n",
       "      <td>1</td>\n",
       "      <td>Adevarul; G4media</td>\n",
       "      <td>National</td>\n",
       "      <td>Defusal: On 28 March 2022, Romanian minesweepe...</td>\n",
       "      <td>0</td>\n",
       "      <td>NaN</td>\n",
       "      <td>1649184809</td>\n",
       "    </tr>\n",
       "    <tr>\n",
       "      <th>2</th>\n",
       "      <td>ROU1940</td>\n",
       "      <td>28-Jul-22</td>\n",
       "      <td>2022</td>\n",
       "      <td>1</td>\n",
       "      <td>Demonstrations</td>\n",
       "      <td>Protests</td>\n",
       "      <td>Peaceful protest</td>\n",
       "      <td>Protesters (Romania)</td>\n",
       "      <td>Greenpeace</td>\n",
       "      <td>6</td>\n",
       "      <td>...</td>\n",
       "      <td>Coast of Constanta</td>\n",
       "      <td>44.156</td>\n",
       "      <td>28.948</td>\n",
       "      <td>1</td>\n",
       "      <td>News.ro</td>\n",
       "      <td>National</td>\n",
       "      <td>On 28 July 2022, Greenpeace activists proteste...</td>\n",
       "      <td>0</td>\n",
       "      <td>crowd size=no report</td>\n",
       "      <td>1659462993</td>\n",
       "    </tr>\n",
       "    <tr>\n",
       "      <th>3</th>\n",
       "      <td>ROU1945</td>\n",
       "      <td>31-Jul-22</td>\n",
       "      <td>2022</td>\n",
       "      <td>1</td>\n",
       "      <td>Strategic developments</td>\n",
       "      <td>Strategic developments</td>\n",
       "      <td>Disrupted weapons use</td>\n",
       "      <td>Military Forces of Romania (2021-)</td>\n",
       "      <td>NaN</td>\n",
       "      <td>1</td>\n",
       "      <td>...</td>\n",
       "      <td>Coast of Constanta</td>\n",
       "      <td>44.156</td>\n",
       "      <td>28.948</td>\n",
       "      <td>1</td>\n",
       "      <td>Digi24</td>\n",
       "      <td>National</td>\n",
       "      <td>Defusal: On 31 July 2022, Romanian Naval Force...</td>\n",
       "      <td>0</td>\n",
       "      <td>NaN</td>\n",
       "      <td>1660055880</td>\n",
       "    </tr>\n",
       "    <tr>\n",
       "      <th>4</th>\n",
       "      <td>ROU1947</td>\n",
       "      <td>4-Aug-22</td>\n",
       "      <td>2022</td>\n",
       "      <td>1</td>\n",
       "      <td>Demonstrations</td>\n",
       "      <td>Protests</td>\n",
       "      <td>Peaceful protest</td>\n",
       "      <td>Protesters (Romania)</td>\n",
       "      <td>Greenpeace</td>\n",
       "      <td>6</td>\n",
       "      <td>...</td>\n",
       "      <td>Coast of Constanta</td>\n",
       "      <td>44.156</td>\n",
       "      <td>28.948</td>\n",
       "      <td>1</td>\n",
       "      <td>News.ro</td>\n",
       "      <td>National</td>\n",
       "      <td>On 4 August 2022, Greenpeace activists protest...</td>\n",
       "      <td>0</td>\n",
       "      <td>crowd size=no report</td>\n",
       "      <td>1660055882</td>\n",
       "    </tr>\n",
       "  </tbody>\n",
       "</table>\n",
       "<p>5 rows × 31 columns</p>\n",
       "</div>"
      ],
      "text/plain": [
       "  EVENT_ID_CNTY EVENT_DATE  YEAR  TIME_PRECISION           DISORDER_TYPE  \\\n",
       "0        ROU448  20-May-19  2019               1      Political violence   \n",
       "1       ROU1885  28-Mar-22  2022               1  Strategic developments   \n",
       "2       ROU1940  28-Jul-22  2022               1          Demonstrations   \n",
       "3       ROU1945  31-Jul-22  2022               1  Strategic developments   \n",
       "4       ROU1947   4-Aug-22  2022               1          Demonstrations   \n",
       "\n",
       "                   EVENT_TYPE         SUB_EVENT_TYPE  \\\n",
       "0  Violence against civilians                 Attack   \n",
       "1      Strategic developments  Disrupted weapons use   \n",
       "2                    Protests       Peaceful protest   \n",
       "3      Strategic developments  Disrupted weapons use   \n",
       "4                    Protests       Peaceful protest   \n",
       "\n",
       "                                             ACTOR1 ASSOC_ACTOR_1  INTER1  \\\n",
       "0  Police Forces of Romania (2016-2019) Coast Guard           NaN       1   \n",
       "1                Military Forces of Romania (2021-)           NaN       1   \n",
       "2                              Protesters (Romania)    Greenpeace       6   \n",
       "3                Military Forces of Romania (2021-)           NaN       1   \n",
       "4                              Protesters (Romania)    Greenpeace       6   \n",
       "\n",
       "   ...            LOCATION LATITUDE  LONGITUDE  GEO_PRECISION  \\\n",
       "0  ...  Coast of Constanta   44.156     28.948              2   \n",
       "1  ...  Coast of Constanta   44.156     28.948              1   \n",
       "2  ...  Coast of Constanta   44.156     28.948              1   \n",
       "3  ...  Coast of Constanta   44.156     28.948              1   \n",
       "4  ...  Coast of Constanta   44.156     28.948              1   \n",
       "\n",
       "                                              SOURCE            SOURCE_SCALE  \\\n",
       "0  Deschide; Hurriyet Daily; News.ro; CNN; TRT Haber  National-International   \n",
       "1                                  Adevarul; G4media                National   \n",
       "2                                            News.ro                National   \n",
       "3                                             Digi24                National   \n",
       "4                                            News.ro                National   \n",
       "\n",
       "                                               NOTES FATALITIES  \\\n",
       "0  On 20 May 2019, the Coast Guard of Romania fir...          0   \n",
       "1  Defusal: On 28 March 2022, Romanian minesweepe...          0   \n",
       "2  On 28 July 2022, Greenpeace activists proteste...          0   \n",
       "3  Defusal: On 31 July 2022, Romanian Naval Force...          0   \n",
       "4  On 4 August 2022, Greenpeace activists protest...          0   \n",
       "\n",
       "                   TAGS   TIMESTAMP  \n",
       "0                   NaN  1649875498  \n",
       "1                   NaN  1649184809  \n",
       "2  crowd size=no report  1659462993  \n",
       "3                   NaN  1660055880  \n",
       "4  crowd size=no report  1660055882  \n",
       "\n",
       "[5 rows x 31 columns]"
      ]
     },
     "execution_count": 4,
     "metadata": {},
     "output_type": "execute_result"
    }
   ],
   "source": [
    "df2.head()"
   ]
  },
  {
   "cell_type": "markdown",
   "id": "32813740",
   "metadata": {},
   "source": [
    "## Data Assessing"
   ]
  },
  {
   "cell_type": "markdown",
   "id": "f6b17f91",
   "metadata": {},
   "source": [
    "* **Dataset 1 (Conflicto de 2014 a 2021)**"
   ]
  },
  {
   "cell_type": "code",
   "execution_count": 5,
   "id": "9a8c175b",
   "metadata": {},
   "outputs": [
    {
     "name": "stdout",
     "output_type": "stream",
     "text": [
      "(2990, 50)\n",
      "<class 'pandas.core.frame.DataFrame'>\n",
      "RangeIndex: 2990 entries, 0 to 2989\n",
      "Data columns (total 50 columns):\n",
      " #   Column             Non-Null Count  Dtype  \n",
      "---  ------             --------------  -----  \n",
      " 0   id                 2989 non-null   float64\n",
      " 1   relid              2989 non-null   object \n",
      " 2   year               2990 non-null   object \n",
      " 3   active_year        2989 non-null   float64\n",
      " 4   code_status        2989 non-null   object \n",
      " 5   type_of_violence   2989 non-null   float64\n",
      " 6   conflict_dset_id   2989 non-null   float64\n",
      " 7   conflict_new_id    2989 non-null   float64\n",
      " 8   conflict_name      2989 non-null   object \n",
      " 9   dyad_dset_id       2989 non-null   float64\n",
      " 10  dyad_new_id        2989 non-null   float64\n",
      " 11  dyad_name          2989 non-null   object \n",
      " 12  side_a_dset_id     2989 non-null   float64\n",
      " 13  side_a_new_id      2989 non-null   float64\n",
      " 14  side_a             2990 non-null   object \n",
      " 15  side_b_dset_id     2989 non-null   float64\n",
      " 16  side_b_new_id      2989 non-null   float64\n",
      " 17  side_b             2990 non-null   object \n",
      " 18  number_of_sources  2989 non-null   float64\n",
      " 19  source_article     2990 non-null   object \n",
      " 20  source_office      2989 non-null   object \n",
      " 21  source_date        2989 non-null   object \n",
      " 22  source_headline    2990 non-null   object \n",
      " 23  source_original    2971 non-null   object \n",
      " 24  where_prec         2989 non-null   float64\n",
      " 25  where_coordinates  2990 non-null   object \n",
      " 26  where_description  2679 non-null   object \n",
      " 27  adm_1              2762 non-null   object \n",
      " 28  adm_2              2283 non-null   object \n",
      " 29  latitude           2990 non-null   object \n",
      " 30  longitude          2990 non-null   object \n",
      " 31  geom_wkt           2989 non-null   object \n",
      " 32  priogrid_gid       2989 non-null   float64\n",
      " 33  country            2990 non-null   object \n",
      " 34  iso3               2990 non-null   object \n",
      " 35  country_id         2989 non-null   float64\n",
      " 36  region             2990 non-null   object \n",
      " 37  event_clarity      2989 non-null   float64\n",
      " 38  date_prec          2989 non-null   float64\n",
      " 39  date_start         2990 non-null   object \n",
      " 40  date_end           2990 non-null   object \n",
      " 41  deaths_a           2989 non-null   float64\n",
      " 42  deaths_b           2989 non-null   float64\n",
      " 43  deaths_civilians   2989 non-null   float64\n",
      " 44  deaths_unknown     2989 non-null   float64\n",
      " 45  best               2990 non-null   object \n",
      " 46  high               2989 non-null   float64\n",
      " 47  low                2989 non-null   float64\n",
      " 48  gwnoa              2988 non-null   float64\n",
      " 49  gwnob              0 non-null      float64\n",
      "dtypes: float64(25), object(25)\n",
      "memory usage: 1.1+ MB\n"
     ]
    }
   ],
   "source": [
    "print(df1.shape)\n",
    "df1.info()"
   ]
  },
  {
   "cell_type": "code",
   "execution_count": 6,
   "id": "df37eb92",
   "metadata": {},
   "outputs": [
    {
     "data": {
      "text/plain": [
       "0"
      ]
     },
     "execution_count": 6,
     "metadata": {},
     "output_type": "execute_result"
    }
   ],
   "source": [
    "df1.duplicated().sum()"
   ]
  },
  {
   "cell_type": "code",
   "execution_count": 7,
   "id": "8aaafa14",
   "metadata": {},
   "outputs": [
    {
     "data": {
      "text/plain": [
       "id                      1\n",
       "relid                   1\n",
       "year                    0\n",
       "active_year             1\n",
       "code_status             1\n",
       "type_of_violence        1\n",
       "conflict_dset_id        1\n",
       "conflict_new_id         1\n",
       "conflict_name           1\n",
       "dyad_dset_id            1\n",
       "dyad_new_id             1\n",
       "dyad_name               1\n",
       "side_a_dset_id          1\n",
       "side_a_new_id           1\n",
       "side_a                  0\n",
       "side_b_dset_id          1\n",
       "side_b_new_id           1\n",
       "side_b                  0\n",
       "number_of_sources       1\n",
       "source_article          0\n",
       "source_office           1\n",
       "source_date             1\n",
       "source_headline         0\n",
       "source_original        19\n",
       "where_prec              1\n",
       "where_coordinates       0\n",
       "where_description     311\n",
       "adm_1                 228\n",
       "adm_2                 707\n",
       "latitude                0\n",
       "longitude               0\n",
       "geom_wkt                1\n",
       "priogrid_gid            1\n",
       "country                 0\n",
       "iso3                    0\n",
       "country_id              1\n",
       "region                  0\n",
       "event_clarity           1\n",
       "date_prec               1\n",
       "date_start              0\n",
       "date_end                0\n",
       "deaths_a                1\n",
       "deaths_b                1\n",
       "deaths_civilians        1\n",
       "deaths_unknown          1\n",
       "best                    0\n",
       "high                    1\n",
       "low                     1\n",
       "gwnoa                   2\n",
       "gwnob                2990\n",
       "dtype: int64"
      ]
     },
     "execution_count": 7,
     "metadata": {},
     "output_type": "execute_result"
    }
   ],
   "source": [
    "df1.isnull().sum()"
   ]
  },
  {
   "cell_type": "code",
   "execution_count": 8,
   "id": "86dfb78b",
   "metadata": {},
   "outputs": [
    {
     "data": {
      "text/plain": [
       "id                   2989\n",
       "relid                2989\n",
       "year                    9\n",
       "active_year             2\n",
       "code_status             1\n",
       "type_of_violence        2\n",
       "conflict_dset_id        5\n",
       "conflict_new_id         5\n",
       "conflict_name           5\n",
       "dyad_dset_id            7\n",
       "dyad_new_id             7\n",
       "dyad_name               5\n",
       "side_a_dset_id          2\n",
       "side_a_new_id           2\n",
       "side_a                  3\n",
       "side_b_dset_id          7\n",
       "side_b_new_id           7\n",
       "side_b                  6\n",
       "number_of_sources      14\n",
       "source_article       2323\n",
       "source_office         279\n",
       "source_date          1508\n",
       "source_headline      1817\n",
       "source_original       812\n",
       "where_prec              7\n",
       "where_coordinates     402\n",
       "where_description    1569\n",
       "adm_1                   6\n",
       "adm_2                  65\n",
       "latitude              422\n",
       "longitude             424\n",
       "geom_wkt              424\n",
       "priogrid_gid           32\n",
       "country                 2\n",
       "iso3                    2\n",
       "country_id              1\n",
       "region                  2\n",
       "event_clarity           2\n",
       "date_prec               5\n",
       "date_start              2\n",
       "date_end                2\n",
       "deaths_a               21\n",
       "deaths_b               23\n",
       "deaths_civilians       21\n",
       "deaths_unknown         21\n",
       "best                   47\n",
       "high                   48\n",
       "low                    45\n",
       "gwnoa                   1\n",
       "gwnob                   0\n",
       "dtype: int64"
      ]
     },
     "execution_count": 8,
     "metadata": {},
     "output_type": "execute_result"
    }
   ],
   "source": [
    "# looking for numer of uninque values per feature\n",
    "df1.nunique()"
   ]
  },
  {
   "cell_type": "markdown",
   "id": "32b962b4",
   "metadata": {},
   "source": [
    "* **Dataset 2 (Conflicto de 2018 a 2023)**"
   ]
  },
  {
   "cell_type": "code",
   "execution_count": 9,
   "id": "330274cc",
   "metadata": {},
   "outputs": [
    {
     "name": "stdout",
     "output_type": "stream",
     "text": [
      "(96082, 31)\n",
      "<class 'pandas.core.frame.DataFrame'>\n",
      "RangeIndex: 96082 entries, 0 to 96081\n",
      "Data columns (total 31 columns):\n",
      " #   Column              Non-Null Count  Dtype  \n",
      "---  ------              --------------  -----  \n",
      " 0   EVENT_ID_CNTY       96082 non-null  object \n",
      " 1   EVENT_DATE          96082 non-null  object \n",
      " 2   YEAR                96082 non-null  int64  \n",
      " 3   TIME_PRECISION      96082 non-null  int64  \n",
      " 4   DISORDER_TYPE       96082 non-null  object \n",
      " 5   EVENT_TYPE          96082 non-null  object \n",
      " 6   SUB_EVENT_TYPE      96082 non-null  object \n",
      " 7   ACTOR1              96082 non-null  object \n",
      " 8   ASSOC_ACTOR_1       6488 non-null   object \n",
      " 9   INTER1              96082 non-null  int64  \n",
      " 10  ACTOR2              51829 non-null  object \n",
      " 11  ASSOC_ACTOR_2       14678 non-null  object \n",
      " 12  INTER2              96082 non-null  int64  \n",
      " 13  INTERACTION         96082 non-null  int64  \n",
      " 14  CIVILIAN_TARGETING  4188 non-null   object \n",
      " 15  ISO                 96082 non-null  int64  \n",
      " 16  REGION              96082 non-null  object \n",
      " 17  COUNTRY             96082 non-null  object \n",
      " 18  ADMIN1              96065 non-null  object \n",
      " 19  ADMIN2              95991 non-null  object \n",
      " 20  ADMIN3              93680 non-null  object \n",
      " 21  LOCATION            96082 non-null  object \n",
      " 22  LATITUDE            96082 non-null  float64\n",
      " 23  LONGITUDE           96082 non-null  float64\n",
      " 24  GEO_PRECISION       96082 non-null  int64  \n",
      " 25  SOURCE              96082 non-null  object \n",
      " 26  SOURCE_SCALE        96082 non-null  object \n",
      " 27  NOTES               96082 non-null  object \n",
      " 28  FATALITIES          96082 non-null  int64  \n",
      " 29  TAGS                5938 non-null   object \n",
      " 30  TIMESTAMP           96082 non-null  int64  \n",
      "dtypes: float64(2), int64(9), object(20)\n",
      "memory usage: 22.7+ MB\n"
     ]
    }
   ],
   "source": [
    "print(df2.shape)\n",
    "\n",
    "# general information of df2\n",
    "df2.info()"
   ]
  },
  {
   "cell_type": "code",
   "execution_count": 10,
   "id": "e2b16f29",
   "metadata": {
    "scrolled": true
   },
   "outputs": [
    {
     "data": {
      "text/plain": [
       "44253"
      ]
     },
     "execution_count": 10,
     "metadata": {},
     "output_type": "execute_result"
    }
   ],
   "source": [
    "# looking for null values from ACTOR2 in df2\n",
    "df2['ACTOR2'].isna().sum()"
   ]
  },
  {
   "cell_type": "code",
   "execution_count": 11,
   "id": "ccc1386f",
   "metadata": {},
   "outputs": [
    {
     "data": {
      "text/plain": [
       "Ukraine: Novorossiya                                                              2032\n",
       "Ukraine: Donetsk                                                                   656\n",
       "Ukraine: Lugansk                                                                   294\n",
       "Ukraine: Government                                                                  6\n",
       "Supporters of independence for Eastern Ukraine - Supporters of Ukrainian unity       1\n",
       "Name: conflict_name, dtype: int64"
      ]
     },
     "execution_count": 11,
     "metadata": {},
     "output_type": "execute_result"
    }
   ],
   "source": [
    "# looking for disorder type values \n",
    "df1.conflict_name.value_counts()"
   ]
  },
  {
   "cell_type": "code",
   "execution_count": 12,
   "id": "d9284a29",
   "metadata": {},
   "outputs": [
    {
     "data": {
      "text/plain": [
       "Government of Ukraine                             2988\n",
       "#group+name+first                                    1\n",
       "Supporters of independence for Eastern Ukraine       1\n",
       "Name: side_a, dtype: int64"
      ]
     },
     "execution_count": 12,
     "metadata": {},
     "output_type": "execute_result"
    }
   ],
   "source": [
    "df1.side_a.value_counts()"
   ]
  },
  {
   "cell_type": "code",
   "execution_count": 13,
   "id": "a7e49ced",
   "metadata": {},
   "outputs": [
    {
     "data": {
      "text/plain": [
       "Political violence                    87884\n",
       "Demonstrations                         5799\n",
       "Strategic developments                 2381\n",
       "Political violence; Demonstrations       18\n",
       "Name: DISORDER_TYPE, dtype: int64"
      ]
     },
     "execution_count": 13,
     "metadata": {},
     "output_type": "execute_result"
    }
   ],
   "source": [
    "# looking for disorder type values \n",
    "df2.DISORDER_TYPE.value_counts()"
   ]
  },
  {
   "cell_type": "code",
   "execution_count": 14,
   "id": "cb34b591",
   "metadata": {},
   "outputs": [
    {
     "data": {
      "text/plain": [
       "Donbass People's Militia                                                                                         9155\n",
       "Luhansk People's Militia                                                                                         2825\n",
       "Donbass People's Militia; Civilians (Ukraine)                                                                     638\n",
       "Civilians (Ukraine)                                                                                               272\n",
       "Luhansk People's Militia; Civilians (Ukraine)                                                                     161\n",
       "                                                                                                                 ... \n",
       "Lawyers (Ukraine); Former Government of Ukraine (2019-)                                                             1\n",
       "European Solidarity; Government of Ukraine (2019-)                                                                  1\n",
       "Refugees/IDPs (Afghanistan); Civilians (Syria); Refugees/IDPs (Syria); Civilians (Iran); Refugees/IDPs (Iran)       1\n",
       "Vidsich                                                                                                             1\n",
       "Civilians (Poland); Aid Workers (Poland)                                                                            1\n",
       "Name: ASSOC_ACTOR_2, Length: 378, dtype: int64"
      ]
     },
     "execution_count": 14,
     "metadata": {},
     "output_type": "execute_result"
    }
   ],
   "source": [
    "# looking for associated actors\n",
    "df2.ASSOC_ACTOR_2.value_counts()"
   ]
  },
  {
   "cell_type": "markdown",
   "id": "a4cef91a",
   "metadata": {},
   "source": [
    "### Observations"
   ]
  },
  {
   "cell_type": "markdown",
   "id": "ed4e1b6b",
   "metadata": {},
   "source": [
    "* First index of df1\n",
    "* Year of df1 as object type\n",
    "* Missing values in Actor 2 feature from df2\n",
    "* Datapoints from 2018-2021 not needed in df1\n",
    "* `deaths_a`, `deaths_b`, `deaths_civilians`, `deaths_unknown` features values\n",
    "* All df2 features in Uppercase\n",
    "* Features to delete from df1:\n",
    "    * id\n",
    "    * relid\n",
    "    * active_year\n",
    "    * code_status\n",
    "    * code_status\n",
    "    * code_status\n",
    "    * conflict_new_id\n",
    "    * conflict_name\n",
    "    * dyad_dset_id\n",
    "    * dyad_new_id\n",
    "    * dyad_name\n",
    "    * side_a_dset_id\n",
    "    * side_a_new_id\n",
    "    * side_b_dset_id\n",
    "    * side_b_dset_id\n",
    "    * number_of_sources\n",
    "    * source_article\n",
    "    * source_article\n",
    "    * source_date\n",
    "    * source_headline\n",
    "    * source_original\n",
    "    * where_prec\n",
    "    * where_description\n",
    "    * geom_wkt\n",
    "    * priogrid_gid\n",
    "    * country_id\n",
    "    * event_clarity\n",
    "    * date_prec\n",
    "    * date_start\n",
    "    * date_end\n",
    "    * date_end\n",
    "    * deaths_b\n",
    "    * deaths_civilians\n",
    "    * deaths_civilians\n",
    "    * best\n",
    "    * high\n",
    "    * low\n",
    "    * gwnoa\n",
    "    * gwnob\n",
    "* Features to delete from df2:\n",
    "    * EVENT_ID_CNTY\n",
    "    * EVENT_DATE\n",
    "    * TIME_PRECISION\n",
    "    * SOURCE\n",
    "    * SOURCE_SCALE\n",
    "    * NOTES\n",
    "    * TAGS\n",
    "    * TIMESTAMP\n",
    "* Unconcatenated datasets\n",
    "* Too many associated actors in a column.\n",
    "* `civilian_targeting` non-binary type"
   ]
  },
  {
   "cell_type": "markdown",
   "id": "7cdaa2e0",
   "metadata": {},
   "source": [
    "## Data Cleaning"
   ]
  },
  {
   "cell_type": "markdown",
   "id": "62e0dace",
   "metadata": {},
   "source": [
    "* Drop first index of df1 "
   ]
  },
  {
   "cell_type": "markdown",
   "id": "dd620a67",
   "metadata": {},
   "source": [
    "#### Code"
   ]
  },
  {
   "cell_type": "code",
   "execution_count": 15,
   "id": "6c1b78f7",
   "metadata": {},
   "outputs": [],
   "source": [
    "df1.drop(0, axis = 0, inplace = True)\n",
    "df1.reset_index(drop = True, inplace = True)"
   ]
  },
  {
   "cell_type": "markdown",
   "id": "2bc8f214",
   "metadata": {},
   "source": [
    "#### Test"
   ]
  },
  {
   "cell_type": "code",
   "execution_count": 16,
   "id": "3a806cad",
   "metadata": {},
   "outputs": [
    {
     "data": {
      "text/html": [
       "<div>\n",
       "<style scoped>\n",
       "    .dataframe tbody tr th:only-of-type {\n",
       "        vertical-align: middle;\n",
       "    }\n",
       "\n",
       "    .dataframe tbody tr th {\n",
       "        vertical-align: top;\n",
       "    }\n",
       "\n",
       "    .dataframe thead th {\n",
       "        text-align: right;\n",
       "    }\n",
       "</style>\n",
       "<table border=\"1\" class=\"dataframe\">\n",
       "  <thead>\n",
       "    <tr style=\"text-align: right;\">\n",
       "      <th></th>\n",
       "      <th>id</th>\n",
       "      <th>relid</th>\n",
       "      <th>year</th>\n",
       "      <th>active_year</th>\n",
       "      <th>code_status</th>\n",
       "      <th>type_of_violence</th>\n",
       "      <th>conflict_dset_id</th>\n",
       "      <th>conflict_new_id</th>\n",
       "      <th>conflict_name</th>\n",
       "      <th>dyad_dset_id</th>\n",
       "      <th>...</th>\n",
       "      <th>date_end</th>\n",
       "      <th>deaths_a</th>\n",
       "      <th>deaths_b</th>\n",
       "      <th>deaths_civilians</th>\n",
       "      <th>deaths_unknown</th>\n",
       "      <th>best</th>\n",
       "      <th>high</th>\n",
       "      <th>low</th>\n",
       "      <th>gwnoa</th>\n",
       "      <th>gwnob</th>\n",
       "    </tr>\n",
       "  </thead>\n",
       "  <tbody>\n",
       "    <tr>\n",
       "      <th>0</th>\n",
       "      <td>147997.0</td>\n",
       "      <td>UKR-2014-1-14085-0</td>\n",
       "      <td>2014</td>\n",
       "      <td>1.0</td>\n",
       "      <td>Clear</td>\n",
       "      <td>1.0</td>\n",
       "      <td>13219.0</td>\n",
       "      <td>13219.0</td>\n",
       "      <td>Ukraine: Government</td>\n",
       "      <td>14085.0</td>\n",
       "      <td>...</td>\n",
       "      <td>00:00.0</td>\n",
       "      <td>0.0</td>\n",
       "      <td>5.0</td>\n",
       "      <td>0.0</td>\n",
       "      <td>0.0</td>\n",
       "      <td>5</td>\n",
       "      <td>5.0</td>\n",
       "      <td>5.0</td>\n",
       "      <td>369.0</td>\n",
       "      <td>NaN</td>\n",
       "    </tr>\n",
       "    <tr>\n",
       "      <th>1</th>\n",
       "      <td>149221.0</td>\n",
       "      <td>UKR-2014-1-14085-1</td>\n",
       "      <td>2014</td>\n",
       "      <td>1.0</td>\n",
       "      <td>Clear</td>\n",
       "      <td>1.0</td>\n",
       "      <td>13219.0</td>\n",
       "      <td>13219.0</td>\n",
       "      <td>Ukraine: Government</td>\n",
       "      <td>14085.0</td>\n",
       "      <td>...</td>\n",
       "      <td>00:00.0</td>\n",
       "      <td>0.0</td>\n",
       "      <td>0.0</td>\n",
       "      <td>0.0</td>\n",
       "      <td>1.0</td>\n",
       "      <td>1</td>\n",
       "      <td>1.0</td>\n",
       "      <td>1.0</td>\n",
       "      <td>369.0</td>\n",
       "      <td>NaN</td>\n",
       "    </tr>\n",
       "    <tr>\n",
       "      <th>2</th>\n",
       "      <td>149248.0</td>\n",
       "      <td>UKR-2014-1-14085-3</td>\n",
       "      <td>2014</td>\n",
       "      <td>1.0</td>\n",
       "      <td>Clear</td>\n",
       "      <td>1.0</td>\n",
       "      <td>13219.0</td>\n",
       "      <td>13219.0</td>\n",
       "      <td>Ukraine: Government</td>\n",
       "      <td>14085.0</td>\n",
       "      <td>...</td>\n",
       "      <td>00:00.0</td>\n",
       "      <td>10.0</td>\n",
       "      <td>4.0</td>\n",
       "      <td>0.0</td>\n",
       "      <td>12.0</td>\n",
       "      <td>26</td>\n",
       "      <td>26.0</td>\n",
       "      <td>26.0</td>\n",
       "      <td>369.0</td>\n",
       "      <td>NaN</td>\n",
       "    </tr>\n",
       "    <tr>\n",
       "      <th>3</th>\n",
       "      <td>149249.0</td>\n",
       "      <td>UKR-2014-1-14085-4</td>\n",
       "      <td>2014</td>\n",
       "      <td>1.0</td>\n",
       "      <td>Clear</td>\n",
       "      <td>1.0</td>\n",
       "      <td>13219.0</td>\n",
       "      <td>13219.0</td>\n",
       "      <td>Ukraine: Government</td>\n",
       "      <td>14085.0</td>\n",
       "      <td>...</td>\n",
       "      <td>00:00.0</td>\n",
       "      <td>0.0</td>\n",
       "      <td>0.0</td>\n",
       "      <td>0.0</td>\n",
       "      <td>2.0</td>\n",
       "      <td>2</td>\n",
       "      <td>2.0</td>\n",
       "      <td>2.0</td>\n",
       "      <td>369.0</td>\n",
       "      <td>NaN</td>\n",
       "    </tr>\n",
       "    <tr>\n",
       "      <th>4</th>\n",
       "      <td>149251.0</td>\n",
       "      <td>UKR-2014-1-14085-6</td>\n",
       "      <td>2014</td>\n",
       "      <td>1.0</td>\n",
       "      <td>Clear</td>\n",
       "      <td>1.0</td>\n",
       "      <td>13219.0</td>\n",
       "      <td>13219.0</td>\n",
       "      <td>Ukraine: Government</td>\n",
       "      <td>14085.0</td>\n",
       "      <td>...</td>\n",
       "      <td>00:00.0</td>\n",
       "      <td>0.0</td>\n",
       "      <td>0.0</td>\n",
       "      <td>0.0</td>\n",
       "      <td>6.0</td>\n",
       "      <td>6</td>\n",
       "      <td>6.0</td>\n",
       "      <td>6.0</td>\n",
       "      <td>369.0</td>\n",
       "      <td>NaN</td>\n",
       "    </tr>\n",
       "  </tbody>\n",
       "</table>\n",
       "<p>5 rows × 50 columns</p>\n",
       "</div>"
      ],
      "text/plain": [
       "         id               relid  year  active_year code_status  \\\n",
       "0  147997.0  UKR-2014-1-14085-0  2014          1.0       Clear   \n",
       "1  149221.0  UKR-2014-1-14085-1  2014          1.0       Clear   \n",
       "2  149248.0  UKR-2014-1-14085-3  2014          1.0       Clear   \n",
       "3  149249.0  UKR-2014-1-14085-4  2014          1.0       Clear   \n",
       "4  149251.0  UKR-2014-1-14085-6  2014          1.0       Clear   \n",
       "\n",
       "   type_of_violence  conflict_dset_id  conflict_new_id        conflict_name  \\\n",
       "0               1.0           13219.0          13219.0  Ukraine: Government   \n",
       "1               1.0           13219.0          13219.0  Ukraine: Government   \n",
       "2               1.0           13219.0          13219.0  Ukraine: Government   \n",
       "3               1.0           13219.0          13219.0  Ukraine: Government   \n",
       "4               1.0           13219.0          13219.0  Ukraine: Government   \n",
       "\n",
       "   dyad_dset_id  ...  date_end deaths_a  deaths_b  deaths_civilians  \\\n",
       "0       14085.0  ...   00:00.0      0.0       5.0               0.0   \n",
       "1       14085.0  ...   00:00.0      0.0       0.0               0.0   \n",
       "2       14085.0  ...   00:00.0     10.0       4.0               0.0   \n",
       "3       14085.0  ...   00:00.0      0.0       0.0               0.0   \n",
       "4       14085.0  ...   00:00.0      0.0       0.0               0.0   \n",
       "\n",
       "  deaths_unknown  best  high   low  gwnoa gwnob  \n",
       "0            0.0     5   5.0   5.0  369.0   NaN  \n",
       "1            1.0     1   1.0   1.0  369.0   NaN  \n",
       "2           12.0    26  26.0  26.0  369.0   NaN  \n",
       "3            2.0     2   2.0   2.0  369.0   NaN  \n",
       "4            6.0     6   6.0   6.0  369.0   NaN  \n",
       "\n",
       "[5 rows x 50 columns]"
      ]
     },
     "execution_count": 16,
     "metadata": {},
     "output_type": "execute_result"
    }
   ],
   "source": [
    "df1.head()"
   ]
  },
  {
   "cell_type": "markdown",
   "id": "267fdf6f",
   "metadata": {},
   "source": [
    "* Change `year` of df1 to integer type"
   ]
  },
  {
   "cell_type": "markdown",
   "id": "85ae269a",
   "metadata": {},
   "source": [
    "#### Code"
   ]
  },
  {
   "cell_type": "code",
   "execution_count": 17,
   "id": "f9aab77b",
   "metadata": {},
   "outputs": [],
   "source": [
    "df1.year = df1.year.astype('int64')"
   ]
  },
  {
   "cell_type": "markdown",
   "id": "bd22d567",
   "metadata": {},
   "source": [
    "#### Test"
   ]
  },
  {
   "cell_type": "code",
   "execution_count": 18,
   "id": "2020f8e1",
   "metadata": {},
   "outputs": [
    {
     "data": {
      "text/plain": [
       "dtype('int64')"
      ]
     },
     "execution_count": 18,
     "metadata": {},
     "output_type": "execute_result"
    }
   ],
   "source": [
    "df1.year.dtype"
   ]
  },
  {
   "cell_type": "markdown",
   "id": "d1d956dd",
   "metadata": {},
   "source": [
    "* Imputing missing values in `Actor2` feature from df2 with 'None'"
   ]
  },
  {
   "cell_type": "markdown",
   "id": "f4601bdc",
   "metadata": {},
   "source": [
    "#### Code"
   ]
  },
  {
   "cell_type": "code",
   "execution_count": 19,
   "id": "f8aa8036",
   "metadata": {},
   "outputs": [],
   "source": [
    "df2.loc[df2['ACTOR2'].isna(), 'ACTOR2'] = 'None'"
   ]
  },
  {
   "cell_type": "markdown",
   "id": "bdf7c018",
   "metadata": {},
   "source": [
    "#### Test"
   ]
  },
  {
   "cell_type": "code",
   "execution_count": 20,
   "id": "d1d5ebd2",
   "metadata": {},
   "outputs": [
    {
     "data": {
      "text/plain": [
       "(44253, 31)"
      ]
     },
     "execution_count": 20,
     "metadata": {},
     "output_type": "execute_result"
    }
   ],
   "source": [
    "df2[df2['ACTOR2'] == 'None'].shape"
   ]
  },
  {
   "cell_type": "markdown",
   "id": "e9b55f7d",
   "metadata": {},
   "source": [
    "* Delete datapoints from 2018-2021 in df1"
   ]
  },
  {
   "cell_type": "markdown",
   "id": "1e33be88",
   "metadata": {},
   "source": [
    "#### Code"
   ]
  },
  {
   "cell_type": "code",
   "execution_count": 21,
   "id": "07df6e80",
   "metadata": {},
   "outputs": [
    {
     "data": {
      "text/plain": [
       "(2325, 50)"
      ]
     },
     "execution_count": 21,
     "metadata": {},
     "output_type": "execute_result"
    }
   ],
   "source": [
    "index = df1[df1.year >= 2018].index.values\n",
    "df1.drop(index, axis = 0, inplace = True)\n",
    "df1.shape"
   ]
  },
  {
   "cell_type": "markdown",
   "id": "b7c2a179",
   "metadata": {},
   "source": [
    "#### Test"
   ]
  },
  {
   "cell_type": "code",
   "execution_count": 22,
   "id": "fcb390ff",
   "metadata": {},
   "outputs": [
    {
     "data": {
      "text/html": [
       "<div>\n",
       "<style scoped>\n",
       "    .dataframe tbody tr th:only-of-type {\n",
       "        vertical-align: middle;\n",
       "    }\n",
       "\n",
       "    .dataframe tbody tr th {\n",
       "        vertical-align: top;\n",
       "    }\n",
       "\n",
       "    .dataframe thead th {\n",
       "        text-align: right;\n",
       "    }\n",
       "</style>\n",
       "<table border=\"1\" class=\"dataframe\">\n",
       "  <thead>\n",
       "    <tr style=\"text-align: right;\">\n",
       "      <th></th>\n",
       "      <th>id</th>\n",
       "      <th>relid</th>\n",
       "      <th>year</th>\n",
       "      <th>active_year</th>\n",
       "      <th>code_status</th>\n",
       "      <th>type_of_violence</th>\n",
       "      <th>conflict_dset_id</th>\n",
       "      <th>conflict_new_id</th>\n",
       "      <th>conflict_name</th>\n",
       "      <th>dyad_dset_id</th>\n",
       "      <th>...</th>\n",
       "      <th>date_end</th>\n",
       "      <th>deaths_a</th>\n",
       "      <th>deaths_b</th>\n",
       "      <th>deaths_civilians</th>\n",
       "      <th>deaths_unknown</th>\n",
       "      <th>best</th>\n",
       "      <th>high</th>\n",
       "      <th>low</th>\n",
       "      <th>gwnoa</th>\n",
       "      <th>gwnob</th>\n",
       "    </tr>\n",
       "  </thead>\n",
       "  <tbody>\n",
       "  </tbody>\n",
       "</table>\n",
       "<p>0 rows × 50 columns</p>\n",
       "</div>"
      ],
      "text/plain": [
       "Empty DataFrame\n",
       "Columns: [id, relid, year, active_year, code_status, type_of_violence, conflict_dset_id, conflict_new_id, conflict_name, dyad_dset_id, dyad_new_id, dyad_name, side_a_dset_id, side_a_new_id, side_a, side_b_dset_id, side_b_new_id, side_b, number_of_sources, source_article, source_office, source_date, source_headline, source_original, where_prec, where_coordinates, where_description, adm_1, adm_2, latitude, longitude, geom_wkt, priogrid_gid, country, iso3, country_id, region, event_clarity, date_prec, date_start, date_end, deaths_a, deaths_b, deaths_civilians, deaths_unknown, best, high, low, gwnoa, gwnob]\n",
       "Index: []\n",
       "\n",
       "[0 rows x 50 columns]"
      ]
     },
     "execution_count": 22,
     "metadata": {},
     "output_type": "execute_result"
    }
   ],
   "source": [
    "df1[df1.year >= 2018]"
   ]
  },
  {
   "cell_type": "markdown",
   "id": "4781c567",
   "metadata": {},
   "source": [
    "* Join `deaths_a`, `deaths_b`, `deaths_civilians`, `deaths_unknown` features values as `fatalities`"
   ]
  },
  {
   "cell_type": "markdown",
   "id": "48ae6198",
   "metadata": {},
   "source": [
    "#### Code"
   ]
  },
  {
   "cell_type": "code",
   "execution_count": 23,
   "id": "79a777e4",
   "metadata": {},
   "outputs": [],
   "source": [
    "# joining columns values into one new column\n",
    "a = df1.deaths_a.values\n",
    "b = df1.deaths_b.values\n",
    "c = df1.deaths_civilians.values\n",
    "d = df1.deaths_unknown.values\n",
    "df1['fatalities'] = a + b + c + d\n",
    "\n",
    "# dropping the columns\n",
    "df1.drop(columns = ['deaths_a', 'deaths_b', 'deaths_civilians', 'deaths_unknown'], inplace = True)"
   ]
  },
  {
   "cell_type": "markdown",
   "id": "dbe2b040",
   "metadata": {},
   "source": [
    "#### Test"
   ]
  },
  {
   "cell_type": "code",
   "execution_count": 24,
   "id": "e819623c",
   "metadata": {},
   "outputs": [
    {
     "name": "stdout",
     "output_type": "stream",
     "text": [
      "(2325, 47)\n"
     ]
    },
    {
     "data": {
      "text/plain": [
       "0        5.0\n",
       "1        1.0\n",
       "2       26.0\n",
       "3        2.0\n",
       "4        6.0\n",
       "        ... \n",
       "2828     1.0\n",
       "2829     4.0\n",
       "2830     1.0\n",
       "2831     1.0\n",
       "2832     1.0\n",
       "Name: fatalities, Length: 2325, dtype: float64"
      ]
     },
     "execution_count": 24,
     "metadata": {},
     "output_type": "execute_result"
    }
   ],
   "source": [
    "print(df1.shape)\n",
    "df1['fatalities']"
   ]
  },
  {
   "cell_type": "markdown",
   "id": "cb228318",
   "metadata": {},
   "source": [
    "*  Delete features from df1\n",
    "    * id\n",
    "    * relid\n",
    "    * active_year\n",
    "    * code_status \n",
    "    * conflict_new_id\n",
    "    * conflict_name\n",
    "    * dyad_dset_id\n",
    "    * dyad_new_id\n",
    "    * dyad_name\n",
    "    * side_a_dset_id\n",
    "    * side_a_new_id\n",
    "    * side_b_dset_id\n",
    "    * side_b_dset_id\n",
    "    * number_of_sources\n",
    "    * source_article\n",
    "    * source_article\n",
    "    * source_date\n",
    "    * source_headline\n",
    "    * source_original\n",
    "    * where_prec\n",
    "    * where_description\n",
    "    * geom_wkt\n",
    "    * priogrid_gid\n",
    "    * country_id\n",
    "    * event_clarity\n",
    "    * date_prec\n",
    "    * date_start\n",
    "    * date_end\n",
    "    * date_end\n",
    "    * deaths_b\n",
    "    * deaths_civilians\n",
    "    * deaths_civilians\n",
    "    * best\n",
    "    * high\n",
    "    * low\n",
    "    * gwnoa\n",
    "    * gwnob"
   ]
  },
  {
   "cell_type": "markdown",
   "id": "da9cac46",
   "metadata": {},
   "source": [
    "#### Code"
   ]
  },
  {
   "cell_type": "code",
   "execution_count": 25,
   "id": "b7af886e",
   "metadata": {},
   "outputs": [],
   "source": [
    "index = list(df1.columns[[0, 1]]) + df1.columns[3:8].tolist() + df1.columns[9:14].tolist() + list(df1.columns[[15, 16]]) + df1.columns[18:25].tolist() + [df1.columns[26]] + [df1.columns[31]] + [df1.columns[32]] + df1.columns[34:46].tolist()\n",
    "df1.drop(columns=index, inplace=True)"
   ]
  },
  {
   "cell_type": "markdown",
   "id": "68b7805c",
   "metadata": {},
   "source": [
    "#### Test"
   ]
  },
  {
   "cell_type": "code",
   "execution_count": 26,
   "id": "70432484",
   "metadata": {},
   "outputs": [
    {
     "data": {
      "text/plain": [
       "Index(['year', 'conflict_name', 'side_a', 'side_b', 'where_coordinates',\n",
       "       'adm_1', 'adm_2', 'latitude', 'longitude', 'country', 'fatalities'],\n",
       "      dtype='object')"
      ]
     },
     "execution_count": 26,
     "metadata": {},
     "output_type": "execute_result"
    }
   ],
   "source": [
    "df1.columns"
   ]
  },
  {
   "cell_type": "markdown",
   "id": "13aa6c66",
   "metadata": {},
   "source": [
    "*  Delete features from df2:\n",
    "    * EVENT_ID_CNTY\n",
    "    * EVENT_DATE\n",
    "    * TIME_PRECISION\n",
    "    * SOURCE\n",
    "    * SOURCE_SCALE\n",
    "    * NOTES\n",
    "    * TAGS\n",
    "    * TIMESTAMP"
   ]
  },
  {
   "cell_type": "markdown",
   "id": "6ef393a7",
   "metadata": {},
   "source": [
    "#### Code"
   ]
  },
  {
   "cell_type": "code",
   "execution_count": 27,
   "id": "82536b7c",
   "metadata": {},
   "outputs": [],
   "source": [
    "columns = ['EVENT_ID_CNTY', 'EVENT_DATE', 'TIME_PRECISION', 'SOURCE', 'SOURCE_SCALE', 'NOTES', 'TAGS', 'TIMESTAMP', 'REGION', 'ISO', 'GEO_PRECISION']\n",
    "df2.drop(columns = columns, inplace=True)"
   ]
  },
  {
   "cell_type": "markdown",
   "id": "9bf55ad6",
   "metadata": {},
   "source": [
    "#### Test"
   ]
  },
  {
   "cell_type": "code",
   "execution_count": 28,
   "id": "dd07d685",
   "metadata": {},
   "outputs": [
    {
     "data": {
      "text/plain": [
       "Index(['YEAR', 'DISORDER_TYPE', 'EVENT_TYPE', 'SUB_EVENT_TYPE', 'ACTOR1',\n",
       "       'ASSOC_ACTOR_1', 'INTER1', 'ACTOR2', 'ASSOC_ACTOR_2', 'INTER2',\n",
       "       'INTERACTION', 'CIVILIAN_TARGETING', 'COUNTRY', 'ADMIN1', 'ADMIN2',\n",
       "       'ADMIN3', 'LOCATION', 'LATITUDE', 'LONGITUDE', 'FATALITIES'],\n",
       "      dtype='object')"
      ]
     },
     "execution_count": 28,
     "metadata": {},
     "output_type": "execute_result"
    }
   ],
   "source": [
    "df2.columns"
   ]
  },
  {
   "cell_type": "markdown",
   "id": "8471c039",
   "metadata": {},
   "source": [
    "* Lowcase all df2 features"
   ]
  },
  {
   "cell_type": "markdown",
   "id": "1bed2bea",
   "metadata": {},
   "source": [
    "#### Code"
   ]
  },
  {
   "cell_type": "code",
   "execution_count": 29,
   "id": "f87fadcc",
   "metadata": {},
   "outputs": [],
   "source": [
    "df2.columns = df2.columns.str.lower()"
   ]
  },
  {
   "cell_type": "markdown",
   "id": "367ebee0",
   "metadata": {},
   "source": [
    "#### Test"
   ]
  },
  {
   "cell_type": "code",
   "execution_count": 30,
   "id": "0864f6df",
   "metadata": {},
   "outputs": [
    {
     "data": {
      "text/plain": [
       "Index(['year', 'disorder_type', 'event_type', 'sub_event_type', 'actor1',\n",
       "       'assoc_actor_1', 'inter1', 'actor2', 'assoc_actor_2', 'inter2',\n",
       "       'interaction', 'civilian_targeting', 'country', 'admin1', 'admin2',\n",
       "       'admin3', 'location', 'latitude', 'longitude', 'fatalities'],\n",
       "      dtype='object')"
      ]
     },
     "execution_count": 30,
     "metadata": {},
     "output_type": "execute_result"
    }
   ],
   "source": [
    "df2.columns"
   ]
  },
  {
   "cell_type": "markdown",
   "id": "49f31cfe",
   "metadata": {},
   "source": [
    "* Concatenate datasets"
   ]
  },
  {
   "cell_type": "markdown",
   "id": "8e05614e",
   "metadata": {},
   "source": [
    "#### Code"
   ]
  },
  {
   "cell_type": "code",
   "execution_count": 31,
   "id": "bce41dd1",
   "metadata": {},
   "outputs": [
    {
     "data": {
      "text/plain": [
       "Index(['year', 'conflict_name', 'side_a', 'side_b', 'where_coordinates',\n",
       "       'adm_1', 'adm_2', 'latitude', 'longitude', 'country', 'fatalities'],\n",
       "      dtype='object')"
      ]
     },
     "execution_count": 31,
     "metadata": {},
     "output_type": "execute_result"
    }
   ],
   "source": [
    "df1.columns"
   ]
  },
  {
   "cell_type": "code",
   "execution_count": 32,
   "id": "4134a3a0",
   "metadata": {},
   "outputs": [
    {
     "data": {
      "text/plain": [
       "Index(['year', 'disorder_type', 'event_type', 'sub_event_type', 'actor1',\n",
       "       'assoc_actor_1', 'inter1', 'actor2', 'assoc_actor_2', 'inter2',\n",
       "       'interaction', 'civilian_targeting', 'country', 'admin1', 'admin2',\n",
       "       'admin3', 'location', 'latitude', 'longitude', 'fatalities'],\n",
       "      dtype='object')"
      ]
     },
     "execution_count": 32,
     "metadata": {},
     "output_type": "execute_result"
    }
   ],
   "source": [
    "df2.columns"
   ]
  },
  {
   "cell_type": "code",
   "execution_count": 33,
   "id": "81b190cd",
   "metadata": {},
   "outputs": [],
   "source": [
    "df1.rename(columns = {'side_a' : 'actor1', 'side_b' : 'actor2', 'where_coordinates' : 'location', 'adm_1': 'admin1',\n",
    "                     'adm_2': 'admin2', 'conflict_name': 'disorder_type'}, inplace = True)"
   ]
  },
  {
   "cell_type": "code",
   "execution_count": 34,
   "id": "53d7cef0",
   "metadata": {},
   "outputs": [
    {
     "data": {
      "text/plain": [
       "Political violence    2324\n",
       "Demonstrations           1\n",
       "Name: disorder_type, dtype: int64"
      ]
     },
     "execution_count": 34,
     "metadata": {},
     "output_type": "execute_result"
    }
   ],
   "source": [
    "# replacing actor terms  Supporters\n",
    "df1.disorder_type = df1.disorder_type.apply(lambda x: 'Demonstrations' if 'Supporters' in x else 'Political violence')\n",
    "df1.disorder_type.value_counts()"
   ]
  },
  {
   "cell_type": "code",
   "execution_count": 35,
   "id": "958acb8b",
   "metadata": {},
   "outputs": [
    {
     "data": {
      "text/plain": [
       "Military Forces of Ukraine (2014-2019)            2324\n",
       "Supporters of independence for Eastern Ukraine       1\n",
       "Name: actor1, dtype: int64"
      ]
     },
     "execution_count": 35,
     "metadata": {},
     "output_type": "execute_result"
    }
   ],
   "source": [
    "# replacing actor terms\n",
    "df1.actor1 = df1.actor1.apply(lambda x: 'Military Forces of Ukraine (2014-2019)' if 'Government of Ukraine' in x else x)\n",
    "df1.actor2 = df1.actor2.apply(lambda x: 'Military Forces of Ukraine (2014-2019)' if 'Government of Ukraine' in x else x)\n",
    "df1.actor1.value_counts()"
   ]
  },
  {
   "cell_type": "code",
   "execution_count": 36,
   "id": "0241a092",
   "metadata": {},
   "outputs": [
    {
     "data": {
      "text/plain": [
       "DPR                                        1066\n",
       "NAF: United Armed Forces of Novorossiya     870\n",
       "LPR                                         382\n",
       "Maidan                                        6\n",
       "Supporters of Ukrainian unity                 1\n",
       "Name: actor2, dtype: int64"
      ]
     },
     "execution_count": 36,
     "metadata": {},
     "output_type": "execute_result"
    }
   ],
   "source": [
    "# replacing actor terms\n",
    "df1.actor1 = df1.actor1.apply(lambda x: 'NAF: United Armed Forces of Novorossiya' if 'United Armed Forces of Novorossiya' in x else x)\n",
    "df1.actor2 = df1.actor2.apply(lambda x: 'NAF: United Armed Forces of Novorossiya' if 'United Armed Forces of Novorossiya' in x else x)\n",
    "df1.actor2.value_counts()"
   ]
  },
  {
   "cell_type": "code",
   "execution_count": 37,
   "id": "885e4970",
   "metadata": {},
   "outputs": [
    {
     "data": {
      "text/plain": [
       "nan                                                                 89594\n",
       "Military Forces of Russia (2000-)                                    1064\n",
       "National Corps Party                                                  865\n",
       "Labor Group (Ukraine)                                                 614\n",
       "Military Forces of Russia (2000-) Air Force                           361\n",
       "                                                                    ...  \n",
       "Police Forces of Ukraine (2014-2019) Special Tasks Patrol Police        1\n",
       "Police Forces of Russia (2000-) Centre for Combating Extremism          1\n",
       "Journalists (International)                                             1\n",
       "KPU: Communist Party of Ukraine                                         1\n",
       "Civil Control                                                           1\n",
       "Name: assoc_actor_1, Length: 175, dtype: int64"
      ]
     },
     "execution_count": 37,
     "metadata": {},
     "output_type": "execute_result"
    }
   ],
   "source": [
    "# Spilt the string and keeping only the first associate actor\n",
    "df2.assoc_actor_1 = df2.assoc_actor_1.apply(lambda x: str(x).split(';')[0])\n",
    "df2.assoc_actor_2 = df2.assoc_actor_2.apply(lambda x: str(x).split(';')[0])\n",
    "df2.assoc_actor_1 = df2.assoc_actor_1.apply(lambda x: str(x).split(',')[0])\n",
    "df2.assoc_actor_2 = df2.assoc_actor_2.apply(lambda x: str(x).split(',')[0])\n",
    "df2.assoc_actor_1.value_counts()"
   ]
  },
  {
   "cell_type": "code",
   "execution_count": 38,
   "id": "a8320147",
   "metadata": {},
   "outputs": [
    {
     "data": {
      "text/plain": [
       "None                                                                89594\n",
       "Military Forces of Russia (2000-)                                    1064\n",
       "National Corps Party                                                  865\n",
       "Labor Group (Ukraine)                                                 614\n",
       "Military Forces of Russia (2000-) Air Force                           361\n",
       "                                                                    ...  \n",
       "Police Forces of Ukraine (2014-2019) Special Tasks Patrol Police        1\n",
       "Police Forces of Russia (2000-) Centre for Combating Extremism          1\n",
       "Journalists (International)                                             1\n",
       "KPU: Communist Party of Ukraine                                         1\n",
       "Civil Control                                                           1\n",
       "Name: assoc_actor_1, Length: 175, dtype: int64"
      ]
     },
     "execution_count": 38,
     "metadata": {},
     "output_type": "execute_result"
    }
   ],
   "source": [
    "# Imputing 'nan' value with 'None' \n",
    "df2.assoc_actor_1 = df2.assoc_actor_1.apply(lambda x: 'None' if 'nan' in x else x)\n",
    "df2.assoc_actor_2 = df2.assoc_actor_2.apply(lambda x: 'None' if 'nan' in x else x)\n",
    "df2.assoc_actor_1.value_counts()"
   ]
  },
  {
   "cell_type": "code",
   "execution_count": 39,
   "id": "1298f37c",
   "metadata": {},
   "outputs": [
    {
     "name": "stdout",
     "output_type": "stream",
     "text": [
      "<class 'pandas.core.frame.DataFrame'>\n",
      "Int64Index: 98407 entries, 0 to 2832\n",
      "Data columns (total 20 columns):\n",
      " #   Column              Non-Null Count  Dtype  \n",
      "---  ------              --------------  -----  \n",
      " 0   year                98407 non-null  int64  \n",
      " 1   disorder_type       98407 non-null  object \n",
      " 2   event_type          96082 non-null  object \n",
      " 3   sub_event_type      96082 non-null  object \n",
      " 4   actor1              98407 non-null  object \n",
      " 5   assoc_actor_1       96082 non-null  object \n",
      " 6   inter1              96082 non-null  float64\n",
      " 7   actor2              98407 non-null  object \n",
      " 8   assoc_actor_2       96082 non-null  object \n",
      " 9   inter2              96082 non-null  float64\n",
      " 10  interaction         96082 non-null  float64\n",
      " 11  civilian_targeting  4188 non-null   object \n",
      " 12  country             98407 non-null  object \n",
      " 13  admin1              98295 non-null  object \n",
      " 14  admin2              97978 non-null  object \n",
      " 15  admin3              93680 non-null  object \n",
      " 16  location            98407 non-null  object \n",
      " 17  latitude            98407 non-null  object \n",
      " 18  longitude           98407 non-null  object \n",
      " 19  fatalities          98407 non-null  float64\n",
      "dtypes: float64(4), int64(1), object(15)\n",
      "memory usage: 15.8+ MB\n"
     ]
    }
   ],
   "source": [
    "# Concatenating the two dataframes\n",
    "df = pd.concat([df2, df1], axis = 0)\n",
    "df.info()"
   ]
  },
  {
   "cell_type": "markdown",
   "id": "fe949ba2",
   "metadata": {},
   "source": [
    "#### Test"
   ]
  },
  {
   "cell_type": "code",
   "execution_count": 40,
   "id": "319ed80a",
   "metadata": {},
   "outputs": [
    {
     "name": "stdout",
     "output_type": "stream",
     "text": [
      "(98407, 20)\n"
     ]
    },
    {
     "data": {
      "text/plain": [
       "Index(['year', 'disorder_type', 'event_type', 'sub_event_type', 'actor1',\n",
       "       'assoc_actor_1', 'inter1', 'actor2', 'assoc_actor_2', 'inter2',\n",
       "       'interaction', 'civilian_targeting', 'country', 'admin1', 'admin2',\n",
       "       'admin3', 'location', 'latitude', 'longitude', 'fatalities'],\n",
       "      dtype='object')"
      ]
     },
     "execution_count": 40,
     "metadata": {},
     "output_type": "execute_result"
    }
   ],
   "source": [
    "print(df.shape)\n",
    "df.columns"
   ]
  },
  {
   "cell_type": "markdown",
   "id": "a0740d4f",
   "metadata": {},
   "source": [
    "* Impute `None` or `0` to `NaN` values"
   ]
  },
  {
   "cell_type": "markdown",
   "id": "c4466ce2",
   "metadata": {},
   "source": [
    "#### Code"
   ]
  },
  {
   "cell_type": "code",
   "execution_count": 41,
   "id": "7d5e7250",
   "metadata": {
    "scrolled": false
   },
   "outputs": [],
   "source": [
    "def isNaNtoNone(column):\n",
    "    column = column.apply(lambda x: 'None' if pd.isna(x) else x)\n",
    "    return column\n",
    "def isNaNto0(column):\n",
    "    column = column.apply(lambda x: int(0) if pd.isna(x) else x)\n",
    "    return column"
   ]
  },
  {
   "cell_type": "code",
   "execution_count": 42,
   "id": "ff836cfd",
   "metadata": {},
   "outputs": [],
   "source": [
    "for i in df.columns:\n",
    "    if df[i].dtype == 'object':\n",
    "        df[i] = isNaNtoNone(df[i])\n",
    "    else:\n",
    "        df[i] = isNaNto0(df[i])"
   ]
  },
  {
   "cell_type": "markdown",
   "id": "7679d5d8",
   "metadata": {},
   "source": [
    "#### Test"
   ]
  },
  {
   "cell_type": "code",
   "execution_count": 43,
   "id": "a88e293b",
   "metadata": {},
   "outputs": [
    {
     "data": {
      "text/html": [
       "<div>\n",
       "<style scoped>\n",
       "    .dataframe tbody tr th:only-of-type {\n",
       "        vertical-align: middle;\n",
       "    }\n",
       "\n",
       "    .dataframe tbody tr th {\n",
       "        vertical-align: top;\n",
       "    }\n",
       "\n",
       "    .dataframe thead th {\n",
       "        text-align: right;\n",
       "    }\n",
       "</style>\n",
       "<table border=\"1\" class=\"dataframe\">\n",
       "  <thead>\n",
       "    <tr style=\"text-align: right;\">\n",
       "      <th></th>\n",
       "      <th>year</th>\n",
       "      <th>disorder_type</th>\n",
       "      <th>event_type</th>\n",
       "      <th>sub_event_type</th>\n",
       "      <th>actor1</th>\n",
       "      <th>assoc_actor_1</th>\n",
       "      <th>inter1</th>\n",
       "      <th>actor2</th>\n",
       "      <th>assoc_actor_2</th>\n",
       "      <th>inter2</th>\n",
       "      <th>interaction</th>\n",
       "      <th>civilian_targeting</th>\n",
       "      <th>country</th>\n",
       "      <th>admin1</th>\n",
       "      <th>admin2</th>\n",
       "      <th>admin3</th>\n",
       "      <th>location</th>\n",
       "      <th>latitude</th>\n",
       "      <th>longitude</th>\n",
       "      <th>fatalities</th>\n",
       "    </tr>\n",
       "  </thead>\n",
       "  <tbody>\n",
       "    <tr>\n",
       "      <th>0</th>\n",
       "      <td>2019</td>\n",
       "      <td>Political violence</td>\n",
       "      <td>Violence against civilians</td>\n",
       "      <td>Attack</td>\n",
       "      <td>Police Forces of Romania (2016-2019) Coast Guard</td>\n",
       "      <td>None</td>\n",
       "      <td>1.0</td>\n",
       "      <td>Civilians (Turkey)</td>\n",
       "      <td>Fishers (Turkey)</td>\n",
       "      <td>7.0</td>\n",
       "      <td>17.0</td>\n",
       "      <td>Civilian targeting</td>\n",
       "      <td>Romania</td>\n",
       "      <td>Constanta</td>\n",
       "      <td>None</td>\n",
       "      <td>None</td>\n",
       "      <td>Coast of Constanta</td>\n",
       "      <td>44.156</td>\n",
       "      <td>28.948</td>\n",
       "      <td>0.0</td>\n",
       "    </tr>\n",
       "    <tr>\n",
       "      <th>1</th>\n",
       "      <td>2022</td>\n",
       "      <td>Strategic developments</td>\n",
       "      <td>Strategic developments</td>\n",
       "      <td>Disrupted weapons use</td>\n",
       "      <td>Military Forces of Romania (2021-)</td>\n",
       "      <td>None</td>\n",
       "      <td>1.0</td>\n",
       "      <td>Unidentified Military Forces</td>\n",
       "      <td>None</td>\n",
       "      <td>8.0</td>\n",
       "      <td>18.0</td>\n",
       "      <td>None</td>\n",
       "      <td>Romania</td>\n",
       "      <td>Constanta</td>\n",
       "      <td>None</td>\n",
       "      <td>None</td>\n",
       "      <td>Coast of Constanta</td>\n",
       "      <td>44.156</td>\n",
       "      <td>28.948</td>\n",
       "      <td>0.0</td>\n",
       "    </tr>\n",
       "    <tr>\n",
       "      <th>2</th>\n",
       "      <td>2022</td>\n",
       "      <td>Demonstrations</td>\n",
       "      <td>Protests</td>\n",
       "      <td>Peaceful protest</td>\n",
       "      <td>Protesters (Romania)</td>\n",
       "      <td>Greenpeace</td>\n",
       "      <td>6.0</td>\n",
       "      <td>None</td>\n",
       "      <td>None</td>\n",
       "      <td>0.0</td>\n",
       "      <td>60.0</td>\n",
       "      <td>None</td>\n",
       "      <td>Romania</td>\n",
       "      <td>Constanta</td>\n",
       "      <td>None</td>\n",
       "      <td>None</td>\n",
       "      <td>Coast of Constanta</td>\n",
       "      <td>44.156</td>\n",
       "      <td>28.948</td>\n",
       "      <td>0.0</td>\n",
       "    </tr>\n",
       "  </tbody>\n",
       "</table>\n",
       "</div>"
      ],
      "text/plain": [
       "   year           disorder_type                  event_type  \\\n",
       "0  2019      Political violence  Violence against civilians   \n",
       "1  2022  Strategic developments      Strategic developments   \n",
       "2  2022          Demonstrations                    Protests   \n",
       "\n",
       "          sub_event_type                                            actor1  \\\n",
       "0                 Attack  Police Forces of Romania (2016-2019) Coast Guard   \n",
       "1  Disrupted weapons use                Military Forces of Romania (2021-)   \n",
       "2       Peaceful protest                              Protesters (Romania)   \n",
       "\n",
       "  assoc_actor_1  inter1                        actor2     assoc_actor_2  \\\n",
       "0          None     1.0            Civilians (Turkey)  Fishers (Turkey)   \n",
       "1          None     1.0  Unidentified Military Forces              None   \n",
       "2    Greenpeace     6.0                          None              None   \n",
       "\n",
       "   inter2  interaction  civilian_targeting  country     admin1 admin2 admin3  \\\n",
       "0     7.0         17.0  Civilian targeting  Romania  Constanta   None   None   \n",
       "1     8.0         18.0                None  Romania  Constanta   None   None   \n",
       "2     0.0         60.0                None  Romania  Constanta   None   None   \n",
       "\n",
       "             location latitude longitude  fatalities  \n",
       "0  Coast of Constanta   44.156    28.948         0.0  \n",
       "1  Coast of Constanta   44.156    28.948         0.0  \n",
       "2  Coast of Constanta   44.156    28.948         0.0  "
      ]
     },
     "execution_count": 43,
     "metadata": {},
     "output_type": "execute_result"
    }
   ],
   "source": [
    "df.head(3)"
   ]
  },
  {
   "cell_type": "markdown",
   "id": "124149a4",
   "metadata": {},
   "source": [
    "* Transform `civilian_targeting` to binary type and transform `latitude` and `longitude` to float type"
   ]
  },
  {
   "cell_type": "markdown",
   "id": "eb07a891",
   "metadata": {},
   "source": [
    "#### Code"
   ]
  },
  {
   "cell_type": "code",
   "execution_count": 44,
   "id": "f199bfd2",
   "metadata": {},
   "outputs": [],
   "source": [
    "# transform civilian_targeting to binary type\n",
    "df.civilian_targeting = df.civilian_targeting.apply(lambda x: '1' if 'Civilian targeting' in x else '0')\n",
    "df.civilian_targeting = df.civilian_targeting.astype(int)\n",
    "\n",
    "# transform latitude and longitude to float type\n",
    "df.latitude = df.latitude.astype(float)\n",
    "df.longitude = df.longitude.astype(float)"
   ]
  },
  {
   "cell_type": "markdown",
   "id": "4d7c1abb",
   "metadata": {},
   "source": [
    "#### Test"
   ]
  },
  {
   "cell_type": "code",
   "execution_count": 45,
   "id": "180df144",
   "metadata": {},
   "outputs": [
    {
     "name": "stdout",
     "output_type": "stream",
     "text": [
      "float64\n"
     ]
    },
    {
     "data": {
      "text/plain": [
       "0    94219\n",
       "1     4188\n",
       "Name: civilian_targeting, dtype: int64"
      ]
     },
     "execution_count": 45,
     "metadata": {},
     "output_type": "execute_result"
    }
   ],
   "source": [
    "print(df.latitude.dtype)\n",
    "df.civilian_targeting.value_counts()"
   ]
  },
  {
   "cell_type": "markdown",
   "id": "bf828bde",
   "metadata": {},
   "source": [
    "### Saving Cleaned Dataset"
   ]
  },
  {
   "cell_type": "code",
   "execution_count": 46,
   "id": "95df6519",
   "metadata": {},
   "outputs": [],
   "source": [
    "df.to_csv('./Datasets/Ukraine_Conflict_cleaned-14-23.csv', index = False)"
   ]
  },
  {
   "cell_type": "markdown",
   "id": "be4859f0",
   "metadata": {},
   "source": [
    "## Pre-Processing and Normalization"
   ]
  },
  {
   "cell_type": "code",
   "execution_count": 47,
   "id": "7764dce5",
   "metadata": {},
   "outputs": [],
   "source": [
    "# listing categorical and numerical features\n",
    "categorical_features = ['disorder_type', 'event_type', 'sub_event_type', 'actor1', 'assoc_actor_1', 'actor2', 'assoc_actor_2',\n",
    "                        'country', 'admin1', 'admin2', 'admin3', 'location']\n",
    "numeric_features = ['year', 'civilian_targeting', 'inter1', 'inter2', 'interaction', 'latitude', 'longitude', 'fatalities']\n",
    "\n",
    "x_cat_features = ['disorder_type', 'event_type', 'actor1', 'assoc_actor_1', 'actor2', 'assoc_actor_2', 'country', 'admin1',\n",
    "                  'admin2', 'admin3', 'location']\n",
    "y_cat_features = ['sub_event_type']\n",
    "\n",
    "x_num_features = ['year', 'inter1', 'inter2', 'interaction', 'latitude', 'longitude', 'fatalities']\n",
    "y_num_features = ['civilian_targeting']"
   ]
  },
  {
   "cell_type": "markdown",
   "id": "4f2bd678",
   "metadata": {},
   "source": [
    "* Label encoding "
   ]
  },
  {
   "cell_type": "code",
   "execution_count": 48,
   "id": "49e66222",
   "metadata": {},
   "outputs": [],
   "source": [
    "from sklearn.preprocessing import LabelEncoder\n",
    "\n",
    "# Create an instance of LabelEncoder for each categorical feature\n",
    "label_encoders = {}\n",
    "for i in categorical_features:\n",
    "    label_encoders[i] = LabelEncoder()\n",
    "\n",
    "# Fit LabelEncoder on the data for each categorical feature\n",
    "for i in categorical_features:\n",
    "    label_encoders[i].fit(df[i])\n",
    "\n",
    "# Save Label encoders\n",
    "import joblib\n",
    "joblib.dump(label_encoders, 'Label_Encoders')\n",
    "\n",
    "# Encode the categorical features in x using LabelEncoder\n",
    "encoded_x_categorical = np.zeros((len(df), len(x_cat_features)))\n",
    "for i, feature in enumerate(x_cat_features):\n",
    "    encoded_x_categorical[:, i] = label_encoders[feature].transform(df[feature])\n",
    "\n",
    "# Encode the categorical features in y using LabelEncoder\n",
    "encoded_y_categorical = np.zeros((len(df), len(y_cat_features)))\n",
    "for i, feature in enumerate(y_cat_features):\n",
    "    encoded_y_categorical[:, i] = label_encoders[feature].transform(df[feature])\n",
    "\n",
    "# Combine encoded_x_categorical and x_num_features to create x input\n",
    "x_cat_df = pd.DataFrame(encoded_x_categorical, columns=x_cat_features)\n",
    "x_num_df = df[x_num_features].reset_index(drop=True)\n",
    "x = pd.concat([x_cat_df, x_num_df], axis=1)\n",
    "\n",
    "# Combine encoded_y_categorical and y_num_features to create y\n",
    "y_cat_df = pd.DataFrame(encoded_y_categorical, columns=y_cat_features)\n",
    "y_num_df = df[y_num_features].reset_index(drop=True)\n",
    "y = pd.concat([y_cat_df, y_num_df], axis=1)"
   ]
  },
  {
   "cell_type": "code",
   "execution_count": 49,
   "id": "496fc579",
   "metadata": {},
   "outputs": [
    {
     "data": {
      "text/html": [
       "<div>\n",
       "<style scoped>\n",
       "    .dataframe tbody tr th:only-of-type {\n",
       "        vertical-align: middle;\n",
       "    }\n",
       "\n",
       "    .dataframe tbody tr th {\n",
       "        vertical-align: top;\n",
       "    }\n",
       "\n",
       "    .dataframe thead th {\n",
       "        text-align: right;\n",
       "    }\n",
       "</style>\n",
       "<table border=\"1\" class=\"dataframe\">\n",
       "  <thead>\n",
       "    <tr style=\"text-align: right;\">\n",
       "      <th></th>\n",
       "      <th>disorder_type</th>\n",
       "      <th>event_type</th>\n",
       "      <th>actor1</th>\n",
       "      <th>assoc_actor_1</th>\n",
       "      <th>actor2</th>\n",
       "      <th>assoc_actor_2</th>\n",
       "      <th>country</th>\n",
       "      <th>admin1</th>\n",
       "      <th>admin2</th>\n",
       "      <th>admin3</th>\n",
       "      <th>location</th>\n",
       "      <th>year</th>\n",
       "      <th>inter1</th>\n",
       "      <th>inter2</th>\n",
       "      <th>interaction</th>\n",
       "      <th>latitude</th>\n",
       "      <th>longitude</th>\n",
       "      <th>fatalities</th>\n",
       "    </tr>\n",
       "  </thead>\n",
       "  <tbody>\n",
       "    <tr>\n",
       "      <th>0</th>\n",
       "      <td>1.0</td>\n",
       "      <td>6.0</td>\n",
       "      <td>64.0</td>\n",
       "      <td>95.0</td>\n",
       "      <td>19.0</td>\n",
       "      <td>36.0</td>\n",
       "      <td>0.0</td>\n",
       "      <td>3.0</td>\n",
       "      <td>118.0</td>\n",
       "      <td>392.0</td>\n",
       "      <td>333.0</td>\n",
       "      <td>2019</td>\n",
       "      <td>1.0</td>\n",
       "      <td>7.0</td>\n",
       "      <td>17.0</td>\n",
       "      <td>44.156</td>\n",
       "      <td>28.948</td>\n",
       "      <td>0.0</td>\n",
       "    </tr>\n",
       "    <tr>\n",
       "      <th>1</th>\n",
       "      <td>3.0</td>\n",
       "      <td>5.0</td>\n",
       "      <td>31.0</td>\n",
       "      <td>95.0</td>\n",
       "      <td>90.0</td>\n",
       "      <td>106.0</td>\n",
       "      <td>0.0</td>\n",
       "      <td>3.0</td>\n",
       "      <td>118.0</td>\n",
       "      <td>392.0</td>\n",
       "      <td>333.0</td>\n",
       "      <td>2022</td>\n",
       "      <td>1.0</td>\n",
       "      <td>8.0</td>\n",
       "      <td>18.0</td>\n",
       "      <td>44.156</td>\n",
       "      <td>28.948</td>\n",
       "      <td>0.0</td>\n",
       "    </tr>\n",
       "    <tr>\n",
       "      <th>2</th>\n",
       "      <td>0.0</td>\n",
       "      <td>3.0</td>\n",
       "      <td>89.0</td>\n",
       "      <td>51.0</td>\n",
       "      <td>58.0</td>\n",
       "      <td>106.0</td>\n",
       "      <td>0.0</td>\n",
       "      <td>3.0</td>\n",
       "      <td>118.0</td>\n",
       "      <td>392.0</td>\n",
       "      <td>333.0</td>\n",
       "      <td>2022</td>\n",
       "      <td>6.0</td>\n",
       "      <td>0.0</td>\n",
       "      <td>60.0</td>\n",
       "      <td>44.156</td>\n",
       "      <td>28.948</td>\n",
       "      <td>0.0</td>\n",
       "    </tr>\n",
       "    <tr>\n",
       "      <th>3</th>\n",
       "      <td>3.0</td>\n",
       "      <td>5.0</td>\n",
       "      <td>31.0</td>\n",
       "      <td>95.0</td>\n",
       "      <td>86.0</td>\n",
       "      <td>106.0</td>\n",
       "      <td>0.0</td>\n",
       "      <td>3.0</td>\n",
       "      <td>118.0</td>\n",
       "      <td>392.0</td>\n",
       "      <td>333.0</td>\n",
       "      <td>2022</td>\n",
       "      <td>1.0</td>\n",
       "      <td>3.0</td>\n",
       "      <td>13.0</td>\n",
       "      <td>44.156</td>\n",
       "      <td>28.948</td>\n",
       "      <td>0.0</td>\n",
       "    </tr>\n",
       "    <tr>\n",
       "      <th>4</th>\n",
       "      <td>0.0</td>\n",
       "      <td>3.0</td>\n",
       "      <td>89.0</td>\n",
       "      <td>51.0</td>\n",
       "      <td>58.0</td>\n",
       "      <td>106.0</td>\n",
       "      <td>0.0</td>\n",
       "      <td>3.0</td>\n",
       "      <td>118.0</td>\n",
       "      <td>392.0</td>\n",
       "      <td>333.0</td>\n",
       "      <td>2022</td>\n",
       "      <td>6.0</td>\n",
       "      <td>0.0</td>\n",
       "      <td>60.0</td>\n",
       "      <td>44.156</td>\n",
       "      <td>28.948</td>\n",
       "      <td>0.0</td>\n",
       "    </tr>\n",
       "  </tbody>\n",
       "</table>\n",
       "</div>"
      ],
      "text/plain": [
       "   disorder_type  event_type  actor1  assoc_actor_1  actor2  assoc_actor_2  \\\n",
       "0            1.0         6.0    64.0           95.0    19.0           36.0   \n",
       "1            3.0         5.0    31.0           95.0    90.0          106.0   \n",
       "2            0.0         3.0    89.0           51.0    58.0          106.0   \n",
       "3            3.0         5.0    31.0           95.0    86.0          106.0   \n",
       "4            0.0         3.0    89.0           51.0    58.0          106.0   \n",
       "\n",
       "   country  admin1  admin2  admin3  location  year  inter1  inter2  \\\n",
       "0      0.0     3.0   118.0   392.0     333.0  2019     1.0     7.0   \n",
       "1      0.0     3.0   118.0   392.0     333.0  2022     1.0     8.0   \n",
       "2      0.0     3.0   118.0   392.0     333.0  2022     6.0     0.0   \n",
       "3      0.0     3.0   118.0   392.0     333.0  2022     1.0     3.0   \n",
       "4      0.0     3.0   118.0   392.0     333.0  2022     6.0     0.0   \n",
       "\n",
       "   interaction  latitude  longitude  fatalities  \n",
       "0         17.0    44.156     28.948         0.0  \n",
       "1         18.0    44.156     28.948         0.0  \n",
       "2         60.0    44.156     28.948         0.0  \n",
       "3         13.0    44.156     28.948         0.0  \n",
       "4         60.0    44.156     28.948         0.0  "
      ]
     },
     "execution_count": 49,
     "metadata": {},
     "output_type": "execute_result"
    }
   ],
   "source": [
    "x.head()"
   ]
  },
  {
   "cell_type": "markdown",
   "id": "6b70e9bb",
   "metadata": {},
   "source": [
    "* Layer Parameters "
   ]
  },
  {
   "cell_type": "code",
   "execution_count": 51,
   "id": "43ee2203",
   "metadata": {},
   "outputs": [
    {
     "name": "stdout",
     "output_type": "stream",
     "text": [
      "Input Dimension: 4421\n",
      "Output Dimension: 64\n"
     ]
    }
   ],
   "source": [
    "# Determine the input_dim and input_length\n",
    "input_dim = sum(len(label_encoders[feature].classes_) for feature in categorical_features) - len(label_encoders['sub_event_type'].classes_)\n",
    "output_dim = 64\n",
    "num_num_input = 7 #numeric features\n",
    "num_cat_input = 11 #sequence features\n",
    "\n",
    "print(\"Input Dimension:\", input_dim)\n",
    "print(\"Output Dimension:\", output_dim)"
   ]
  },
  {
   "cell_type": "markdown",
   "id": "7c26f940",
   "metadata": {},
   "source": [
    "### Split Data for Training and Testing"
   ]
  },
  {
   "cell_type": "code",
   "execution_count": 52,
   "id": "41d88bff",
   "metadata": {},
   "outputs": [],
   "source": [
    "from sklearn.model_selection import train_test_split\n",
    "\n",
    "# Select categorical features from x and y\n",
    "x_categorical = x[x_cat_features].values\n",
    "x_numerical = x[x_num_features].values\n",
    "y_categorical = y[y_cat_features].values\n",
    "y_numerical = y[y_num_features].values\n",
    "\n",
    "# Split categorical tensors\n",
    "x_categorical_train, x_categorical_test, y_categorical_train, y_categorical_test = train_test_split(\n",
    "    x_categorical, y_categorical, train_size=0.7, random_state=42)\n",
    "\n",
    "# Split numerical tensors\n",
    "x_numerical_train, x_numerical_test, y_numerical_train, y_numerical_test = train_test_split(\n",
    "    x_numerical, y_numerical, train_size = 0.7, random_state = 42 )"
   ]
  },
  {
   "cell_type": "markdown",
   "id": "239ceedd",
   "metadata": {},
   "source": [
    "### Recurrent Neural Network\n",
    "\n",
    "Using RNN (Recurrent Neural Network), which can handle categorical variables without explicit one-hot encoding. Its architecture can often process categorical variables as integer or ordinal values directly."
   ]
  },
  {
   "cell_type": "code",
   "execution_count": 53,
   "id": "ae3a018d",
   "metadata": {},
   "outputs": [
    {
     "name": "stdout",
     "output_type": "stream",
     "text": [
      "Model: \"model\"\n",
      "__________________________________________________________________________________________________\n",
      " Layer (type)                   Output Shape         Param #     Connected to                     \n",
      "==================================================================================================\n",
      " input_1 (InputLayer)           [(None, 11)]         0           []                               \n",
      "                                                                                                  \n",
      " embedding (Embedding)          (None, 11, 64)       282944      ['input_1[0][0]']                \n",
      "                                                                                                  \n",
      " lstm (LSTM)                    (None, 32)           12416       ['embedding[0][0]']              \n",
      "                                                                                                  \n",
      " input_2 (InputLayer)           [(None, 7)]          0           []                               \n",
      "                                                                                                  \n",
      " concatenate (Concatenate)      (None, 39)           0           ['lstm[0][0]',                   \n",
      "                                                                  'input_2[0][0]']                \n",
      "                                                                                                  \n",
      " dense (Dense)                  (None, 128)          5120        ['concatenate[0][0]']            \n",
      "                                                                                                  \n",
      " dense_1 (Dense)                (None, 128)          16512       ['dense[0][0]']                  \n",
      "                                                                                                  \n",
      " subevent_output (Dense)        (None, 25)           3225        ['dense_1[0][0]']                \n",
      "                                                                                                  \n",
      " civilian_output (Dense)        (None, 1)            129         ['dense_1[0][0]']                \n",
      "                                                                                                  \n",
      "==================================================================================================\n",
      "Total params: 320,346\n",
      "Trainable params: 320,346\n",
      "Non-trainable params: 0\n",
      "__________________________________________________________________________________________________\n"
     ]
    }
   ],
   "source": [
    "from tensorflow.keras.layers import Input, Embedding, LSTM, Dense, concatenate\n",
    "from tensorflow.keras.models import Model\n",
    "from tensorflow.keras import regularizers\n",
    "\n",
    "# define regularizer\n",
    "regularizer = regularizers.l1(0.01)\n",
    "\n",
    "# Define input shape for categorical features and numerical features\n",
    "input_categorical = Input(shape=(num_cat_input,))\n",
    "input_numerical = Input(shape=(num_num_input,))\n",
    "\n",
    "# Embedding layer for categorical features\n",
    "embedded_categorical = Embedding(input_dim, output_dim)(input_categorical)\n",
    "\n",
    "# LSTM layer for sequence processing\n",
    "lstm_output = LSTM(units=32)(embedded_categorical)\n",
    "\n",
    "# Concatenate LSTM output with numerical input\n",
    "concatenated = concatenate([lstm_output, input_numerical])\n",
    "\n",
    "# Dense layers for classification\n",
    "dense_units = 128\n",
    "dense1 = Dense(units=dense_units, activation='relu', kernel_regularizer = regularizer )(concatenated)\n",
    "dense2 = Dense(units=dense_units, activation='relu', kernel_regularizer = regularizer)(dense1)\n",
    "\n",
    "# Output for subevent_output prediction (categorical)\n",
    "subevent_output = Dense(units=25, activation='softmax', name='subevent_output')(dense2)\n",
    "\n",
    "# Output for civilian_output prediction (binary)\n",
    "civilian_output = Dense(units=1, activation='sigmoid', name='civilian_output')(dense2)\n",
    "\n",
    "# Create the model\n",
    "model = Model(inputs=[input_categorical, input_numerical], outputs=[subevent_output, civilian_output])\n",
    "\n",
    "# Print the model summary\n",
    "model.summary()"
   ]
  },
  {
   "cell_type": "markdown",
   "id": "f5244c27",
   "metadata": {},
   "source": [
    "\n",
    "\n",
    "What the model structure means:\n",
    "\n",
    "The Embedding layer is added as the first layer of the model. It takes three main parameters:\n",
    "\n",
    "* input_dim: The total number of unique categories in the categorical feature. This value determines the size of the input space for the Embedding layer.\n",
    "* output_dim: The dimensionality of the dense embedding vectors. It determines the size of the output space for the Embedding layer, i.e., the size of the learned embedding vectors.\n",
    "\n",
    "During model training, the Embedding layer learns to map each integer-encoded category to a dense vector of size output_dim. These learned embeddings are updated based on the model's optimization process and are used as input to the subsequent layers (e.g., LSTM layer)."
   ]
  },
  {
   "cell_type": "markdown",
   "id": "e9dfc87b",
   "metadata": {},
   "source": [
    "#### Compilation and Optimization of the Model"
   ]
  },
  {
   "cell_type": "code",
   "execution_count": 54,
   "id": "552dd54c",
   "metadata": {},
   "outputs": [],
   "source": [
    "from tensorflow.keras.optimizers import Adam\n",
    "\n",
    "model.compile(loss={'subevent_output': 'sparse_categorical_crossentropy', 'civilian_output': 'binary_crossentropy'},\n",
    "              loss_weights={'subevent_output': 3.0, 'civilian_output': 1.0},\n",
    "              optimizer= Adam(0.001),\n",
    "              metrics=['accuracy'])"
   ]
  },
  {
   "cell_type": "markdown",
   "id": "98ad3d5d",
   "metadata": {},
   "source": [
    "#### Model Training"
   ]
  },
  {
   "cell_type": "code",
   "execution_count": 55,
   "id": "df908cb8",
   "metadata": {
    "scrolled": false
   },
   "outputs": [
    {
     "name": "stdout",
     "output_type": "stream",
     "text": [
      "Epoch 1/15\n",
      "2153/2153 [==============================] - 23s 9ms/step - loss: 10.5651 - subevent_output_loss: 2.0404 - civilian_output_loss: 0.1400 - subevent_output_accuracy: 0.8551 - civilian_output_accuracy: 0.9645 - val_loss: 7.0146 - val_subevent_output_loss: 1.1525 - val_civilian_output_loss: 0.0652 - val_subevent_output_accuracy: 0.9183 - val_civilian_output_accuracy: 0.9689\n",
      "Epoch 2/15\n",
      "2153/2153 [==============================] - 19s 9ms/step - loss: 4.1999 - subevent_output_loss: 0.4079 - civilian_output_loss: 0.0762 - subevent_output_accuracy: 0.9304 - civilian_output_accuracy: 0.9763 - val_loss: 3.6836 - val_subevent_output_loss: 0.3630 - val_civilian_output_loss: 0.0904 - val_subevent_output_accuracy: 0.9205 - val_civilian_output_accuracy: 0.9631\n",
      "Epoch 3/15\n",
      "2153/2153 [==============================] - 19s 9ms/step - loss: 2.9534 - subevent_output_loss: 0.2341 - civilian_output_loss: 0.0670 - subevent_output_accuracy: 0.9465 - civilian_output_accuracy: 0.9797 - val_loss: 2.5942 - val_subevent_output_loss: 0.2389 - val_civilian_output_loss: 0.0395 - val_subevent_output_accuracy: 0.9517 - val_civilian_output_accuracy: 0.9890\n",
      "Epoch 4/15\n",
      "2153/2153 [==============================] - 19s 9ms/step - loss: 2.1161 - subevent_output_loss: 0.1866 - civilian_output_loss: 0.0530 - subevent_output_accuracy: 0.9515 - civilian_output_accuracy: 0.9829 - val_loss: 1.7326 - val_subevent_output_loss: 0.1659 - val_civilian_output_loss: 0.0378 - val_subevent_output_accuracy: 0.9547 - val_civilian_output_accuracy: 0.9891\n",
      "Epoch 5/15\n",
      "2153/2153 [==============================] - 19s 9ms/step - loss: 1.4046 - subevent_output_loss: 0.1490 - civilian_output_loss: 0.0426 - subevent_output_accuracy: 0.9598 - civilian_output_accuracy: 0.9863 - val_loss: 1.1022 - val_subevent_output_loss: 0.1308 - val_civilian_output_loss: 0.0325 - val_subevent_output_accuracy: 0.9631 - val_civilian_output_accuracy: 0.9894\n",
      "Epoch 6/15\n",
      "2153/2153 [==============================] - 19s 9ms/step - loss: 0.9836 - subevent_output_loss: 0.1312 - civilian_output_loss: 0.0381 - subevent_output_accuracy: 0.9647 - civilian_output_accuracy: 0.9877 - val_loss: 0.8637 - val_subevent_output_loss: 0.1293 - val_civilian_output_loss: 0.0314 - val_subevent_output_accuracy: 0.9648 - val_civilian_output_accuracy: 0.9897\n",
      "Epoch 7/15\n",
      "2153/2153 [==============================] - 19s 9ms/step - loss: 0.7776 - subevent_output_loss: 0.1189 - civilian_output_loss: 0.0331 - subevent_output_accuracy: 0.9673 - civilian_output_accuracy: 0.9896 - val_loss: 0.7650 - val_subevent_output_loss: 0.1293 - val_civilian_output_loss: 0.0299 - val_subevent_output_accuracy: 0.9627 - val_civilian_output_accuracy: 0.9895\n",
      "Epoch 8/15\n",
      "2153/2153 [==============================] - 19s 9ms/step - loss: 0.6868 - subevent_output_loss: 0.1106 - civilian_output_loss: 0.0315 - subevent_output_accuracy: 0.9692 - civilian_output_accuracy: 0.9903 - val_loss: 0.6871 - val_subevent_output_loss: 0.1195 - val_civilian_output_loss: 0.0299 - val_subevent_output_accuracy: 0.9656 - val_civilian_output_accuracy: 0.9864\n",
      "Epoch 9/15\n",
      "2153/2153 [==============================] - 19s 9ms/step - loss: 0.6318 - subevent_output_loss: 0.1055 - civilian_output_loss: 0.0308 - subevent_output_accuracy: 0.9701 - civilian_output_accuracy: 0.9902 - val_loss: 0.6331 - val_subevent_output_loss: 0.1112 - val_civilian_output_loss: 0.0268 - val_subevent_output_accuracy: 0.9680 - val_civilian_output_accuracy: 0.9919\n",
      "Epoch 10/15\n",
      "2153/2153 [==============================] - 20s 9ms/step - loss: 0.6008 - subevent_output_loss: 0.1016 - civilian_output_loss: 0.0308 - subevent_output_accuracy: 0.9711 - civilian_output_accuracy: 0.9901 - val_loss: 0.6412 - val_subevent_output_loss: 0.1177 - val_civilian_output_loss: 0.0300 - val_subevent_output_accuracy: 0.9670 - val_civilian_output_accuracy: 0.9916\n",
      "Epoch 11/15\n",
      "2153/2153 [==============================] - 20s 9ms/step - loss: 0.5843 - subevent_output_loss: 0.0985 - civilian_output_loss: 0.0307 - subevent_output_accuracy: 0.9719 - civilian_output_accuracy: 0.9899 - val_loss: 0.6209 - val_subevent_output_loss: 0.1095 - val_civilian_output_loss: 0.0401 - val_subevent_output_accuracy: 0.9695 - val_civilian_output_accuracy: 0.9897\n",
      "Epoch 12/15\n",
      "2153/2153 [==============================] - 20s 9ms/step - loss: 0.5570 - subevent_output_loss: 0.0927 - civilian_output_loss: 0.0311 - subevent_output_accuracy: 0.9731 - civilian_output_accuracy: 0.9901 - val_loss: 0.6061 - val_subevent_output_loss: 0.1074 - val_civilian_output_loss: 0.0386 - val_subevent_output_accuracy: 0.9692 - val_civilian_output_accuracy: 0.9901\n",
      "Epoch 13/15\n",
      "2153/2153 [==============================] - 20s 9ms/step - loss: 0.5502 - subevent_output_loss: 0.0914 - civilian_output_loss: 0.0320 - subevent_output_accuracy: 0.9738 - civilian_output_accuracy: 0.9899 - val_loss: 0.6176 - val_subevent_output_loss: 0.1157 - val_civilian_output_loss: 0.0289 - val_subevent_output_accuracy: 0.9674 - val_civilian_output_accuracy: 0.9902\n",
      "Epoch 14/15\n",
      "2153/2153 [==============================] - 20s 9ms/step - loss: 0.5378 - subevent_output_loss: 0.0887 - civilian_output_loss: 0.0313 - subevent_output_accuracy: 0.9746 - civilian_output_accuracy: 0.9899 - val_loss: 0.5811 - val_subevent_output_loss: 0.1056 - val_civilian_output_loss: 0.0282 - val_subevent_output_accuracy: 0.9681 - val_civilian_output_accuracy: 0.9911\n",
      "Epoch 15/15\n",
      "2153/2153 [==============================] - 20s 9ms/step - loss: 0.5353 - subevent_output_loss: 0.0881 - civilian_output_loss: 0.0323 - subevent_output_accuracy: 0.9744 - civilian_output_accuracy: 0.9898 - val_loss: 0.6071 - val_subevent_output_loss: 0.1136 - val_civilian_output_loss: 0.0293 - val_subevent_output_accuracy: 0.9668 - val_civilian_output_accuracy: 0.9895\n"
     ]
    },
    {
     "data": {
      "text/plain": [
       "<keras.callbacks.History at 0x13c044fbfd0>"
      ]
     },
     "execution_count": 55,
     "metadata": {},
     "output_type": "execute_result"
    }
   ],
   "source": [
    "# Fit the model\n",
    "model.fit([x_categorical_train, x_numerical_train], [y_categorical_train, y_numerical_train],\n",
    "          validation_data=([x_categorical_test, x_numerical_test], [y_categorical_test, y_numerical_test]), \n",
    "          epochs=15, batch_size=32)\n"
   ]
  },
  {
   "cell_type": "markdown",
   "id": "13e140a4",
   "metadata": {},
   "source": [
    "### Optimized results"
   ]
  },
  {
   "cell_type": "code",
   "execution_count": 56,
   "id": "7753b87e",
   "metadata": {},
   "outputs": [
    {
     "name": "stdout",
     "output_type": "stream",
     "text": [
      "Loss: 0.6071257591247559\n",
      "Subevent Accuracy: 0.96677166223526\n",
      "Civilian Accuracy: 0.9894996881484985\n",
      "Total Accuracy: 0.9781356751918793\n"
     ]
    }
   ],
   "source": [
    "loss, subevent_loss, civilian_loss, subevent_accuracy, civilian_accuracy= model.evaluate([x_categorical_test, x_numerical_test],\n",
    "                                                                                         [y_categorical_test, y_numerical_test],\n",
    "                                                                                           verbose=0)\n",
    "\n",
    "# Calculate total accuracy as the average of subevent_accuracy and civilian_accuracy\n",
    "total_accuracy = (subevent_accuracy + civilian_accuracy) / 2\n",
    "\n",
    "print(\"Loss:\", loss)\n",
    "print(\"Subevent Accuracy:\", subevent_accuracy)\n",
    "print(\"Civilian Accuracy:\", civilian_accuracy)\n",
    "print(\"Total Accuracy:\", total_accuracy)"
   ]
  },
  {
   "cell_type": "markdown",
   "id": "ef19fb4c",
   "metadata": {},
   "source": [
    "### Saving the Model"
   ]
  },
  {
   "cell_type": "code",
   "execution_count": 57,
   "id": "4f158d61",
   "metadata": {},
   "outputs": [],
   "source": [
    "model.save(\"Ukrain_and_Russia_victims_and_subevent_predictor.h5\")"
   ]
  },
  {
   "cell_type": "markdown",
   "id": "e70d55ed",
   "metadata": {},
   "source": [
    "## Prediction Function"
   ]
  },
  {
   "cell_type": "code",
   "execution_count": 58,
   "id": "5c25aaa5",
   "metadata": {},
   "outputs": [],
   "source": [
    "def predictor (category_arr, numeric_arr):\n",
    "\n",
    "    x_cat_features = ['disorder_type', 'event_type', 'actor1', 'assoc_actor_1', 'actor2', 'assoc_actor_2',\n",
    "                      'country', 'admin1', 'admin2', 'admin3', 'location']\n",
    "    x_num_val = np.array(list(numeric_arr.values()), dtype=np.float32)\n",
    "    x_cat_val = []\n",
    "\n",
    "    # Encode the values from category_arr to labels\n",
    "    for i, (feature, val) in enumerate(zip(x_cat_features, category_arr)):\n",
    "        encoded_val = label_encoders[feature].transform([val])[0]\n",
    "        x_cat_val.append(encoded_val)\n",
    "\n",
    "    x_cat_val = np.array(x_cat_val, dtype=np.int32)\n",
    "    x_cat_val = np.reshape(x_cat_val, (1, -1))\n",
    "    x_num_val = np.reshape(x_num_val, (1, -1))\n",
    "    \n",
    "    # Predict the values using the model\n",
    "    batch_size = 32\n",
    "    predictions = model.predict([x_cat_val, x_num_val], batch_size=batch_size)\n",
    "    sub_event_type = np.argmax(predictions[0], axis=1)\n",
    "    civilian_targeting = np.argmax(predictions[1], axis=1)\n",
    "\n",
    "    # Convert the results to string\n",
    "    sub_event_type = label_encoders['sub_event_type'].inverse_transform(sub_event_type)\n",
    "   \n",
    "    if civilian_targeting == 0:\n",
    "        civilian_targeting_resp = 'No'\n",
    "    else:\n",
    "        civilian_targeting_resp = 'Yes'\n",
    "\n",
    "    return sub_event_type[0], civilian_targeting_resp\n"
   ]
  },
  {
   "cell_type": "code",
   "execution_count": null,
   "id": "81a71e3f",
   "metadata": {},
   "outputs": [],
   "source": []
  }
 ],
 "metadata": {
  "kernelspec": {
   "display_name": "Python 3 (ipykernel)",
   "language": "python",
   "name": "python3"
  },
  "language_info": {
   "codemirror_mode": {
    "name": "ipython",
    "version": 3
   },
   "file_extension": ".py",
   "mimetype": "text/x-python",
   "name": "python",
   "nbconvert_exporter": "python",
   "pygments_lexer": "ipython3",
   "version": "3.9.16"
  }
 },
 "nbformat": 4,
 "nbformat_minor": 5
}
