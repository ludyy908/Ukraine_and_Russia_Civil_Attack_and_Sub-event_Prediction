{
 "cells": [
  {
   "cell_type": "markdown",
   "id": "b353c3fd",
   "metadata": {},
   "source": [
    "# Previsão de Ataques de Civis e Ocorrência de Sub-eventos durante o conflito entre Ucrânia e Rússia \n",
    "### Autores: Amarilda Chihepe, Ludmila Mucavele, Daniel Muaquiua "
   ]
  },
  {
   "cell_type": "markdown",
   "id": "f23dd41e",
   "metadata": {},
   "source": [
    "### Pacotes"
   ]
  },
  {
   "cell_type": "code",
   "execution_count": 1,
   "id": "5b1c969d",
   "metadata": {},
   "outputs": [],
   "source": [
    "import numpy as np\n",
    "import pandas as pd\n",
    "import matplotlib.pyplot as plt\n",
    "import seaborn as sns\n",
    "%matplotlib inline"
   ]
  },
  {
   "cell_type": "markdown",
   "id": "82ae852b",
   "metadata": {},
   "source": [
    "## Introdução"
   ]
  },
  {
   "cell_type": "code",
   "execution_count": null,
   "id": "edaaf432",
   "metadata": {},
   "outputs": [],
   "source": []
  },
  {
   "cell_type": "markdown",
   "id": "820a7732",
   "metadata": {},
   "source": [
    "\n",
    "### Importação dos Datasets"
   ]
  },
  {
   "cell_type": "code",
   "execution_count": 2,
   "id": "cb38283e",
   "metadata": {},
   "outputs": [],
   "source": [
    "df1 = pd.read_csv('conflict_data_ukr-14-21.csv')\n",
    "df2 = pd.read_csv('UkraineConflict-18-23.csv')"
   ]
  },
  {
   "cell_type": "code",
   "execution_count": 3,
   "id": "726d2424",
   "metadata": {},
   "outputs": [
    {
     "data": {
      "text/html": [
       "<div>\n",
       "<style scoped>\n",
       "    .dataframe tbody tr th:only-of-type {\n",
       "        vertical-align: middle;\n",
       "    }\n",
       "\n",
       "    .dataframe tbody tr th {\n",
       "        vertical-align: top;\n",
       "    }\n",
       "\n",
       "    .dataframe thead th {\n",
       "        text-align: right;\n",
       "    }\n",
       "</style>\n",
       "<table border=\"1\" class=\"dataframe\">\n",
       "  <thead>\n",
       "    <tr style=\"text-align: right;\">\n",
       "      <th></th>\n",
       "      <th>id</th>\n",
       "      <th>relid</th>\n",
       "      <th>year</th>\n",
       "      <th>active_year</th>\n",
       "      <th>code_status</th>\n",
       "      <th>type_of_violence</th>\n",
       "      <th>conflict_dset_id</th>\n",
       "      <th>conflict_new_id</th>\n",
       "      <th>conflict_name</th>\n",
       "      <th>dyad_dset_id</th>\n",
       "      <th>...</th>\n",
       "      <th>date_end</th>\n",
       "      <th>deaths_a</th>\n",
       "      <th>deaths_b</th>\n",
       "      <th>deaths_civilians</th>\n",
       "      <th>deaths_unknown</th>\n",
       "      <th>best</th>\n",
       "      <th>high</th>\n",
       "      <th>low</th>\n",
       "      <th>gwnoa</th>\n",
       "      <th>gwnob</th>\n",
       "    </tr>\n",
       "  </thead>\n",
       "  <tbody>\n",
       "    <tr>\n",
       "      <th>0</th>\n",
       "      <td>NaN</td>\n",
       "      <td>NaN</td>\n",
       "      <td>#date+year</td>\n",
       "      <td>NaN</td>\n",
       "      <td>NaN</td>\n",
       "      <td>NaN</td>\n",
       "      <td>NaN</td>\n",
       "      <td>NaN</td>\n",
       "      <td>NaN</td>\n",
       "      <td>NaN</td>\n",
       "      <td>...</td>\n",
       "      <td>#date+end</td>\n",
       "      <td>NaN</td>\n",
       "      <td>NaN</td>\n",
       "      <td>NaN</td>\n",
       "      <td>NaN</td>\n",
       "      <td>#affected+killed</td>\n",
       "      <td>NaN</td>\n",
       "      <td>NaN</td>\n",
       "      <td>NaN</td>\n",
       "      <td>NaN</td>\n",
       "    </tr>\n",
       "    <tr>\n",
       "      <th>1</th>\n",
       "      <td>147997.0</td>\n",
       "      <td>UKR-2014-1-14085-0</td>\n",
       "      <td>2014</td>\n",
       "      <td>1.0</td>\n",
       "      <td>Clear</td>\n",
       "      <td>1.0</td>\n",
       "      <td>13219.0</td>\n",
       "      <td>13219.0</td>\n",
       "      <td>Ukraine: Government</td>\n",
       "      <td>14085.0</td>\n",
       "      <td>...</td>\n",
       "      <td>00:00.0</td>\n",
       "      <td>0.0</td>\n",
       "      <td>5.0</td>\n",
       "      <td>0.0</td>\n",
       "      <td>0.0</td>\n",
       "      <td>5</td>\n",
       "      <td>5.0</td>\n",
       "      <td>5.0</td>\n",
       "      <td>369.0</td>\n",
       "      <td>NaN</td>\n",
       "    </tr>\n",
       "    <tr>\n",
       "      <th>2</th>\n",
       "      <td>149221.0</td>\n",
       "      <td>UKR-2014-1-14085-1</td>\n",
       "      <td>2014</td>\n",
       "      <td>1.0</td>\n",
       "      <td>Clear</td>\n",
       "      <td>1.0</td>\n",
       "      <td>13219.0</td>\n",
       "      <td>13219.0</td>\n",
       "      <td>Ukraine: Government</td>\n",
       "      <td>14085.0</td>\n",
       "      <td>...</td>\n",
       "      <td>00:00.0</td>\n",
       "      <td>0.0</td>\n",
       "      <td>0.0</td>\n",
       "      <td>0.0</td>\n",
       "      <td>1.0</td>\n",
       "      <td>1</td>\n",
       "      <td>1.0</td>\n",
       "      <td>1.0</td>\n",
       "      <td>369.0</td>\n",
       "      <td>NaN</td>\n",
       "    </tr>\n",
       "    <tr>\n",
       "      <th>3</th>\n",
       "      <td>149248.0</td>\n",
       "      <td>UKR-2014-1-14085-3</td>\n",
       "      <td>2014</td>\n",
       "      <td>1.0</td>\n",
       "      <td>Clear</td>\n",
       "      <td>1.0</td>\n",
       "      <td>13219.0</td>\n",
       "      <td>13219.0</td>\n",
       "      <td>Ukraine: Government</td>\n",
       "      <td>14085.0</td>\n",
       "      <td>...</td>\n",
       "      <td>00:00.0</td>\n",
       "      <td>10.0</td>\n",
       "      <td>4.0</td>\n",
       "      <td>0.0</td>\n",
       "      <td>12.0</td>\n",
       "      <td>26</td>\n",
       "      <td>26.0</td>\n",
       "      <td>26.0</td>\n",
       "      <td>369.0</td>\n",
       "      <td>NaN</td>\n",
       "    </tr>\n",
       "    <tr>\n",
       "      <th>4</th>\n",
       "      <td>149249.0</td>\n",
       "      <td>UKR-2014-1-14085-4</td>\n",
       "      <td>2014</td>\n",
       "      <td>1.0</td>\n",
       "      <td>Clear</td>\n",
       "      <td>1.0</td>\n",
       "      <td>13219.0</td>\n",
       "      <td>13219.0</td>\n",
       "      <td>Ukraine: Government</td>\n",
       "      <td>14085.0</td>\n",
       "      <td>...</td>\n",
       "      <td>00:00.0</td>\n",
       "      <td>0.0</td>\n",
       "      <td>0.0</td>\n",
       "      <td>0.0</td>\n",
       "      <td>2.0</td>\n",
       "      <td>2</td>\n",
       "      <td>2.0</td>\n",
       "      <td>2.0</td>\n",
       "      <td>369.0</td>\n",
       "      <td>NaN</td>\n",
       "    </tr>\n",
       "  </tbody>\n",
       "</table>\n",
       "<p>5 rows × 50 columns</p>\n",
       "</div>"
      ],
      "text/plain": [
       "         id               relid        year  active_year code_status  \\\n",
       "0       NaN                 NaN  #date+year          NaN         NaN   \n",
       "1  147997.0  UKR-2014-1-14085-0        2014          1.0       Clear   \n",
       "2  149221.0  UKR-2014-1-14085-1        2014          1.0       Clear   \n",
       "3  149248.0  UKR-2014-1-14085-3        2014          1.0       Clear   \n",
       "4  149249.0  UKR-2014-1-14085-4        2014          1.0       Clear   \n",
       "\n",
       "   type_of_violence  conflict_dset_id  conflict_new_id        conflict_name  \\\n",
       "0               NaN               NaN              NaN                  NaN   \n",
       "1               1.0           13219.0          13219.0  Ukraine: Government   \n",
       "2               1.0           13219.0          13219.0  Ukraine: Government   \n",
       "3               1.0           13219.0          13219.0  Ukraine: Government   \n",
       "4               1.0           13219.0          13219.0  Ukraine: Government   \n",
       "\n",
       "   dyad_dset_id  ...   date_end deaths_a  deaths_b  deaths_civilians  \\\n",
       "0           NaN  ...  #date+end      NaN       NaN               NaN   \n",
       "1       14085.0  ...    00:00.0      0.0       5.0               0.0   \n",
       "2       14085.0  ...    00:00.0      0.0       0.0               0.0   \n",
       "3       14085.0  ...    00:00.0     10.0       4.0               0.0   \n",
       "4       14085.0  ...    00:00.0      0.0       0.0               0.0   \n",
       "\n",
       "  deaths_unknown              best  high   low  gwnoa gwnob  \n",
       "0            NaN  #affected+killed   NaN   NaN    NaN   NaN  \n",
       "1            0.0                 5   5.0   5.0  369.0   NaN  \n",
       "2            1.0                 1   1.0   1.0  369.0   NaN  \n",
       "3           12.0                26  26.0  26.0  369.0   NaN  \n",
       "4            2.0                 2   2.0   2.0  369.0   NaN  \n",
       "\n",
       "[5 rows x 50 columns]"
      ]
     },
     "execution_count": 3,
     "metadata": {},
     "output_type": "execute_result"
    }
   ],
   "source": [
    "df1.head()"
   ]
  },
  {
   "cell_type": "code",
   "execution_count": 4,
   "id": "2bc782ba",
   "metadata": {},
   "outputs": [
    {
     "data": {
      "text/html": [
       "<div>\n",
       "<style scoped>\n",
       "    .dataframe tbody tr th:only-of-type {\n",
       "        vertical-align: middle;\n",
       "    }\n",
       "\n",
       "    .dataframe tbody tr th {\n",
       "        vertical-align: top;\n",
       "    }\n",
       "\n",
       "    .dataframe thead th {\n",
       "        text-align: right;\n",
       "    }\n",
       "</style>\n",
       "<table border=\"1\" class=\"dataframe\">\n",
       "  <thead>\n",
       "    <tr style=\"text-align: right;\">\n",
       "      <th></th>\n",
       "      <th>EVENT_ID_CNTY</th>\n",
       "      <th>EVENT_DATE</th>\n",
       "      <th>YEAR</th>\n",
       "      <th>TIME_PRECISION</th>\n",
       "      <th>DISORDER_TYPE</th>\n",
       "      <th>EVENT_TYPE</th>\n",
       "      <th>SUB_EVENT_TYPE</th>\n",
       "      <th>ACTOR1</th>\n",
       "      <th>ASSOC_ACTOR_1</th>\n",
       "      <th>INTER1</th>\n",
       "      <th>...</th>\n",
       "      <th>LOCATION</th>\n",
       "      <th>LATITUDE</th>\n",
       "      <th>LONGITUDE</th>\n",
       "      <th>GEO_PRECISION</th>\n",
       "      <th>SOURCE</th>\n",
       "      <th>SOURCE_SCALE</th>\n",
       "      <th>NOTES</th>\n",
       "      <th>FATALITIES</th>\n",
       "      <th>TAGS</th>\n",
       "      <th>TIMESTAMP</th>\n",
       "    </tr>\n",
       "  </thead>\n",
       "  <tbody>\n",
       "    <tr>\n",
       "      <th>0</th>\n",
       "      <td>ROU448</td>\n",
       "      <td>20-May-19</td>\n",
       "      <td>2019</td>\n",
       "      <td>1</td>\n",
       "      <td>Political violence</td>\n",
       "      <td>Violence against civilians</td>\n",
       "      <td>Attack</td>\n",
       "      <td>Police Forces of Romania (2016-2019) Coast Guard</td>\n",
       "      <td>NaN</td>\n",
       "      <td>1</td>\n",
       "      <td>...</td>\n",
       "      <td>Coast of Constanta</td>\n",
       "      <td>44.156</td>\n",
       "      <td>28.948</td>\n",
       "      <td>2</td>\n",
       "      <td>Deschide; Hurriyet Daily; News.ro; CNN; TRT Haber</td>\n",
       "      <td>National-International</td>\n",
       "      <td>On 20 May 2019, the Coast Guard of Romania fir...</td>\n",
       "      <td>0</td>\n",
       "      <td>NaN</td>\n",
       "      <td>1649875498</td>\n",
       "    </tr>\n",
       "    <tr>\n",
       "      <th>1</th>\n",
       "      <td>ROU1885</td>\n",
       "      <td>28-Mar-22</td>\n",
       "      <td>2022</td>\n",
       "      <td>1</td>\n",
       "      <td>Strategic developments</td>\n",
       "      <td>Strategic developments</td>\n",
       "      <td>Disrupted weapons use</td>\n",
       "      <td>Military Forces of Romania (2021-)</td>\n",
       "      <td>NaN</td>\n",
       "      <td>1</td>\n",
       "      <td>...</td>\n",
       "      <td>Coast of Constanta</td>\n",
       "      <td>44.156</td>\n",
       "      <td>28.948</td>\n",
       "      <td>1</td>\n",
       "      <td>Adevarul; G4media</td>\n",
       "      <td>National</td>\n",
       "      <td>Defusal: On 28 March 2022, Romanian minesweepe...</td>\n",
       "      <td>0</td>\n",
       "      <td>NaN</td>\n",
       "      <td>1649184809</td>\n",
       "    </tr>\n",
       "    <tr>\n",
       "      <th>2</th>\n",
       "      <td>ROU1940</td>\n",
       "      <td>28-Jul-22</td>\n",
       "      <td>2022</td>\n",
       "      <td>1</td>\n",
       "      <td>Demonstrations</td>\n",
       "      <td>Protests</td>\n",
       "      <td>Peaceful protest</td>\n",
       "      <td>Protesters (Romania)</td>\n",
       "      <td>Greenpeace</td>\n",
       "      <td>6</td>\n",
       "      <td>...</td>\n",
       "      <td>Coast of Constanta</td>\n",
       "      <td>44.156</td>\n",
       "      <td>28.948</td>\n",
       "      <td>1</td>\n",
       "      <td>News.ro</td>\n",
       "      <td>National</td>\n",
       "      <td>On 28 July 2022, Greenpeace activists proteste...</td>\n",
       "      <td>0</td>\n",
       "      <td>crowd size=no report</td>\n",
       "      <td>1659462993</td>\n",
       "    </tr>\n",
       "    <tr>\n",
       "      <th>3</th>\n",
       "      <td>ROU1945</td>\n",
       "      <td>31-Jul-22</td>\n",
       "      <td>2022</td>\n",
       "      <td>1</td>\n",
       "      <td>Strategic developments</td>\n",
       "      <td>Strategic developments</td>\n",
       "      <td>Disrupted weapons use</td>\n",
       "      <td>Military Forces of Romania (2021-)</td>\n",
       "      <td>NaN</td>\n",
       "      <td>1</td>\n",
       "      <td>...</td>\n",
       "      <td>Coast of Constanta</td>\n",
       "      <td>44.156</td>\n",
       "      <td>28.948</td>\n",
       "      <td>1</td>\n",
       "      <td>Digi24</td>\n",
       "      <td>National</td>\n",
       "      <td>Defusal: On 31 July 2022, Romanian Naval Force...</td>\n",
       "      <td>0</td>\n",
       "      <td>NaN</td>\n",
       "      <td>1660055880</td>\n",
       "    </tr>\n",
       "    <tr>\n",
       "      <th>4</th>\n",
       "      <td>ROU1947</td>\n",
       "      <td>4-Aug-22</td>\n",
       "      <td>2022</td>\n",
       "      <td>1</td>\n",
       "      <td>Demonstrations</td>\n",
       "      <td>Protests</td>\n",
       "      <td>Peaceful protest</td>\n",
       "      <td>Protesters (Romania)</td>\n",
       "      <td>Greenpeace</td>\n",
       "      <td>6</td>\n",
       "      <td>...</td>\n",
       "      <td>Coast of Constanta</td>\n",
       "      <td>44.156</td>\n",
       "      <td>28.948</td>\n",
       "      <td>1</td>\n",
       "      <td>News.ro</td>\n",
       "      <td>National</td>\n",
       "      <td>On 4 August 2022, Greenpeace activists protest...</td>\n",
       "      <td>0</td>\n",
       "      <td>crowd size=no report</td>\n",
       "      <td>1660055882</td>\n",
       "    </tr>\n",
       "  </tbody>\n",
       "</table>\n",
       "<p>5 rows × 31 columns</p>\n",
       "</div>"
      ],
      "text/plain": [
       "  EVENT_ID_CNTY EVENT_DATE  YEAR  TIME_PRECISION           DISORDER_TYPE  \\\n",
       "0        ROU448  20-May-19  2019               1      Political violence   \n",
       "1       ROU1885  28-Mar-22  2022               1  Strategic developments   \n",
       "2       ROU1940  28-Jul-22  2022               1          Demonstrations   \n",
       "3       ROU1945  31-Jul-22  2022               1  Strategic developments   \n",
       "4       ROU1947   4-Aug-22  2022               1          Demonstrations   \n",
       "\n",
       "                   EVENT_TYPE         SUB_EVENT_TYPE  \\\n",
       "0  Violence against civilians                 Attack   \n",
       "1      Strategic developments  Disrupted weapons use   \n",
       "2                    Protests       Peaceful protest   \n",
       "3      Strategic developments  Disrupted weapons use   \n",
       "4                    Protests       Peaceful protest   \n",
       "\n",
       "                                             ACTOR1 ASSOC_ACTOR_1  INTER1  \\\n",
       "0  Police Forces of Romania (2016-2019) Coast Guard           NaN       1   \n",
       "1                Military Forces of Romania (2021-)           NaN       1   \n",
       "2                              Protesters (Romania)    Greenpeace       6   \n",
       "3                Military Forces of Romania (2021-)           NaN       1   \n",
       "4                              Protesters (Romania)    Greenpeace       6   \n",
       "\n",
       "   ...            LOCATION LATITUDE  LONGITUDE  GEO_PRECISION  \\\n",
       "0  ...  Coast of Constanta   44.156     28.948              2   \n",
       "1  ...  Coast of Constanta   44.156     28.948              1   \n",
       "2  ...  Coast of Constanta   44.156     28.948              1   \n",
       "3  ...  Coast of Constanta   44.156     28.948              1   \n",
       "4  ...  Coast of Constanta   44.156     28.948              1   \n",
       "\n",
       "                                              SOURCE            SOURCE_SCALE  \\\n",
       "0  Deschide; Hurriyet Daily; News.ro; CNN; TRT Haber  National-International   \n",
       "1                                  Adevarul; G4media                National   \n",
       "2                                            News.ro                National   \n",
       "3                                             Digi24                National   \n",
       "4                                            News.ro                National   \n",
       "\n",
       "                                               NOTES FATALITIES  \\\n",
       "0  On 20 May 2019, the Coast Guard of Romania fir...          0   \n",
       "1  Defusal: On 28 March 2022, Romanian minesweepe...          0   \n",
       "2  On 28 July 2022, Greenpeace activists proteste...          0   \n",
       "3  Defusal: On 31 July 2022, Romanian Naval Force...          0   \n",
       "4  On 4 August 2022, Greenpeace activists protest...          0   \n",
       "\n",
       "                   TAGS   TIMESTAMP  \n",
       "0                   NaN  1649875498  \n",
       "1                   NaN  1649184809  \n",
       "2  crowd size=no report  1659462993  \n",
       "3                   NaN  1660055880  \n",
       "4  crowd size=no report  1660055882  \n",
       "\n",
       "[5 rows x 31 columns]"
      ]
     },
     "execution_count": 4,
     "metadata": {},
     "output_type": "execute_result"
    }
   ],
   "source": [
    "df2.head()"
   ]
  },
  {
   "cell_type": "markdown",
   "id": "32813740",
   "metadata": {},
   "source": [
    "## Data Assessing"
   ]
  },
  {
   "cell_type": "markdown",
   "id": "f6b17f91",
   "metadata": {},
   "source": [
    "* **Dataset 1 (Conflicto de 2014 a 2021)**"
   ]
  },
  {
   "cell_type": "code",
   "execution_count": 5,
   "id": "9a8c175b",
   "metadata": {},
   "outputs": [
    {
     "name": "stdout",
     "output_type": "stream",
     "text": [
      "(2990, 50)\n",
      "<class 'pandas.core.frame.DataFrame'>\n",
      "RangeIndex: 2990 entries, 0 to 2989\n",
      "Data columns (total 50 columns):\n",
      " #   Column             Non-Null Count  Dtype  \n",
      "---  ------             --------------  -----  \n",
      " 0   id                 2989 non-null   float64\n",
      " 1   relid              2989 non-null   object \n",
      " 2   year               2990 non-null   object \n",
      " 3   active_year        2989 non-null   float64\n",
      " 4   code_status        2989 non-null   object \n",
      " 5   type_of_violence   2989 non-null   float64\n",
      " 6   conflict_dset_id   2989 non-null   float64\n",
      " 7   conflict_new_id    2989 non-null   float64\n",
      " 8   conflict_name      2989 non-null   object \n",
      " 9   dyad_dset_id       2989 non-null   float64\n",
      " 10  dyad_new_id        2989 non-null   float64\n",
      " 11  dyad_name          2989 non-null   object \n",
      " 12  side_a_dset_id     2989 non-null   float64\n",
      " 13  side_a_new_id      2989 non-null   float64\n",
      " 14  side_a             2990 non-null   object \n",
      " 15  side_b_dset_id     2989 non-null   float64\n",
      " 16  side_b_new_id      2989 non-null   float64\n",
      " 17  side_b             2990 non-null   object \n",
      " 18  number_of_sources  2989 non-null   float64\n",
      " 19  source_article     2990 non-null   object \n",
      " 20  source_office      2989 non-null   object \n",
      " 21  source_date        2989 non-null   object \n",
      " 22  source_headline    2990 non-null   object \n",
      " 23  source_original    2971 non-null   object \n",
      " 24  where_prec         2989 non-null   float64\n",
      " 25  where_coordinates  2990 non-null   object \n",
      " 26  where_description  2679 non-null   object \n",
      " 27  adm_1              2762 non-null   object \n",
      " 28  adm_2              2283 non-null   object \n",
      " 29  latitude           2990 non-null   object \n",
      " 30  longitude          2990 non-null   object \n",
      " 31  geom_wkt           2989 non-null   object \n",
      " 32  priogrid_gid       2989 non-null   float64\n",
      " 33  country            2990 non-null   object \n",
      " 34  iso3               2990 non-null   object \n",
      " 35  country_id         2989 non-null   float64\n",
      " 36  region             2990 non-null   object \n",
      " 37  event_clarity      2989 non-null   float64\n",
      " 38  date_prec          2989 non-null   float64\n",
      " 39  date_start         2990 non-null   object \n",
      " 40  date_end           2990 non-null   object \n",
      " 41  deaths_a           2989 non-null   float64\n",
      " 42  deaths_b           2989 non-null   float64\n",
      " 43  deaths_civilians   2989 non-null   float64\n",
      " 44  deaths_unknown     2989 non-null   float64\n",
      " 45  best               2990 non-null   object \n",
      " 46  high               2989 non-null   float64\n",
      " 47  low                2989 non-null   float64\n",
      " 48  gwnoa              2988 non-null   float64\n",
      " 49  gwnob              0 non-null      float64\n",
      "dtypes: float64(25), object(25)\n",
      "memory usage: 1.1+ MB\n"
     ]
    }
   ],
   "source": [
    "print(df1.shape)\n",
    "df1.info()"
   ]
  },
  {
   "cell_type": "code",
   "execution_count": 6,
   "id": "df37eb92",
   "metadata": {},
   "outputs": [
    {
     "data": {
      "text/plain": [
       "0"
      ]
     },
     "execution_count": 6,
     "metadata": {},
     "output_type": "execute_result"
    }
   ],
   "source": [
    "df1.duplicated().sum()"
   ]
  },
  {
   "cell_type": "code",
   "execution_count": 7,
   "id": "8aaafa14",
   "metadata": {},
   "outputs": [
    {
     "data": {
      "text/plain": [
       "id                      1\n",
       "relid                   1\n",
       "year                    0\n",
       "active_year             1\n",
       "code_status             1\n",
       "type_of_violence        1\n",
       "conflict_dset_id        1\n",
       "conflict_new_id         1\n",
       "conflict_name           1\n",
       "dyad_dset_id            1\n",
       "dyad_new_id             1\n",
       "dyad_name               1\n",
       "side_a_dset_id          1\n",
       "side_a_new_id           1\n",
       "side_a                  0\n",
       "side_b_dset_id          1\n",
       "side_b_new_id           1\n",
       "side_b                  0\n",
       "number_of_sources       1\n",
       "source_article          0\n",
       "source_office           1\n",
       "source_date             1\n",
       "source_headline         0\n",
       "source_original        19\n",
       "where_prec              1\n",
       "where_coordinates       0\n",
       "where_description     311\n",
       "adm_1                 228\n",
       "adm_2                 707\n",
       "latitude                0\n",
       "longitude               0\n",
       "geom_wkt                1\n",
       "priogrid_gid            1\n",
       "country                 0\n",
       "iso3                    0\n",
       "country_id              1\n",
       "region                  0\n",
       "event_clarity           1\n",
       "date_prec               1\n",
       "date_start              0\n",
       "date_end                0\n",
       "deaths_a                1\n",
       "deaths_b                1\n",
       "deaths_civilians        1\n",
       "deaths_unknown          1\n",
       "best                    0\n",
       "high                    1\n",
       "low                     1\n",
       "gwnoa                   2\n",
       "gwnob                2990\n",
       "dtype: int64"
      ]
     },
     "execution_count": 7,
     "metadata": {},
     "output_type": "execute_result"
    }
   ],
   "source": [
    "df1.isnull().sum()"
   ]
  },
  {
   "cell_type": "code",
   "execution_count": 8,
   "id": "86dfb78b",
   "metadata": {},
   "outputs": [
    {
     "data": {
      "text/plain": [
       "id                   2989\n",
       "relid                2989\n",
       "year                    9\n",
       "active_year             2\n",
       "code_status             1\n",
       "type_of_violence        2\n",
       "conflict_dset_id        5\n",
       "conflict_new_id         5\n",
       "conflict_name           5\n",
       "dyad_dset_id            7\n",
       "dyad_new_id             7\n",
       "dyad_name               5\n",
       "side_a_dset_id          2\n",
       "side_a_new_id           2\n",
       "side_a                  3\n",
       "side_b_dset_id          7\n",
       "side_b_new_id           7\n",
       "side_b                  6\n",
       "number_of_sources      14\n",
       "source_article       2323\n",
       "source_office         279\n",
       "source_date          1508\n",
       "source_headline      1817\n",
       "source_original       812\n",
       "where_prec              7\n",
       "where_coordinates     402\n",
       "where_description    1569\n",
       "adm_1                   6\n",
       "adm_2                  65\n",
       "latitude              422\n",
       "longitude             424\n",
       "geom_wkt              424\n",
       "priogrid_gid           32\n",
       "country                 2\n",
       "iso3                    2\n",
       "country_id              1\n",
       "region                  2\n",
       "event_clarity           2\n",
       "date_prec               5\n",
       "date_start              2\n",
       "date_end                2\n",
       "deaths_a               21\n",
       "deaths_b               23\n",
       "deaths_civilians       21\n",
       "deaths_unknown         21\n",
       "best                   47\n",
       "high                   48\n",
       "low                    45\n",
       "gwnoa                   1\n",
       "gwnob                   0\n",
       "dtype: int64"
      ]
     },
     "execution_count": 8,
     "metadata": {},
     "output_type": "execute_result"
    }
   ],
   "source": [
    "# looking for numer of uninque values per feature\n",
    "df1.nunique()"
   ]
  },
  {
   "cell_type": "markdown",
   "id": "32b962b4",
   "metadata": {},
   "source": [
    "* **Dataset 2 (Conflicto de 2018 a 2023)**"
   ]
  },
  {
   "cell_type": "code",
   "execution_count": 9,
   "id": "330274cc",
   "metadata": {},
   "outputs": [
    {
     "name": "stdout",
     "output_type": "stream",
     "text": [
      "(96082, 31)\n",
      "<class 'pandas.core.frame.DataFrame'>\n",
      "RangeIndex: 96082 entries, 0 to 96081\n",
      "Data columns (total 31 columns):\n",
      " #   Column              Non-Null Count  Dtype  \n",
      "---  ------              --------------  -----  \n",
      " 0   EVENT_ID_CNTY       96082 non-null  object \n",
      " 1   EVENT_DATE          96082 non-null  object \n",
      " 2   YEAR                96082 non-null  int64  \n",
      " 3   TIME_PRECISION      96082 non-null  int64  \n",
      " 4   DISORDER_TYPE       96082 non-null  object \n",
      " 5   EVENT_TYPE          96082 non-null  object \n",
      " 6   SUB_EVENT_TYPE      96082 non-null  object \n",
      " 7   ACTOR1              96082 non-null  object \n",
      " 8   ASSOC_ACTOR_1       6488 non-null   object \n",
      " 9   INTER1              96082 non-null  int64  \n",
      " 10  ACTOR2              51829 non-null  object \n",
      " 11  ASSOC_ACTOR_2       14678 non-null  object \n",
      " 12  INTER2              96082 non-null  int64  \n",
      " 13  INTERACTION         96082 non-null  int64  \n",
      " 14  CIVILIAN_TARGETING  4188 non-null   object \n",
      " 15  ISO                 96082 non-null  int64  \n",
      " 16  REGION              96082 non-null  object \n",
      " 17  COUNTRY             96082 non-null  object \n",
      " 18  ADMIN1              96065 non-null  object \n",
      " 19  ADMIN2              95991 non-null  object \n",
      " 20  ADMIN3              93680 non-null  object \n",
      " 21  LOCATION            96082 non-null  object \n",
      " 22  LATITUDE            96082 non-null  float64\n",
      " 23  LONGITUDE           96082 non-null  float64\n",
      " 24  GEO_PRECISION       96082 non-null  int64  \n",
      " 25  SOURCE              96082 non-null  object \n",
      " 26  SOURCE_SCALE        96082 non-null  object \n",
      " 27  NOTES               96082 non-null  object \n",
      " 28  FATALITIES          96082 non-null  int64  \n",
      " 29  TAGS                5938 non-null   object \n",
      " 30  TIMESTAMP           96082 non-null  int64  \n",
      "dtypes: float64(2), int64(9), object(20)\n",
      "memory usage: 22.7+ MB\n"
     ]
    }
   ],
   "source": [
    "print(df2.shape)\n",
    "\n",
    "# general information of df2\n",
    "df2.info()"
   ]
  },
  {
   "cell_type": "code",
   "execution_count": 10,
   "id": "e2b16f29",
   "metadata": {
    "scrolled": true
   },
   "outputs": [
    {
     "data": {
      "text/plain": [
       "44253"
      ]
     },
     "execution_count": 10,
     "metadata": {},
     "output_type": "execute_result"
    }
   ],
   "source": [
    "# looking for null values from ACTOR2 in df2\n",
    "df2['ACTOR2'].isna().sum()"
   ]
  },
  {
   "cell_type": "code",
   "execution_count": 11,
   "id": "ccc1386f",
   "metadata": {},
   "outputs": [
    {
     "data": {
      "text/plain": [
       "Ukraine: Novorossiya                                                              2032\n",
       "Ukraine: Donetsk                                                                   656\n",
       "Ukraine: Lugansk                                                                   294\n",
       "Ukraine: Government                                                                  6\n",
       "Supporters of independence for Eastern Ukraine - Supporters of Ukrainian unity       1\n",
       "Name: conflict_name, dtype: int64"
      ]
     },
     "execution_count": 11,
     "metadata": {},
     "output_type": "execute_result"
    }
   ],
   "source": [
    "# looking for disorder type values \n",
    "df1.conflict_name.value_counts()"
   ]
  },
  {
   "cell_type": "code",
   "execution_count": 12,
   "id": "d9284a29",
   "metadata": {},
   "outputs": [
    {
     "data": {
      "text/plain": [
       "Government of Ukraine                             2988\n",
       "#group+name+first                                    1\n",
       "Supporters of independence for Eastern Ukraine       1\n",
       "Name: side_a, dtype: int64"
      ]
     },
     "execution_count": 12,
     "metadata": {},
     "output_type": "execute_result"
    }
   ],
   "source": [
    "df1.side_a.value_counts()"
   ]
  },
  {
   "cell_type": "code",
   "execution_count": 13,
   "id": "a7e49ced",
   "metadata": {},
   "outputs": [
    {
     "data": {
      "text/plain": [
       "Political violence                    87884\n",
       "Demonstrations                         5799\n",
       "Strategic developments                 2381\n",
       "Political violence; Demonstrations       18\n",
       "Name: DISORDER_TYPE, dtype: int64"
      ]
     },
     "execution_count": 13,
     "metadata": {},
     "output_type": "execute_result"
    }
   ],
   "source": [
    "# looking for disorder type values \n",
    "df2.DISORDER_TYPE.value_counts()"
   ]
  },
  {
   "cell_type": "code",
   "execution_count": 14,
   "id": "cb34b591",
   "metadata": {},
   "outputs": [
    {
     "data": {
      "text/plain": [
       "Donbass People's Militia                                                                                         9155\n",
       "Luhansk People's Militia                                                                                         2825\n",
       "Donbass People's Militia; Civilians (Ukraine)                                                                     638\n",
       "Civilians (Ukraine)                                                                                               272\n",
       "Luhansk People's Militia; Civilians (Ukraine)                                                                     161\n",
       "                                                                                                                 ... \n",
       "Lawyers (Ukraine); Former Government of Ukraine (2019-)                                                             1\n",
       "European Solidarity; Government of Ukraine (2019-)                                                                  1\n",
       "Refugees/IDPs (Afghanistan); Civilians (Syria); Refugees/IDPs (Syria); Civilians (Iran); Refugees/IDPs (Iran)       1\n",
       "Vidsich                                                                                                             1\n",
       "Civilians (Poland); Aid Workers (Poland)                                                                            1\n",
       "Name: ASSOC_ACTOR_2, Length: 378, dtype: int64"
      ]
     },
     "execution_count": 14,
     "metadata": {},
     "output_type": "execute_result"
    }
   ],
   "source": [
    "# looking for associated actors\n",
    "df2.ASSOC_ACTOR_2.value_counts()"
   ]
  },
  {
   "cell_type": "markdown",
   "id": "a4cef91a",
   "metadata": {},
   "source": [
    "### Observations"
   ]
  },
  {
   "cell_type": "markdown",
   "id": "ed4e1b6b",
   "metadata": {},
   "source": [
    "* First index of df1\n",
    "* Year of df1 as object type\n",
    "* Missing values in Actor 2 feature from df2\n",
    "* Datapoints from 2018-2021 not needed in df1\n",
    "* `deaths_a`, `deaths_b`, `deaths_civilians`, `deaths_unknown` features values\n",
    "* All df2 features in Uppercase\n",
    "* Features to delete from df1:\n",
    "    * id\n",
    "    * relid\n",
    "    * active_year\n",
    "    * code_status\n",
    "    * code_status\n",
    "    * code_status\n",
    "    * conflict_new_id\n",
    "    * conflict_name\n",
    "    * dyad_dset_id\n",
    "    * dyad_new_id\n",
    "    * dyad_name\n",
    "    * side_a_dset_id\n",
    "    * side_a_new_id\n",
    "    * side_b_dset_id\n",
    "    * side_b_dset_id\n",
    "    * number_of_sources\n",
    "    * source_article\n",
    "    * source_article\n",
    "    * source_date\n",
    "    * source_headline\n",
    "    * source_original\n",
    "    * where_prec\n",
    "    * where_description\n",
    "    * geom_wkt\n",
    "    * priogrid_gid\n",
    "    * country_id\n",
    "    * event_clarity\n",
    "    * date_prec\n",
    "    * date_start\n",
    "    * date_end\n",
    "    * date_end\n",
    "    * deaths_b\n",
    "    * deaths_civilians\n",
    "    * deaths_civilians\n",
    "    * best\n",
    "    * high\n",
    "    * low\n",
    "    * gwnoa\n",
    "    * gwnob\n",
    "* Features to delete from df2:\n",
    "    * EVENT_ID_CNTY\n",
    "    * EVENT_DATE\n",
    "    * TIME_PRECISION\n",
    "    * SOURCE\n",
    "    * SOURCE_SCALE\n",
    "    * NOTES\n",
    "    * TAGS\n",
    "    * TIMESTAMP\n",
    "* Unconcatenated datasets\n",
    "* Too many associated actors in a column.\n",
    "* `civilian_targeting` non-binary type"
   ]
  },
  {
   "cell_type": "markdown",
   "id": "7cdaa2e0",
   "metadata": {},
   "source": [
    "## Data Cleaning"
   ]
  },
  {
   "cell_type": "markdown",
   "id": "62e0dace",
   "metadata": {},
   "source": [
    "* Drop first index of df1 "
   ]
  },
  {
   "cell_type": "markdown",
   "id": "dd620a67",
   "metadata": {},
   "source": [
    "#### Code"
   ]
  },
  {
   "cell_type": "code",
   "execution_count": 15,
   "id": "6c1b78f7",
   "metadata": {},
   "outputs": [],
   "source": [
    "df1.drop(0, axis = 0, inplace = True)\n",
    "df1.reset_index(drop = True, inplace = True)"
   ]
  },
  {
   "cell_type": "markdown",
   "id": "2bc8f214",
   "metadata": {},
   "source": [
    "#### Test"
   ]
  },
  {
   "cell_type": "code",
   "execution_count": 16,
   "id": "3a806cad",
   "metadata": {},
   "outputs": [
    {
     "data": {
      "text/html": [
       "<div>\n",
       "<style scoped>\n",
       "    .dataframe tbody tr th:only-of-type {\n",
       "        vertical-align: middle;\n",
       "    }\n",
       "\n",
       "    .dataframe tbody tr th {\n",
       "        vertical-align: top;\n",
       "    }\n",
       "\n",
       "    .dataframe thead th {\n",
       "        text-align: right;\n",
       "    }\n",
       "</style>\n",
       "<table border=\"1\" class=\"dataframe\">\n",
       "  <thead>\n",
       "    <tr style=\"text-align: right;\">\n",
       "      <th></th>\n",
       "      <th>id</th>\n",
       "      <th>relid</th>\n",
       "      <th>year</th>\n",
       "      <th>active_year</th>\n",
       "      <th>code_status</th>\n",
       "      <th>type_of_violence</th>\n",
       "      <th>conflict_dset_id</th>\n",
       "      <th>conflict_new_id</th>\n",
       "      <th>conflict_name</th>\n",
       "      <th>dyad_dset_id</th>\n",
       "      <th>...</th>\n",
       "      <th>date_end</th>\n",
       "      <th>deaths_a</th>\n",
       "      <th>deaths_b</th>\n",
       "      <th>deaths_civilians</th>\n",
       "      <th>deaths_unknown</th>\n",
       "      <th>best</th>\n",
       "      <th>high</th>\n",
       "      <th>low</th>\n",
       "      <th>gwnoa</th>\n",
       "      <th>gwnob</th>\n",
       "    </tr>\n",
       "  </thead>\n",
       "  <tbody>\n",
       "    <tr>\n",
       "      <th>0</th>\n",
       "      <td>147997.0</td>\n",
       "      <td>UKR-2014-1-14085-0</td>\n",
       "      <td>2014</td>\n",
       "      <td>1.0</td>\n",
       "      <td>Clear</td>\n",
       "      <td>1.0</td>\n",
       "      <td>13219.0</td>\n",
       "      <td>13219.0</td>\n",
       "      <td>Ukraine: Government</td>\n",
       "      <td>14085.0</td>\n",
       "      <td>...</td>\n",
       "      <td>00:00.0</td>\n",
       "      <td>0.0</td>\n",
       "      <td>5.0</td>\n",
       "      <td>0.0</td>\n",
       "      <td>0.0</td>\n",
       "      <td>5</td>\n",
       "      <td>5.0</td>\n",
       "      <td>5.0</td>\n",
       "      <td>369.0</td>\n",
       "      <td>NaN</td>\n",
       "    </tr>\n",
       "    <tr>\n",
       "      <th>1</th>\n",
       "      <td>149221.0</td>\n",
       "      <td>UKR-2014-1-14085-1</td>\n",
       "      <td>2014</td>\n",
       "      <td>1.0</td>\n",
       "      <td>Clear</td>\n",
       "      <td>1.0</td>\n",
       "      <td>13219.0</td>\n",
       "      <td>13219.0</td>\n",
       "      <td>Ukraine: Government</td>\n",
       "      <td>14085.0</td>\n",
       "      <td>...</td>\n",
       "      <td>00:00.0</td>\n",
       "      <td>0.0</td>\n",
       "      <td>0.0</td>\n",
       "      <td>0.0</td>\n",
       "      <td>1.0</td>\n",
       "      <td>1</td>\n",
       "      <td>1.0</td>\n",
       "      <td>1.0</td>\n",
       "      <td>369.0</td>\n",
       "      <td>NaN</td>\n",
       "    </tr>\n",
       "    <tr>\n",
       "      <th>2</th>\n",
       "      <td>149248.0</td>\n",
       "      <td>UKR-2014-1-14085-3</td>\n",
       "      <td>2014</td>\n",
       "      <td>1.0</td>\n",
       "      <td>Clear</td>\n",
       "      <td>1.0</td>\n",
       "      <td>13219.0</td>\n",
       "      <td>13219.0</td>\n",
       "      <td>Ukraine: Government</td>\n",
       "      <td>14085.0</td>\n",
       "      <td>...</td>\n",
       "      <td>00:00.0</td>\n",
       "      <td>10.0</td>\n",
       "      <td>4.0</td>\n",
       "      <td>0.0</td>\n",
       "      <td>12.0</td>\n",
       "      <td>26</td>\n",
       "      <td>26.0</td>\n",
       "      <td>26.0</td>\n",
       "      <td>369.0</td>\n",
       "      <td>NaN</td>\n",
       "    </tr>\n",
       "    <tr>\n",
       "      <th>3</th>\n",
       "      <td>149249.0</td>\n",
       "      <td>UKR-2014-1-14085-4</td>\n",
       "      <td>2014</td>\n",
       "      <td>1.0</td>\n",
       "      <td>Clear</td>\n",
       "      <td>1.0</td>\n",
       "      <td>13219.0</td>\n",
       "      <td>13219.0</td>\n",
       "      <td>Ukraine: Government</td>\n",
       "      <td>14085.0</td>\n",
       "      <td>...</td>\n",
       "      <td>00:00.0</td>\n",
       "      <td>0.0</td>\n",
       "      <td>0.0</td>\n",
       "      <td>0.0</td>\n",
       "      <td>2.0</td>\n",
       "      <td>2</td>\n",
       "      <td>2.0</td>\n",
       "      <td>2.0</td>\n",
       "      <td>369.0</td>\n",
       "      <td>NaN</td>\n",
       "    </tr>\n",
       "    <tr>\n",
       "      <th>4</th>\n",
       "      <td>149251.0</td>\n",
       "      <td>UKR-2014-1-14085-6</td>\n",
       "      <td>2014</td>\n",
       "      <td>1.0</td>\n",
       "      <td>Clear</td>\n",
       "      <td>1.0</td>\n",
       "      <td>13219.0</td>\n",
       "      <td>13219.0</td>\n",
       "      <td>Ukraine: Government</td>\n",
       "      <td>14085.0</td>\n",
       "      <td>...</td>\n",
       "      <td>00:00.0</td>\n",
       "      <td>0.0</td>\n",
       "      <td>0.0</td>\n",
       "      <td>0.0</td>\n",
       "      <td>6.0</td>\n",
       "      <td>6</td>\n",
       "      <td>6.0</td>\n",
       "      <td>6.0</td>\n",
       "      <td>369.0</td>\n",
       "      <td>NaN</td>\n",
       "    </tr>\n",
       "  </tbody>\n",
       "</table>\n",
       "<p>5 rows × 50 columns</p>\n",
       "</div>"
      ],
      "text/plain": [
       "         id               relid  year  active_year code_status  \\\n",
       "0  147997.0  UKR-2014-1-14085-0  2014          1.0       Clear   \n",
       "1  149221.0  UKR-2014-1-14085-1  2014          1.0       Clear   \n",
       "2  149248.0  UKR-2014-1-14085-3  2014          1.0       Clear   \n",
       "3  149249.0  UKR-2014-1-14085-4  2014          1.0       Clear   \n",
       "4  149251.0  UKR-2014-1-14085-6  2014          1.0       Clear   \n",
       "\n",
       "   type_of_violence  conflict_dset_id  conflict_new_id        conflict_name  \\\n",
       "0               1.0           13219.0          13219.0  Ukraine: Government   \n",
       "1               1.0           13219.0          13219.0  Ukraine: Government   \n",
       "2               1.0           13219.0          13219.0  Ukraine: Government   \n",
       "3               1.0           13219.0          13219.0  Ukraine: Government   \n",
       "4               1.0           13219.0          13219.0  Ukraine: Government   \n",
       "\n",
       "   dyad_dset_id  ...  date_end deaths_a  deaths_b  deaths_civilians  \\\n",
       "0       14085.0  ...   00:00.0      0.0       5.0               0.0   \n",
       "1       14085.0  ...   00:00.0      0.0       0.0               0.0   \n",
       "2       14085.0  ...   00:00.0     10.0       4.0               0.0   \n",
       "3       14085.0  ...   00:00.0      0.0       0.0               0.0   \n",
       "4       14085.0  ...   00:00.0      0.0       0.0               0.0   \n",
       "\n",
       "  deaths_unknown  best  high   low  gwnoa gwnob  \n",
       "0            0.0     5   5.0   5.0  369.0   NaN  \n",
       "1            1.0     1   1.0   1.0  369.0   NaN  \n",
       "2           12.0    26  26.0  26.0  369.0   NaN  \n",
       "3            2.0     2   2.0   2.0  369.0   NaN  \n",
       "4            6.0     6   6.0   6.0  369.0   NaN  \n",
       "\n",
       "[5 rows x 50 columns]"
      ]
     },
     "execution_count": 16,
     "metadata": {},
     "output_type": "execute_result"
    }
   ],
   "source": [
    "df1.head()"
   ]
  },
  {
   "cell_type": "markdown",
   "id": "267fdf6f",
   "metadata": {},
   "source": [
    "* Change `year` of df1 to integer type"
   ]
  },
  {
   "cell_type": "markdown",
   "id": "85ae269a",
   "metadata": {},
   "source": [
    "#### Code"
   ]
  },
  {
   "cell_type": "code",
   "execution_count": 17,
   "id": "f9aab77b",
   "metadata": {},
   "outputs": [],
   "source": [
    "df1.year = df1.year.astype('int64')"
   ]
  },
  {
   "cell_type": "markdown",
   "id": "bd22d567",
   "metadata": {},
   "source": [
    "#### Test"
   ]
  },
  {
   "cell_type": "code",
   "execution_count": 18,
   "id": "2020f8e1",
   "metadata": {},
   "outputs": [
    {
     "data": {
      "text/plain": [
       "dtype('int64')"
      ]
     },
     "execution_count": 18,
     "metadata": {},
     "output_type": "execute_result"
    }
   ],
   "source": [
    "df1.year.dtype"
   ]
  },
  {
   "cell_type": "markdown",
   "id": "d1d956dd",
   "metadata": {},
   "source": [
    "* Imputing missing values in `Actor2` feature from df2 with 'None'"
   ]
  },
  {
   "cell_type": "markdown",
   "id": "f4601bdc",
   "metadata": {},
   "source": [
    "#### Code"
   ]
  },
  {
   "cell_type": "code",
   "execution_count": 19,
   "id": "f8aa8036",
   "metadata": {},
   "outputs": [],
   "source": [
    "df2.loc[df2['ACTOR2'].isna(), 'ACTOR2'] = 'None'"
   ]
  },
  {
   "cell_type": "markdown",
   "id": "bdf7c018",
   "metadata": {},
   "source": [
    "#### Test"
   ]
  },
  {
   "cell_type": "code",
   "execution_count": 20,
   "id": "d1d5ebd2",
   "metadata": {},
   "outputs": [
    {
     "data": {
      "text/plain": [
       "(44253, 31)"
      ]
     },
     "execution_count": 20,
     "metadata": {},
     "output_type": "execute_result"
    }
   ],
   "source": [
    "df2[df2['ACTOR2'] == 'None'].shape"
   ]
  },
  {
   "cell_type": "markdown",
   "id": "e9b55f7d",
   "metadata": {},
   "source": [
    "* Delete datapoints from 2018-2021 in df1"
   ]
  },
  {
   "cell_type": "markdown",
   "id": "1e33be88",
   "metadata": {},
   "source": [
    "#### Code"
   ]
  },
  {
   "cell_type": "code",
   "execution_count": 21,
   "id": "07df6e80",
   "metadata": {},
   "outputs": [
    {
     "data": {
      "text/plain": [
       "(2325, 50)"
      ]
     },
     "execution_count": 21,
     "metadata": {},
     "output_type": "execute_result"
    }
   ],
   "source": [
    "index = df1[df1.year >= 2018].index.values\n",
    "df1.drop(index, axis = 0, inplace = True)\n",
    "df1.shape"
   ]
  },
  {
   "cell_type": "markdown",
   "id": "b7c2a179",
   "metadata": {},
   "source": [
    "#### Test"
   ]
  },
  {
   "cell_type": "code",
   "execution_count": 22,
   "id": "fcb390ff",
   "metadata": {},
   "outputs": [
    {
     "data": {
      "text/html": [
       "<div>\n",
       "<style scoped>\n",
       "    .dataframe tbody tr th:only-of-type {\n",
       "        vertical-align: middle;\n",
       "    }\n",
       "\n",
       "    .dataframe tbody tr th {\n",
       "        vertical-align: top;\n",
       "    }\n",
       "\n",
       "    .dataframe thead th {\n",
       "        text-align: right;\n",
       "    }\n",
       "</style>\n",
       "<table border=\"1\" class=\"dataframe\">\n",
       "  <thead>\n",
       "    <tr style=\"text-align: right;\">\n",
       "      <th></th>\n",
       "      <th>id</th>\n",
       "      <th>relid</th>\n",
       "      <th>year</th>\n",
       "      <th>active_year</th>\n",
       "      <th>code_status</th>\n",
       "      <th>type_of_violence</th>\n",
       "      <th>conflict_dset_id</th>\n",
       "      <th>conflict_new_id</th>\n",
       "      <th>conflict_name</th>\n",
       "      <th>dyad_dset_id</th>\n",
       "      <th>...</th>\n",
       "      <th>date_end</th>\n",
       "      <th>deaths_a</th>\n",
       "      <th>deaths_b</th>\n",
       "      <th>deaths_civilians</th>\n",
       "      <th>deaths_unknown</th>\n",
       "      <th>best</th>\n",
       "      <th>high</th>\n",
       "      <th>low</th>\n",
       "      <th>gwnoa</th>\n",
       "      <th>gwnob</th>\n",
       "    </tr>\n",
       "  </thead>\n",
       "  <tbody>\n",
       "  </tbody>\n",
       "</table>\n",
       "<p>0 rows × 50 columns</p>\n",
       "</div>"
      ],
      "text/plain": [
       "Empty DataFrame\n",
       "Columns: [id, relid, year, active_year, code_status, type_of_violence, conflict_dset_id, conflict_new_id, conflict_name, dyad_dset_id, dyad_new_id, dyad_name, side_a_dset_id, side_a_new_id, side_a, side_b_dset_id, side_b_new_id, side_b, number_of_sources, source_article, source_office, source_date, source_headline, source_original, where_prec, where_coordinates, where_description, adm_1, adm_2, latitude, longitude, geom_wkt, priogrid_gid, country, iso3, country_id, region, event_clarity, date_prec, date_start, date_end, deaths_a, deaths_b, deaths_civilians, deaths_unknown, best, high, low, gwnoa, gwnob]\n",
       "Index: []\n",
       "\n",
       "[0 rows x 50 columns]"
      ]
     },
     "execution_count": 22,
     "metadata": {},
     "output_type": "execute_result"
    }
   ],
   "source": [
    "df1[df1.year >= 2018]"
   ]
  },
  {
   "cell_type": "markdown",
   "id": "4781c567",
   "metadata": {},
   "source": [
    "* Join `deaths_a`, `deaths_b`, `deaths_civilians`, `deaths_unknown` features values as `fatalities`"
   ]
  },
  {
   "cell_type": "markdown",
   "id": "48ae6198",
   "metadata": {},
   "source": [
    "#### Code"
   ]
  },
  {
   "cell_type": "code",
   "execution_count": 23,
   "id": "79a777e4",
   "metadata": {},
   "outputs": [],
   "source": [
    "# joining columns values into one new column\n",
    "a = df1.deaths_a.values\n",
    "b = df1.deaths_b.values\n",
    "c = df1.deaths_civilians.values\n",
    "d = df1.deaths_unknown.values\n",
    "df1['fatalities'] = a + b + c + d\n",
    "\n",
    "# dropping the columns\n",
    "df1.drop(columns = ['deaths_a', 'deaths_b', 'deaths_civilians', 'deaths_unknown'], inplace = True)"
   ]
  },
  {
   "cell_type": "markdown",
   "id": "dbe2b040",
   "metadata": {},
   "source": [
    "#### Test"
   ]
  },
  {
   "cell_type": "code",
   "execution_count": 24,
   "id": "e819623c",
   "metadata": {},
   "outputs": [
    {
     "name": "stdout",
     "output_type": "stream",
     "text": [
      "(2325, 47)\n"
     ]
    },
    {
     "data": {
      "text/plain": [
       "0        5.0\n",
       "1        1.0\n",
       "2       26.0\n",
       "3        2.0\n",
       "4        6.0\n",
       "        ... \n",
       "2828     1.0\n",
       "2829     4.0\n",
       "2830     1.0\n",
       "2831     1.0\n",
       "2832     1.0\n",
       "Name: fatalities, Length: 2325, dtype: float64"
      ]
     },
     "execution_count": 24,
     "metadata": {},
     "output_type": "execute_result"
    }
   ],
   "source": [
    "print(df1.shape)\n",
    "df1['fatalities']"
   ]
  },
  {
   "cell_type": "markdown",
   "id": "cb228318",
   "metadata": {},
   "source": [
    "*  Delete features from df1\n",
    "    * id\n",
    "    * relid\n",
    "    * active_year\n",
    "    * code_status \n",
    "    * conflict_new_id\n",
    "    * conflict_name\n",
    "    * dyad_dset_id\n",
    "    * dyad_new_id\n",
    "    * dyad_name\n",
    "    * side_a_dset_id\n",
    "    * side_a_new_id\n",
    "    * side_b_dset_id\n",
    "    * side_b_dset_id\n",
    "    * number_of_sources\n",
    "    * source_article\n",
    "    * source_article\n",
    "    * source_date\n",
    "    * source_headline\n",
    "    * source_original\n",
    "    * where_prec\n",
    "    * where_description\n",
    "    * geom_wkt\n",
    "    * priogrid_gid\n",
    "    * country_id\n",
    "    * event_clarity\n",
    "    * date_prec\n",
    "    * date_start\n",
    "    * date_end\n",
    "    * date_end\n",
    "    * deaths_b\n",
    "    * deaths_civilians\n",
    "    * deaths_civilians\n",
    "    * best\n",
    "    * high\n",
    "    * low\n",
    "    * gwnoa\n",
    "    * gwnob"
   ]
  },
  {
   "cell_type": "markdown",
   "id": "da9cac46",
   "metadata": {},
   "source": [
    "#### Code"
   ]
  },
  {
   "cell_type": "code",
   "execution_count": 25,
   "id": "b7af886e",
   "metadata": {},
   "outputs": [],
   "source": [
    "index = list(df1.columns[[0, 1]]) + df1.columns[3:8].tolist() + df1.columns[9:14].tolist() + list(df1.columns[[15, 16]]) + df1.columns[18:25].tolist() + [df1.columns[26]] + [df1.columns[31]] + [df1.columns[32]] + df1.columns[34:46].tolist()\n",
    "df1.drop(columns=index, inplace=True)"
   ]
  },
  {
   "cell_type": "markdown",
   "id": "68b7805c",
   "metadata": {},
   "source": [
    "#### Test"
   ]
  },
  {
   "cell_type": "code",
   "execution_count": 26,
   "id": "70432484",
   "metadata": {},
   "outputs": [
    {
     "data": {
      "text/plain": [
       "Index(['year', 'conflict_name', 'side_a', 'side_b', 'where_coordinates',\n",
       "       'adm_1', 'adm_2', 'latitude', 'longitude', 'country', 'fatalities'],\n",
       "      dtype='object')"
      ]
     },
     "execution_count": 26,
     "metadata": {},
     "output_type": "execute_result"
    }
   ],
   "source": [
    "df1.columns"
   ]
  },
  {
   "cell_type": "markdown",
   "id": "13aa6c66",
   "metadata": {},
   "source": [
    "*  Delete features from df2:\n",
    "    * EVENT_ID_CNTY\n",
    "    * EVENT_DATE\n",
    "    * TIME_PRECISION\n",
    "    * SOURCE\n",
    "    * SOURCE_SCALE\n",
    "    * NOTES\n",
    "    * TAGS\n",
    "    * TIMESTAMP"
   ]
  },
  {
   "cell_type": "markdown",
   "id": "6ef393a7",
   "metadata": {},
   "source": [
    "#### Code"
   ]
  },
  {
   "cell_type": "code",
   "execution_count": 27,
   "id": "82536b7c",
   "metadata": {},
   "outputs": [],
   "source": [
    "columns = ['EVENT_ID_CNTY', 'EVENT_DATE', 'TIME_PRECISION', 'SOURCE', 'SOURCE_SCALE', 'NOTES', 'TAGS', 'TIMESTAMP', 'REGION', 'ISO', 'GEO_PRECISION']\n",
    "df2.drop(columns = columns, inplace=True)"
   ]
  },
  {
   "cell_type": "markdown",
   "id": "9bf55ad6",
   "metadata": {},
   "source": [
    "#### Test"
   ]
  },
  {
   "cell_type": "code",
   "execution_count": 28,
   "id": "dd07d685",
   "metadata": {},
   "outputs": [
    {
     "data": {
      "text/plain": [
       "Index(['YEAR', 'DISORDER_TYPE', 'EVENT_TYPE', 'SUB_EVENT_TYPE', 'ACTOR1',\n",
       "       'ASSOC_ACTOR_1', 'INTER1', 'ACTOR2', 'ASSOC_ACTOR_2', 'INTER2',\n",
       "       'INTERACTION', 'CIVILIAN_TARGETING', 'COUNTRY', 'ADMIN1', 'ADMIN2',\n",
       "       'ADMIN3', 'LOCATION', 'LATITUDE', 'LONGITUDE', 'FATALITIES'],\n",
       "      dtype='object')"
      ]
     },
     "execution_count": 28,
     "metadata": {},
     "output_type": "execute_result"
    }
   ],
   "source": [
    "df2.columns"
   ]
  },
  {
   "cell_type": "markdown",
   "id": "8471c039",
   "metadata": {},
   "source": [
    "* Lowcase all df2 features"
   ]
  },
  {
   "cell_type": "markdown",
   "id": "1bed2bea",
   "metadata": {},
   "source": [
    "#### Code"
   ]
  },
  {
   "cell_type": "code",
   "execution_count": 29,
   "id": "f87fadcc",
   "metadata": {},
   "outputs": [],
   "source": [
    "df2.columns = df2.columns.str.lower()"
   ]
  },
  {
   "cell_type": "markdown",
   "id": "367ebee0",
   "metadata": {},
   "source": [
    "#### Test"
   ]
  },
  {
   "cell_type": "code",
   "execution_count": 30,
   "id": "0864f6df",
   "metadata": {},
   "outputs": [
    {
     "data": {
      "text/plain": [
       "Index(['year', 'disorder_type', 'event_type', 'sub_event_type', 'actor1',\n",
       "       'assoc_actor_1', 'inter1', 'actor2', 'assoc_actor_2', 'inter2',\n",
       "       'interaction', 'civilian_targeting', 'country', 'admin1', 'admin2',\n",
       "       'admin3', 'location', 'latitude', 'longitude', 'fatalities'],\n",
       "      dtype='object')"
      ]
     },
     "execution_count": 30,
     "metadata": {},
     "output_type": "execute_result"
    }
   ],
   "source": [
    "df2.columns"
   ]
  },
  {
   "cell_type": "markdown",
   "id": "49f31cfe",
   "metadata": {},
   "source": [
    "* Concatenate datasets"
   ]
  },
  {
   "cell_type": "markdown",
   "id": "8e05614e",
   "metadata": {},
   "source": [
    "#### Code"
   ]
  },
  {
   "cell_type": "code",
   "execution_count": 31,
   "id": "bce41dd1",
   "metadata": {},
   "outputs": [
    {
     "data": {
      "text/plain": [
       "Index(['year', 'conflict_name', 'side_a', 'side_b', 'where_coordinates',\n",
       "       'adm_1', 'adm_2', 'latitude', 'longitude', 'country', 'fatalities'],\n",
       "      dtype='object')"
      ]
     },
     "execution_count": 31,
     "metadata": {},
     "output_type": "execute_result"
    }
   ],
   "source": [
    "df1.columns"
   ]
  },
  {
   "cell_type": "code",
   "execution_count": 32,
   "id": "4134a3a0",
   "metadata": {},
   "outputs": [
    {
     "data": {
      "text/plain": [
       "Index(['year', 'disorder_type', 'event_type', 'sub_event_type', 'actor1',\n",
       "       'assoc_actor_1', 'inter1', 'actor2', 'assoc_actor_2', 'inter2',\n",
       "       'interaction', 'civilian_targeting', 'country', 'admin1', 'admin2',\n",
       "       'admin3', 'location', 'latitude', 'longitude', 'fatalities'],\n",
       "      dtype='object')"
      ]
     },
     "execution_count": 32,
     "metadata": {},
     "output_type": "execute_result"
    }
   ],
   "source": [
    "df2.columns"
   ]
  },
  {
   "cell_type": "code",
   "execution_count": 33,
   "id": "81b190cd",
   "metadata": {},
   "outputs": [],
   "source": [
    "df1.rename(columns = {'side_a' : 'actor1', 'side_b' : 'actor2', 'where_coordinates' : 'location', 'adm_1': 'admin1',\n",
    "                     'adm_2': 'admin2', 'conflict_name': 'disorder_type'}, inplace = True)"
   ]
  },
  {
   "cell_type": "code",
   "execution_count": 34,
   "id": "53d7cef0",
   "metadata": {},
   "outputs": [
    {
     "data": {
      "text/plain": [
       "Political violence    2324\n",
       "Demonstrations           1\n",
       "Name: disorder_type, dtype: int64"
      ]
     },
     "execution_count": 34,
     "metadata": {},
     "output_type": "execute_result"
    }
   ],
   "source": [
    "# replacing actor terms  Supporters\n",
    "df1.disorder_type = df1.disorder_type.apply(lambda x: 'Demonstrations' if 'Supporters' in x else 'Political violence')\n",
    "df1.disorder_type.value_counts()"
   ]
  },
  {
   "cell_type": "code",
   "execution_count": 35,
   "id": "958acb8b",
   "metadata": {},
   "outputs": [
    {
     "data": {
      "text/plain": [
       "Military Forces of Ukraine                        2324\n",
       "Supporters of independence for Eastern Ukraine       1\n",
       "Name: actor1, dtype: int64"
      ]
     },
     "execution_count": 35,
     "metadata": {},
     "output_type": "execute_result"
    }
   ],
   "source": [
    "# replacing actor terms\n",
    "df1.actor1 = df1.actor1.apply(lambda x: 'Military Forces of Ukraine' if 'Government of Ukraine' in x else x)\n",
    "df1.actor2 = df1.actor2.apply(lambda x: 'Military Forces of Ukraine' if 'Government of Ukraine' in x else x)\n",
    "df1.actor1.value_counts()"
   ]
  },
  {
   "cell_type": "code",
   "execution_count": 36,
   "id": "0e9dc4d1",
   "metadata": {},
   "outputs": [
    {
     "data": {
      "text/plain": [
       "Military Forces of Russia                  34682\n",
       "Military Forces of Ukraine                 32573\n",
       "NAF: United Armed Forces of Novorossiya    20543\n",
       "Protesters (Ukraine)                        5533\n",
       "Unidentified Armed Group (Ukraine)          1010\n",
       "                                           ...  \n",
       "Henichesk Communal Militia (Ukraine)           1\n",
       "Terpinnia Communal Militia (Ukraine)           1\n",
       "Russian Occupation Government (Ukraine)        1\n",
       "Chornobaivka Communal Militia (Ukraine)        1\n",
       "Yuvileine Communal Militia (Ukraine)           1\n",
       "Name: actor1, Length: 82, dtype: int64"
      ]
     },
     "execution_count": 36,
     "metadata": {},
     "output_type": "execute_result"
    }
   ],
   "source": [
    "# replacing actor terms\n",
    "df2.actor1 = df2.actor1.apply(lambda x: 'Military Forces of Ukraine' if 'Military Forces of Ukraine' in x else x)\n",
    "df2.actor2 = df2.actor2.apply(lambda x: 'Military Forces of Ukraine' if 'Military Forces of Ukraine' in x else x)\n",
    " \n",
    "df2.actor1 = df2.actor1.apply(lambda x: 'Military Forces of Russia' if 'Military Forces of Russia' in x else x)\n",
    "df2.actor2 = df2.actor2.apply(lambda x: 'Military Forces of Russia' if 'Military Forces of Russia' in x else x)\n",
    "\n",
    "df2.actor1 = df2.actor1.apply(lambda x: 'Military Forces of Romania' if 'Military Forces of Romania' in x else x)\n",
    "df2.actor2 = df2.actor2.apply(lambda x: 'Military Forces of Romania' if 'Military Forces of Romania' in x else x)\n",
    "\n",
    "df2.actor1 = df2.actor1.apply(lambda x: 'Military Forces of Russia' if 'Military Forces of Russia' in x else x)\n",
    "df2.actor2 = df2.actor2.apply(lambda x: 'Military Forces of Russia' if 'Military Forces of Russia' in x else x)\n",
    "\n",
    "df2.actor1 = df2.actor1.apply(lambda x: 'Police Forces of Romania' if 'Police Forces of Romania' in x else x)\n",
    "df2.actor2 = df2.actor2.apply(lambda x: 'Police Forces of Romania' if 'Police Forces of Romania' in x else x)\n",
    "\n",
    "df2.actor1 = df2.actor1.apply(lambda x: 'Police Forces of Ukraine' if 'Police Forces of Ukraine' in x else x)\n",
    "df2.actor2 = df2.actor2.apply(lambda x: 'Police Forces of Ukraine' if 'Police Forces of Ukraine' in x else x)\n",
    "\n",
    "df2.actor1 = df2.actor1.apply(lambda x: 'Military Forces of Turkey' if 'Military Forces of Turkey' in x else x)\n",
    "df2.actor2 = df2.actor2.apply(lambda x: 'Military Forces of Turkey' if 'Military Forces of Turkey' in x else x)\n",
    "\n",
    "df2.actor1 = df2.actor1.apply(lambda x: 'Military Forces of the United States' if 'Military Forces of the United States' in x else x)\n",
    "df2.actor2 = df2.actor2.apply(lambda x: 'Military Forces of the United States' if 'Military Forces of the United States' in x else x)\n",
    "\n",
    "df2.actor1 = df2.actor1.apply(lambda x: 'Government of Russia' if 'Government of Russia' in x else x)\n",
    "df2.actor2 = df2.actor2.apply(lambda x: 'Government of Russia' if 'Government of Russia' in x else x)\n",
    "\n",
    "df2.actor1 = df2.actor1.apply(lambda x: 'Police Forces of Ukraine' if 'Police Forces of Ukraine' in x else x)\n",
    "df2.actor2 = df2.actor2.apply(lambda x: 'Police Forces of Ukraine' if 'Police Forces of Ukraine' in x else x)\n",
    "\n",
    "df2.actor1 = df2.actor1.apply(lambda x: 'Police Forces of Russia' if 'Police Forces of Russia' in x else x)\n",
    "df2.actor2 = df2.actor2.apply(lambda x: 'Police Forces of Russia' if 'Police Forces of Russia' in x else x)\n",
    "\n",
    "df2.actor1 = df2.actor1.apply(lambda x: 'Military Forces of Belarus' if 'Military Forces of Belarus' in x else x)\n",
    "df2.actor2 = df2.actor2.apply(lambda x: 'Military Forces of Belarus' if 'Military Forces of Belarus' in x else x)\n",
    "\n",
    "df2.actor1 = df2.actor1.apply(lambda x: 'Military Forces of Canada' if 'Military Forces of Canada' in x else x)\n",
    "df2.actor2 = df2.actor2.apply(lambda x: 'Military Forces of Canada' if 'Military Forces of Canada' in x else x)\n",
    "\n",
    "df2.actor1 = df2.actor1.apply(lambda x: 'Government of Ukraine' if 'Government of Ukraine' in x else x)\n",
    "df2.actor2 = df2.actor2.apply(lambda x: 'Government of Ukraine' if 'Government of Ukraine' in x else x)\n",
    "\n",
    "df2.actor1.value_counts()"
   ]
  },
  {
   "cell_type": "code",
   "execution_count": 37,
   "id": "0241a092",
   "metadata": {},
   "outputs": [
    {
     "data": {
      "text/plain": [
       "DPR                                        1066\n",
       "NAF: United Armed Forces of Novorossiya     870\n",
       "LPR                                         382\n",
       "Maidan                                        6\n",
       "Supporters of Ukrainian unity                 1\n",
       "Name: actor2, dtype: int64"
      ]
     },
     "execution_count": 37,
     "metadata": {},
     "output_type": "execute_result"
    }
   ],
   "source": [
    "# replacing actor terms\n",
    "df1.actor1 = df1.actor1.apply(lambda x: 'NAF: United Armed Forces of Novorossiya' if 'United Armed Forces of Novorossiya' in x else x)\n",
    "df1.actor2 = df1.actor2.apply(lambda x: 'NAF: United Armed Forces of Novorossiya' if 'United Armed Forces of Novorossiya' in x else x)\n",
    "df1.actor2.value_counts()"
   ]
  },
  {
   "cell_type": "code",
   "execution_count": 38,
   "id": "885e4970",
   "metadata": {},
   "outputs": [
    {
     "data": {
      "text/plain": [
       "nan                                                           89594\n",
       "Military Forces of Russia                                      1455\n",
       "National Corps Party                                            865\n",
       "Labor Group (Ukraine)                                           614\n",
       "Refugees/IDPs (Ukraine)                                         301\n",
       "                                                              ...  \n",
       "Protesters (Hungary)                                              1\n",
       "Refugees/IDPs (Kazakhstan)                                        1\n",
       "Civilians (Russia)                                                1\n",
       "OSCE: Organization for Security and Co-operation in Europe        1\n",
       "Enerhodar Communal Militia (Ukraine)                              1\n",
       "Name: assoc_actor_1, Length: 141, dtype: int64"
      ]
     },
     "execution_count": 38,
     "metadata": {},
     "output_type": "execute_result"
    }
   ],
   "source": [
    "## Split the string and keeping only the first associate actor\n",
    "df2.assoc_actor_1 = df2.assoc_actor_1.apply(lambda x: str(x).split(';')[0])\n",
    "df2.assoc_actor_2 = df2.assoc_actor_2.apply(lambda x: str(x).split(';')[0])\n",
    "df2.assoc_actor_1 = df2.assoc_actor_1.apply(lambda x: str(x).split(',')[0])\n",
    "df2.assoc_actor_2 = df2.assoc_actor_2.apply(lambda x: str(x).split(',')[0])\n",
    "\n",
    "# replacing associate actor terms\n",
    "df2.assoc_actor_1 = df2.assoc_actor_1.apply(lambda x: 'Military Forces of Ukraine' if 'Military Forces of Ukraine' in x else x)\n",
    "df2.assoc_actor_2 = df2.assoc_actor_2.apply(lambda x: 'Military Forces of Ukraine' if 'Military Forces of Ukraine' in x else x)\n",
    " \n",
    "df2.assoc_actor_1 = df2.assoc_actor_1.apply(lambda x: 'Military Forces of Russia' if 'Military Forces of Russia' in x else x)\n",
    "df2.assoc_actor_2 = df2.assoc_actor_2.apply(lambda x: 'Military Forces of Russia' if 'Military Forces of Russia' in x else x)\n",
    "\n",
    "df2.assoc_actor_1 = df2.assoc_actor_1.apply(lambda x: 'Military Forces of Romania' if 'Military Forces of Romania' in x else x)\n",
    "df2.assoc_actor_2 = df2.assoc_actor_2.apply(lambda x: 'Military Forces of Romania' if 'Military Forces of Romania' in x else x)\n",
    "\n",
    "df2.assoc_actor_1 = df2.assoc_actor_1.apply(lambda x: 'Military Forces of Russia' if 'Military Forces of Russia' in x else x)\n",
    "df2.assoc_actor_2 = df2.assoc_actor_2.apply(lambda x: 'Military Forces of Russia' if 'Military Forces of Russia' in x else x)\n",
    "\n",
    "df2.assoc_actor_1 = df2.assoc_actor_1.apply(lambda x: 'Police Forces of Romania' if 'Police Forces of Romania' in x else x)\n",
    "df2.assoc_actor_2 = df2.assoc_actor_2.apply(lambda x: 'Police Forces of Romania' if 'Police Forces of Romania' in x else x)\n",
    "\n",
    "df2.assoc_actor_1 = df2.assoc_actor_1.apply(lambda x: 'Police Forces of Ukraine' if 'Police Forces of Ukraine' in x else x)\n",
    "df2.assoc_actor_2 = df2.assoc_actor_2.apply(lambda x: 'Police Forces of Ukraine' if 'Police Forces of Ukraine' in x else x)\n",
    "\n",
    "df2.assoc_actor_1 = df2.assoc_actor_1.apply(lambda x: 'Military Forces of Turkey' if 'Military Forces of Turkey' in x else x)\n",
    "df2.assoc_actor_2 = df2.assoc_actor_2.apply(lambda x: 'Military Forces of Turkey' if 'Military Forces of Turkey' in x else x)\n",
    "\n",
    "df2.assoc_actor_1 = df2.assoc_actor_1.apply(lambda x: 'Military Forces of the United States' if 'Military Forces of the United States' in x else x)\n",
    "df2.assoc_actor_2 = df2.assoc_actor_2.apply(lambda x: 'Military Forces of the United States' if 'Military Forces of the United States' in x else x)\n",
    "\n",
    "df2.assoc_actor_1 = df2.assoc_actor_1.apply(lambda x: 'Government of Russia' if 'Government of Russia' in x else x)\n",
    "df2.assoc_actor_2 = df2.assoc_actor_2.apply(lambda x: 'Government of Russia' if 'Government of Russia' in x else x)\n",
    "\n",
    "df2.assoc_actor_1 = df2.assoc_actor_1.apply(lambda x: 'Police Forces of Ukraine' if 'Police Forces of Ukraine' in x else x)\n",
    "df2.assoc_actor_2 = df2.assoc_actor_2.apply(lambda x: 'Police Forces of Ukraine' if 'Police Forces of Ukraine' in x else x)\n",
    "\n",
    "df2.assoc_actor_1 = df2.assoc_actor_1.apply(lambda x: 'Police Forces of Russia' if 'Police Forces of Russia' in x else x)\n",
    "df2.assoc_actor_2 = df2.assoc_actor_2.apply(lambda x: 'Police Forces of Russia' if 'Police Forces of Russia' in x else x)\n",
    "\n",
    "df2.assoc_actor_1 = df2.assoc_actor_1.apply(lambda x: 'Military Forces of Canada' if 'Military Forces of Canada' in x else x)\n",
    "df2.assoc_actor_2 = df2.assoc_actor_2.apply(lambda x: 'Military Forces of Canada' if 'Military Forces of Canada' in x else x)\n",
    "\n",
    "df2.assoc_actor_1 = df2.assoc_actor_1.apply(lambda x: 'Military Forces of Belarus' if 'Military Forces of Belarus' in x else x)\n",
    "df2.assoc_actor_2 = df2.assoc_actor_2.apply(lambda x: 'Military Forces of Belarus' if 'Military Forces of Belarus' in x else x)\n",
    "\n",
    "df2.assoc_actor_1 = df2.assoc_actor_1.apply(lambda x: 'Government of Ukraine' if 'Government of Ukraine' in x else x)\n",
    "df2.assoc_actor_2 = df2.assoc_actor_2.apply(lambda x: 'Government of Ukraine' if 'Government of Ukraine' in x else x)\n",
    "\n",
    "# Split the string and keeping only the first actor\n",
    "df2.actor1 = df2.actor1.apply(lambda x: str(x).split(',')[0])\n",
    "df2.actor2 = df2.actor2.apply(lambda x: str(x).split(',')[0])\n",
    "df2.assoc_actor_1.value_counts()"
   ]
  },
  {
   "cell_type": "code",
   "execution_count": 39,
   "id": "a8320147",
   "metadata": {},
   "outputs": [
    {
     "data": {
      "text/plain": [
       "None                                                          89594\n",
       "Military Forces of Russia                                      1455\n",
       "National Corps Party                                            865\n",
       "Labor Group (Ukraine)                                           614\n",
       "Refugees/IDPs (Ukraine)                                         301\n",
       "                                                              ...  \n",
       "Protesters (Hungary)                                              1\n",
       "Refugees/IDPs (Kazakhstan)                                        1\n",
       "Civilians (Russia)                                                1\n",
       "OSCE: Organization for Security and Co-operation in Europe        1\n",
       "Enerhodar Communal Militia (Ukraine)                              1\n",
       "Name: assoc_actor_1, Length: 141, dtype: int64"
      ]
     },
     "execution_count": 39,
     "metadata": {},
     "output_type": "execute_result"
    }
   ],
   "source": [
    "# Imputing 'nan' value with 'None' \n",
    "df2.assoc_actor_1 = df2.assoc_actor_1.apply(lambda x: 'None' if 'nan' in x else x)\n",
    "df2.assoc_actor_2 = df2.assoc_actor_2.apply(lambda x: 'None' if 'nan' in x else x)\n",
    "df2.assoc_actor_1.value_counts()"
   ]
  },
  {
   "cell_type": "code",
   "execution_count": 40,
   "id": "1298f37c",
   "metadata": {},
   "outputs": [
    {
     "name": "stdout",
     "output_type": "stream",
     "text": [
      "<class 'pandas.core.frame.DataFrame'>\n",
      "Int64Index: 98407 entries, 0 to 2832\n",
      "Data columns (total 20 columns):\n",
      " #   Column              Non-Null Count  Dtype  \n",
      "---  ------              --------------  -----  \n",
      " 0   year                98407 non-null  int64  \n",
      " 1   disorder_type       98407 non-null  object \n",
      " 2   event_type          96082 non-null  object \n",
      " 3   sub_event_type      96082 non-null  object \n",
      " 4   actor1              98407 non-null  object \n",
      " 5   assoc_actor_1       96082 non-null  object \n",
      " 6   inter1              96082 non-null  float64\n",
      " 7   actor2              98407 non-null  object \n",
      " 8   assoc_actor_2       96082 non-null  object \n",
      " 9   inter2              96082 non-null  float64\n",
      " 10  interaction         96082 non-null  float64\n",
      " 11  civilian_targeting  4188 non-null   object \n",
      " 12  country             98407 non-null  object \n",
      " 13  admin1              98295 non-null  object \n",
      " 14  admin2              97978 non-null  object \n",
      " 15  admin3              93680 non-null  object \n",
      " 16  location            98407 non-null  object \n",
      " 17  latitude            98407 non-null  object \n",
      " 18  longitude           98407 non-null  object \n",
      " 19  fatalities          98407 non-null  float64\n",
      "dtypes: float64(4), int64(1), object(15)\n",
      "memory usage: 15.8+ MB\n"
     ]
    }
   ],
   "source": [
    "# Concatenating the two dataframes\n",
    "df = pd.concat([df2, df1], axis = 0)\n",
    "df.info()"
   ]
  },
  {
   "cell_type": "markdown",
   "id": "fe949ba2",
   "metadata": {},
   "source": [
    "#### Test"
   ]
  },
  {
   "cell_type": "code",
   "execution_count": 41,
   "id": "319ed80a",
   "metadata": {},
   "outputs": [
    {
     "name": "stdout",
     "output_type": "stream",
     "text": [
      "(98407, 20)\n"
     ]
    },
    {
     "data": {
      "text/plain": [
       "Index(['year', 'disorder_type', 'event_type', 'sub_event_type', 'actor1',\n",
       "       'assoc_actor_1', 'inter1', 'actor2', 'assoc_actor_2', 'inter2',\n",
       "       'interaction', 'civilian_targeting', 'country', 'admin1', 'admin2',\n",
       "       'admin3', 'location', 'latitude', 'longitude', 'fatalities'],\n",
       "      dtype='object')"
      ]
     },
     "execution_count": 41,
     "metadata": {},
     "output_type": "execute_result"
    }
   ],
   "source": [
    "print(df.shape)\n",
    "df.columns"
   ]
  },
  {
   "cell_type": "markdown",
   "id": "a0740d4f",
   "metadata": {},
   "source": [
    "* Impute `None` or `0` to `NaN` values"
   ]
  },
  {
   "cell_type": "markdown",
   "id": "c4466ce2",
   "metadata": {},
   "source": [
    "#### Code"
   ]
  },
  {
   "cell_type": "code",
   "execution_count": 42,
   "id": "7d5e7250",
   "metadata": {
    "scrolled": false
   },
   "outputs": [],
   "source": [
    "def isNaNtoNone(column):\n",
    "    column = column.apply(lambda x: 'None' if pd.isna(x) else x)\n",
    "    return column\n",
    "def isNaNto0(column):\n",
    "    column = column.apply(lambda x: int(0) if pd.isna(x) else x)\n",
    "    return column"
   ]
  },
  {
   "cell_type": "code",
   "execution_count": 43,
   "id": "ff836cfd",
   "metadata": {},
   "outputs": [],
   "source": [
    "for i in df.columns:\n",
    "    if df[i].dtype == 'object':\n",
    "        df[i] = isNaNtoNone(df[i])\n",
    "    else:\n",
    "        df[i] = isNaNto0(df[i])"
   ]
  },
  {
   "cell_type": "markdown",
   "id": "7679d5d8",
   "metadata": {},
   "source": [
    "#### Test"
   ]
  },
  {
   "cell_type": "code",
   "execution_count": 44,
   "id": "a88e293b",
   "metadata": {},
   "outputs": [
    {
     "data": {
      "text/html": [
       "<div>\n",
       "<style scoped>\n",
       "    .dataframe tbody tr th:only-of-type {\n",
       "        vertical-align: middle;\n",
       "    }\n",
       "\n",
       "    .dataframe tbody tr th {\n",
       "        vertical-align: top;\n",
       "    }\n",
       "\n",
       "    .dataframe thead th {\n",
       "        text-align: right;\n",
       "    }\n",
       "</style>\n",
       "<table border=\"1\" class=\"dataframe\">\n",
       "  <thead>\n",
       "    <tr style=\"text-align: right;\">\n",
       "      <th></th>\n",
       "      <th>year</th>\n",
       "      <th>disorder_type</th>\n",
       "      <th>event_type</th>\n",
       "      <th>sub_event_type</th>\n",
       "      <th>actor1</th>\n",
       "      <th>assoc_actor_1</th>\n",
       "      <th>inter1</th>\n",
       "      <th>actor2</th>\n",
       "      <th>assoc_actor_2</th>\n",
       "      <th>inter2</th>\n",
       "      <th>interaction</th>\n",
       "      <th>civilian_targeting</th>\n",
       "      <th>country</th>\n",
       "      <th>admin1</th>\n",
       "      <th>admin2</th>\n",
       "      <th>admin3</th>\n",
       "      <th>location</th>\n",
       "      <th>latitude</th>\n",
       "      <th>longitude</th>\n",
       "      <th>fatalities</th>\n",
       "    </tr>\n",
       "  </thead>\n",
       "  <tbody>\n",
       "    <tr>\n",
       "      <th>0</th>\n",
       "      <td>2019</td>\n",
       "      <td>Political violence</td>\n",
       "      <td>Violence against civilians</td>\n",
       "      <td>Attack</td>\n",
       "      <td>Police Forces of Romania</td>\n",
       "      <td>None</td>\n",
       "      <td>1.0</td>\n",
       "      <td>Civilians (Turkey)</td>\n",
       "      <td>Fishers (Turkey)</td>\n",
       "      <td>7.0</td>\n",
       "      <td>17.0</td>\n",
       "      <td>Civilian targeting</td>\n",
       "      <td>Romania</td>\n",
       "      <td>Constanta</td>\n",
       "      <td>None</td>\n",
       "      <td>None</td>\n",
       "      <td>Coast of Constanta</td>\n",
       "      <td>44.156</td>\n",
       "      <td>28.948</td>\n",
       "      <td>0.0</td>\n",
       "    </tr>\n",
       "    <tr>\n",
       "      <th>1</th>\n",
       "      <td>2022</td>\n",
       "      <td>Strategic developments</td>\n",
       "      <td>Strategic developments</td>\n",
       "      <td>Disrupted weapons use</td>\n",
       "      <td>Military Forces of Romania</td>\n",
       "      <td>None</td>\n",
       "      <td>1.0</td>\n",
       "      <td>Unidentified Military Forces</td>\n",
       "      <td>None</td>\n",
       "      <td>8.0</td>\n",
       "      <td>18.0</td>\n",
       "      <td>None</td>\n",
       "      <td>Romania</td>\n",
       "      <td>Constanta</td>\n",
       "      <td>None</td>\n",
       "      <td>None</td>\n",
       "      <td>Coast of Constanta</td>\n",
       "      <td>44.156</td>\n",
       "      <td>28.948</td>\n",
       "      <td>0.0</td>\n",
       "    </tr>\n",
       "    <tr>\n",
       "      <th>2</th>\n",
       "      <td>2022</td>\n",
       "      <td>Demonstrations</td>\n",
       "      <td>Protests</td>\n",
       "      <td>Peaceful protest</td>\n",
       "      <td>Protesters (Romania)</td>\n",
       "      <td>Greenpeace</td>\n",
       "      <td>6.0</td>\n",
       "      <td>None</td>\n",
       "      <td>None</td>\n",
       "      <td>0.0</td>\n",
       "      <td>60.0</td>\n",
       "      <td>None</td>\n",
       "      <td>Romania</td>\n",
       "      <td>Constanta</td>\n",
       "      <td>None</td>\n",
       "      <td>None</td>\n",
       "      <td>Coast of Constanta</td>\n",
       "      <td>44.156</td>\n",
       "      <td>28.948</td>\n",
       "      <td>0.0</td>\n",
       "    </tr>\n",
       "    <tr>\n",
       "      <th>3</th>\n",
       "      <td>2022</td>\n",
       "      <td>Strategic developments</td>\n",
       "      <td>Strategic developments</td>\n",
       "      <td>Disrupted weapons use</td>\n",
       "      <td>Military Forces of Romania</td>\n",
       "      <td>None</td>\n",
       "      <td>1.0</td>\n",
       "      <td>Unidentified Armed Group (International)</td>\n",
       "      <td>None</td>\n",
       "      <td>3.0</td>\n",
       "      <td>13.0</td>\n",
       "      <td>None</td>\n",
       "      <td>Romania</td>\n",
       "      <td>Constanta</td>\n",
       "      <td>None</td>\n",
       "      <td>None</td>\n",
       "      <td>Coast of Constanta</td>\n",
       "      <td>44.156</td>\n",
       "      <td>28.948</td>\n",
       "      <td>0.0</td>\n",
       "    </tr>\n",
       "    <tr>\n",
       "      <th>4</th>\n",
       "      <td>2022</td>\n",
       "      <td>Demonstrations</td>\n",
       "      <td>Protests</td>\n",
       "      <td>Peaceful protest</td>\n",
       "      <td>Protesters (Romania)</td>\n",
       "      <td>Greenpeace</td>\n",
       "      <td>6.0</td>\n",
       "      <td>None</td>\n",
       "      <td>None</td>\n",
       "      <td>0.0</td>\n",
       "      <td>60.0</td>\n",
       "      <td>None</td>\n",
       "      <td>Romania</td>\n",
       "      <td>Constanta</td>\n",
       "      <td>None</td>\n",
       "      <td>None</td>\n",
       "      <td>Coast of Constanta</td>\n",
       "      <td>44.156</td>\n",
       "      <td>28.948</td>\n",
       "      <td>0.0</td>\n",
       "    </tr>\n",
       "  </tbody>\n",
       "</table>\n",
       "</div>"
      ],
      "text/plain": [
       "   year           disorder_type                  event_type  \\\n",
       "0  2019      Political violence  Violence against civilians   \n",
       "1  2022  Strategic developments      Strategic developments   \n",
       "2  2022          Demonstrations                    Protests   \n",
       "3  2022  Strategic developments      Strategic developments   \n",
       "4  2022          Demonstrations                    Protests   \n",
       "\n",
       "          sub_event_type                      actor1 assoc_actor_1  inter1  \\\n",
       "0                 Attack    Police Forces of Romania          None     1.0   \n",
       "1  Disrupted weapons use  Military Forces of Romania          None     1.0   \n",
       "2       Peaceful protest        Protesters (Romania)    Greenpeace     6.0   \n",
       "3  Disrupted weapons use  Military Forces of Romania          None     1.0   \n",
       "4       Peaceful protest        Protesters (Romania)    Greenpeace     6.0   \n",
       "\n",
       "                                     actor2     assoc_actor_2  inter2  \\\n",
       "0                        Civilians (Turkey)  Fishers (Turkey)     7.0   \n",
       "1              Unidentified Military Forces              None     8.0   \n",
       "2                                      None              None     0.0   \n",
       "3  Unidentified Armed Group (International)              None     3.0   \n",
       "4                                      None              None     0.0   \n",
       "\n",
       "   interaction  civilian_targeting  country     admin1 admin2 admin3  \\\n",
       "0         17.0  Civilian targeting  Romania  Constanta   None   None   \n",
       "1         18.0                None  Romania  Constanta   None   None   \n",
       "2         60.0                None  Romania  Constanta   None   None   \n",
       "3         13.0                None  Romania  Constanta   None   None   \n",
       "4         60.0                None  Romania  Constanta   None   None   \n",
       "\n",
       "             location latitude longitude  fatalities  \n",
       "0  Coast of Constanta   44.156    28.948         0.0  \n",
       "1  Coast of Constanta   44.156    28.948         0.0  \n",
       "2  Coast of Constanta   44.156    28.948         0.0  \n",
       "3  Coast of Constanta   44.156    28.948         0.0  \n",
       "4  Coast of Constanta   44.156    28.948         0.0  "
      ]
     },
     "execution_count": 44,
     "metadata": {},
     "output_type": "execute_result"
    }
   ],
   "source": [
    "df.head()"
   ]
  },
  {
   "cell_type": "markdown",
   "id": "124149a4",
   "metadata": {},
   "source": [
    "* Transform `civilian_targeting` to binary type and transform `latitude` and `longitude` to float type"
   ]
  },
  {
   "cell_type": "markdown",
   "id": "eb07a891",
   "metadata": {},
   "source": [
    "#### Code"
   ]
  },
  {
   "cell_type": "code",
   "execution_count": 45,
   "id": "f199bfd2",
   "metadata": {},
   "outputs": [],
   "source": [
    "# transform civilian_targeting to binary type\n",
    "df.civilian_targeting = df.civilian_targeting.apply(lambda x: '1' if 'Civilian targeting' in x else '0')\n",
    "df.civilian_targeting = df.civilian_targeting.astype(int)\n",
    "\n",
    "# transform latitude and longitude to float type\n",
    "df.latitude = df.latitude.astype(float)\n",
    "df.longitude = df.longitude.astype(float)"
   ]
  },
  {
   "cell_type": "markdown",
   "id": "4d7c1abb",
   "metadata": {},
   "source": [
    "#### Test"
   ]
  },
  {
   "cell_type": "code",
   "execution_count": 46,
   "id": "180df144",
   "metadata": {},
   "outputs": [
    {
     "name": "stdout",
     "output_type": "stream",
     "text": [
      "float64\n"
     ]
    },
    {
     "data": {
      "text/plain": [
       "0    94219\n",
       "1     4188\n",
       "Name: civilian_targeting, dtype: int64"
      ]
     },
     "execution_count": 46,
     "metadata": {},
     "output_type": "execute_result"
    }
   ],
   "source": [
    "print(df.latitude.dtype)\n",
    "df.civilian_targeting.value_counts()"
   ]
  },
  {
   "cell_type": "code",
   "execution_count": null,
   "id": "45643936",
   "metadata": {},
   "outputs": [],
   "source": []
  },
  {
   "cell_type": "markdown",
   "id": "bf828bde",
   "metadata": {},
   "source": [
    "### Saving Cleaned Dataset"
   ]
  },
  {
   "cell_type": "code",
   "execution_count": 47,
   "id": "95df6519",
   "metadata": {},
   "outputs": [],
   "source": [
    "df.to_csv('Ukraine_Conflict_cleaned-14-23.csv', index = False)"
   ]
  },
  {
   "cell_type": "markdown",
   "id": "be4859f0",
   "metadata": {},
   "source": [
    "## Pre-Processing and Normalization"
   ]
  },
  {
   "cell_type": "code",
   "execution_count": 48,
   "id": "7764dce5",
   "metadata": {},
   "outputs": [],
   "source": [
    "# listing categorical features\n",
    "categorical_features = ['disorder_type', 'event_type', 'sub_event_type', 'actor1', 'assoc_actor_1', 'actor2', 'assoc_actor_2',\n",
    "                        'country', 'admin1', 'admin2', 'admin3', 'location']\n",
    "numeric_features = ['year', 'civilian_targeting', 'inter1', 'inter2', 'interaction', 'latitude', 'longitude', 'fatalities']\n",
    "# 2 e -4/16"
   ]
  },
  {
   "cell_type": "markdown",
   "id": "734382fb",
   "metadata": {},
   "source": [
    "* Convert text to lowercase"
   ]
  },
  {
   "cell_type": "code",
   "execution_count": 49,
   "id": "b73e148c",
   "metadata": {},
   "outputs": [],
   "source": [
    "# Convert text to lowercase\n",
    "def normalize_text(text):\n",
    "    # Convert text to lowercase\n",
    "    text = text.lower()\n",
    "    \n",
    "    # Remove extra spaces\n",
    "    text = ' '.join(text.split())\n",
    "    \n",
    "    return text"
   ]
  },
  {
   "cell_type": "code",
   "execution_count": 50,
   "id": "3815d6a4",
   "metadata": {},
   "outputs": [],
   "source": [
    "# Apply normalization to all string columns\n",
    "for i in df.columns:\n",
    "    if df[i].dtype == 'object':\n",
    "        df[i] = df[i].apply(normalize_text)"
   ]
  },
  {
   "cell_type": "markdown",
   "id": "4f2bd678",
   "metadata": {},
   "source": [
    "* Tokenizing and Padding sequences"
   ]
  },
  {
   "cell_type": "code",
   "execution_count": 51,
   "id": "d20eadae",
   "metadata": {},
   "outputs": [],
   "source": [
    "import tensorflow as tf\n",
    "from tensorflow.keras.preprocessing.text import Tokenizer\n",
    "from tensorflow.keras.preprocessing.sequence import pad_sequences\n",
    "\n",
    "tokenizer = Tokenizer()\n",
    "\n",
    "# Fit the Tokenizer on the text data\n",
    "for i in categorical_features:\n",
    "    tokenizer.fit_on_texts(df[i]) #creating vocabulary\n",
    "\n",
    "# Tokenize each text feature in the DataFrame\n",
    "sequences = {} # Dictionary to store sequences for each feature\n",
    "for i in categorical_features:\n",
    "    sequences[i] = tokenizer.texts_to_sequences(df[i]) # converting to sequences\n",
    "    "
   ]
  },
  {
   "cell_type": "code",
   "execution_count": 52,
   "id": "e9a2de03",
   "metadata": {},
   "outputs": [],
   "source": [
    "# Pad sequences to match the same length\n",
    "\n",
    "#data_dict = df.to_dict(orient='dict')\n",
    "#data = []\n",
    "max_length = 20\n",
    "x_categorical_tensors, y_categorical_tensors = [], []\n",
    "x_numerical_tensors, y_numerical_tensors = [], []\n",
    "\n",
    "for feature, seq in sequences.items():\n",
    "    padded_seq = pad_sequences(seq, maxlen = max_length, padding = 'post')\n",
    "    tensor_sequences = tf.constant(padded_seq, dtype = tf.float32)\n",
    "    mask = tf.cast(tf.math.not_equal(padded_seq, 0), dtype = tf.float32)  # Create a mask tensor based on non-zero values\n",
    "    if feature != 'sub_event_type':\n",
    "        x_categorical_tensors.append(tensor_sequences)\n",
    "    else:\n",
    "        y_categorical_tensors.append(tensor_sequences)\n",
    "        \n",
    "for feature in numeric_features:\n",
    "    tensor = tf.constant(df[feature].values, dtype = tf.float32)\n",
    "    if feature != 'civilian_targeting':\n",
    "        x_numerical_tensors.append(tf.reshape(tensor, (-1, 1)))\n",
    "    else:\n",
    "        y_numerical_tensors.append(tf.reshape(tensor, (-1, 1)))\n",
    "    \n",
    "# Concatenate tensors along the appropriate axis\n",
    "x_categorical_tensor = tf.concat(x_categorical_tensors, axis = 1)\n",
    "y_categorical_tensor = tf.concat(y_categorical_tensors, axis = 1 )\n",
    "\n",
    "import tensorflow as tf\n",
    "\n",
    "x_numerical_tensor = tf.concat(x_numerical_tensors, axis= 1)\n",
    "y_numerical_tensor = tf.concat(y_numerical_tensors, axis= 1)\n"
   ]
  },
  {
   "cell_type": "code",
   "execution_count": 53,
   "id": "9029e98f",
   "metadata": {},
   "outputs": [
    {
     "data": {
      "text/plain": [
       "<tf.Tensor: shape=(98407, 220), dtype=float32, numpy=\n",
       "array([[ 7.,  3.,  0., ...,  0.,  0.,  0.],\n",
       "       [45., 46.,  0., ...,  0.,  0.,  0.],\n",
       "       [35.,  0.,  0., ...,  0.,  0.,  0.],\n",
       "       ...,\n",
       "       [ 7.,  3.,  0., ...,  0.,  0.,  0.],\n",
       "       [ 7.,  3.,  0., ...,  0.,  0.,  0.],\n",
       "       [ 7.,  3.,  0., ...,  0.,  0.,  0.]], dtype=float32)>"
      ]
     },
     "execution_count": 53,
     "metadata": {},
     "output_type": "execute_result"
    }
   ],
   "source": [
    "x_categorical_tensor"
   ]
  },
  {
   "cell_type": "code",
   "execution_count": 54,
   "id": "43ee2203",
   "metadata": {},
   "outputs": [
    {
     "name": "stdout",
     "output_type": "stream",
     "text": [
      "Input Dimension: 3930\n",
      "Input Length: 20\n"
     ]
    }
   ],
   "source": [
    "# Determine the maximum sequence length for each feature\n",
    "max_lenghts = {}\n",
    "max_length = 20\n",
    "\n",
    "# Determine the input_dim and input_length\n",
    "input_dim = len(tokenizer.word_index) + 1\n",
    "input_length = max_length\n",
    "\n",
    "output_dim = 200\n",
    "num_numerical_input = 7 #numeric features\n",
    "num_sequence_features = 11 #sequence features\n",
    "\n",
    "print(\"Input Dimension:\", input_dim)\n",
    "print(\"Input Length:\", input_length)"
   ]
  },
  {
   "cell_type": "markdown",
   "id": "7c26f940",
   "metadata": {},
   "source": [
    "### Split Data for Training and Testing"
   ]
  },
  {
   "cell_type": "code",
   "execution_count": 55,
   "id": "86ba40bc",
   "metadata": {},
   "outputs": [],
   "source": [
    "x_features = ['year', 'disorder_type', 'event_type', 'actor1', 'assoc_actor_1', 'inter1', 'actor2', 'assoc_actor_2', 'inter2', \n",
    "              'interaction', 'country', 'admin1', 'admin2', 'admin3', 'location', 'latitude', 'longitude', 'fatalities']\n",
    "y_features = ['sub_event_type', 'civilian_targeting']"
   ]
  },
  {
   "cell_type": "code",
   "execution_count": 56,
   "id": "41d88bff",
   "metadata": {},
   "outputs": [],
   "source": [
    "from sklearn.model_selection import train_test_split\n",
    "\n",
    "x_categorical_tensor = np.array(x_categorical_tensor)\n",
    "y_categorical_tensor = np.array(y_categorical_tensor)\n",
    "x_numerical_tensor = np.array(x_numerical_tensor)\n",
    "y_numerical_tensor = np.array(y_numerical_tensor)\n",
    "\n",
    "# Split categorical tensors\n",
    "x_categorical_train, x_categorical_test, y_categorical_train, y_categorical_test = train_test_split(\n",
    "    x_categorical_tensor, y_categorical_tensor, train_size=0.8, random_state=42)\n",
    "\n",
    "# Split numerical tensors\n",
    "x_numerical_train, x_numerical_test, y_numerical_train, y_numerical_test = train_test_split(\n",
    "    x_numerical_tensor, y_numerical_tensor, train_size = 0.8, random_state =42 )\n",
    "\n",
    "# Split masks\n",
    "#x_mask_train, x_mask_test, y_mask_train, y_mask_test = train_test_split(\n",
    "#x_mask, y_mask, train_size = 0.8, random_state = 42)\n",
    "\n",
    "\n",
    "# Reshape to fit the model\n",
    "x_categorical_train = np.reshape(x_categorical_train, (-1, 11, 20))\n",
    "x_categorical_test = np.reshape(x_categorical_test, (-1, 11, 20))\n",
    "\n",
    "y_categorical_train = np.reshape(y_categorical_train, (-1, 20))\n",
    "y_categorical_test = np.reshape(y_categorical_test, (-1, 20))\n"
   ]
  },
  {
   "cell_type": "code",
   "execution_count": 57,
   "id": "d1ae6c76",
   "metadata": {},
   "outputs": [
    {
     "data": {
      "text/plain": [
       "(78725, 20)"
      ]
     },
     "execution_count": 57,
     "metadata": {},
     "output_type": "execute_result"
    }
   ],
   "source": [
    "y_categorical_train.shape"
   ]
  },
  {
   "cell_type": "markdown",
   "id": "239ceedd",
   "metadata": {},
   "source": [
    "### Recurrent Neural Network\n",
    "\n",
    "Using RNN (Recurrent Neural Network), which can handle categorical variables without explicit one-hot encoding. Its architecture can often process categorical variables as integer or ordinal values directly."
   ]
  },
  {
   "cell_type": "code",
   "execution_count": 58,
   "id": "e40a2cce",
   "metadata": {},
   "outputs": [
    {
     "name": "stdout",
     "output_type": "stream",
     "text": [
      "Model: \"model\"\n",
      "__________________________________________________________________________________________________\n",
      " Layer (type)                   Output Shape         Param #     Connected to                     \n",
      "==================================================================================================\n",
      " input_1 (InputLayer)           [(None, 11, 20)]     0           []                               \n",
      "                                                                                                  \n",
      " embedding (Embedding)          (None, 11, 20, 200)  786000      ['input_1[0][0]']                \n",
      "                                                                                                  \n",
      " reshape (Reshape)              (None, 20, 2200)     0           ['embedding[0][0]']              \n",
      "                                                                                                  \n",
      " lstm (LSTM)                    (None, 20, 128)      1192448     ['reshape[0][0]']                \n",
      "                                                                                                  \n",
      " lstm_1 (LSTM)                  (None, 20, 128)      131584      ['lstm[0][0]']                   \n",
      "                                                                                                  \n",
      " masking (Masking)              (None, 20, 128)      0           ['lstm_1[0][0]']                 \n",
      "                                                                                                  \n",
      " global_average_pooling1d (Glob  (None, 128)         0           ['masking[0][0]']                \n",
      " alAveragePooling1D)                                                                              \n",
      "                                                                                                  \n",
      " input_2 (InputLayer)           [(None, 7)]          0           []                               \n",
      "                                                                                                  \n",
      " concatenate (Concatenate)      (None, 135)          0           ['global_average_pooling1d[0][0]'\n",
      "                                                                 , 'input_2[0][0]']               \n",
      "                                                                                                  \n",
      " dense (Dense)                  (None, 64)           8704        ['concatenate[0][0]']            \n",
      "                                                                                                  \n",
      " dense_1 (Dense)                (None, 64)           4160        ['dense[0][0]']                  \n",
      "                                                                                                  \n",
      " dense_2 (Dense)                (None, 20)           1300        ['dense_1[0][0]']                \n",
      "                                                                                                  \n",
      " reshape_1 (Reshape)            (None, 20, 1)        0           ['dense_2[0][0]']                \n",
      "                                                                                                  \n",
      " time_distributed (TimeDistribu  (None, 20, 1)       2           ['reshape_1[0][0]']              \n",
      " ted)                                                                                             \n",
      "                                                                                                  \n",
      " subevent_output (Flatten)      (None, 20)           0           ['time_distributed[0][0]']       \n",
      "                                                                                                  \n",
      " civilian_output (Dense)        (None, 1)            65          ['dense_1[0][0]']                \n",
      "                                                                                                  \n",
      "==================================================================================================\n",
      "Total params: 2,124,263\n",
      "Trainable params: 2,124,263\n",
      "Non-trainable params: 0\n",
      "__________________________________________________________________________________________________\n"
     ]
    }
   ],
   "source": [
    "from keras.models import Model, Sequential\n",
    "from keras.layers import (Embedding, LSTM, Dense, Input, concatenate, Reshape, Masking, RepeatVector, GlobalAveragePooling1D, \n",
    "TimeDistributed, Flatten)\n",
    "\n",
    "# Sequential input for text sequences\n",
    "input_text = Input(shape=(num_sequence_features, input_length,))\n",
    "embedding = Embedding(input_dim, output_dim)(input_text)\n",
    "reshaped_embedding = Reshape((input_length, num_sequence_features * output_dim))(embedding)\n",
    "lstm = LSTM(units=128, return_sequences=True)(reshaped_embedding)\n",
    "lstm = LSTM(units=128, return_sequences=True)(lstm)  # Another LSTM layer\n",
    "\n",
    "# Apply masking to the LSTM output\n",
    "masked_lstm = Masking(mask_value=0.0)(lstm)\n",
    "\n",
    "# Add GlobalAveragePooling1D layer\n",
    "pooled_lstm = GlobalAveragePooling1D()(masked_lstm)\n",
    "\n",
    "# Numerical input\n",
    "input_numerical = Input(shape=(num_numerical_input,))\n",
    "\n",
    "# Expand the dimensions of the numerical input\n",
    "#expanded_numerical = Dense(units=output_dim)(input_numerical)\n",
    "#expanded_numerical = RepeatVector(input_length)(expanded_numerical)\n",
    "\n",
    "# Concatenate text LSTM output and numerical input\n",
    "concatenated = concatenate([pooled_lstm, input_numerical])\n",
    "\n",
    "# Additional Dense layers for classification\n",
    "dense1 = Dense(units=64, activation='relu')(concatenated)\n",
    "dense1 = Dense(units=64, activation='relu')(dense1)  # Another dense layer\n",
    "\n",
    "# Output for subevent_type prediction\n",
    "#subevent_output = Dense(units=20,  name='subevent_output')(dense1)  #activation='softmax'\n",
    "dense_subevent = Dense(units=20, activation='softmax')(dense1)\n",
    "reshaped_subevent = Reshape((20, 1))(dense_subevent)\n",
    "subevent_output = TimeDistributed(Dense(units=1))(reshaped_subevent)\n",
    "subevent_output = Flatten(name = 'subevent_output')(subevent_output)\n",
    "\n",
    "# Output for civilian_targeting prediction\n",
    "civilian_output = Dense(units=1, activation='sigmoid', name='civilian_output')(dense1)\n",
    "\n",
    "# Create the model\n",
    "model = Model(inputs=[input_text, input_numerical], outputs=[subevent_output, civilian_output])\n",
    "\n",
    "# Print the model summary\n",
    "model.summary()"
   ]
  },
  {
   "cell_type": "code",
   "execution_count": 59,
   "id": "ae3a018d",
   "metadata": {},
   "outputs": [
    {
     "name": "stdout",
     "output_type": "stream",
     "text": [
      "Model: \"model_1\"\n",
      "__________________________________________________________________________________________________\n",
      " Layer (type)                   Output Shape         Param #     Connected to                     \n",
      "==================================================================================================\n",
      " input_3 (InputLayer)           [(None, 11, 20)]     0           []                               \n",
      "                                                                                                  \n",
      " embedding_1 (Embedding)        (None, 11, 20, 200)  786000      ['input_3[0][0]']                \n",
      "                                                                                                  \n",
      " reshape_2 (Reshape)            (None, 20, 2200)     0           ['embedding_1[0][0]']            \n",
      "                                                                                                  \n",
      " lstm_2 (LSTM)                  (None, 20, 128)      1192448     ['reshape_2[0][0]']              \n",
      "                                                                                                  \n",
      " lstm_3 (LSTM)                  (None, 20, 128)      131584      ['lstm_2[0][0]']                 \n",
      "                                                                                                  \n",
      " masking_1 (Masking)            (None, 20, 128)      0           ['lstm_3[0][0]']                 \n",
      "                                                                                                  \n",
      " global_average_pooling1d_1 (Gl  (None, 128)         0           ['masking_1[0][0]']              \n",
      " obalAveragePooling1D)                                                                            \n",
      "                                                                                                  \n",
      " input_4 (InputLayer)           [(None, 7)]          0           []                               \n",
      "                                                                                                  \n",
      " concatenate_1 (Concatenate)    (None, 135)          0           ['global_average_pooling1d_1[0][0\n",
      "                                                                 ]',                              \n",
      "                                                                  'input_4[0][0]']                \n",
      "                                                                                                  \n",
      " dense_4 (Dense)                (None, 64)           8704        ['concatenate_1[0][0]']          \n",
      "                                                                                                  \n",
      " dense_5 (Dense)                (None, 64)           4160        ['dense_4[0][0]']                \n",
      "                                                                                                  \n",
      " dense_6 (Dense)                (None, 64)           4160        ['dense_5[0][0]']                \n",
      "                                                                                                  \n",
      " dense_7 (Dense)                (None, 32)           2080        ['dense_6[0][0]']                \n",
      "                                                                                                  \n",
      " subevent_output (Dense)        (None, 20)           660         ['dense_7[0][0]']                \n",
      "                                                                                                  \n",
      " civilian_output (Dense)        (None, 1)            65          ['dense_4[0][0]']                \n",
      "                                                                                                  \n",
      "==================================================================================================\n",
      "Total params: 2,129,861\n",
      "Trainable params: 2,129,861\n",
      "Non-trainable params: 0\n",
      "__________________________________________________________________________________________________\n"
     ]
    }
   ],
   "source": [
    "from keras.models import Model, Sequential\n",
    "from keras.layers import (Embedding, LSTM, Dense, Input, concatenate, Reshape, Masking, RepeatVector, GlobalAveragePooling1D, \n",
    "TimeDistributed, Flatten)\n",
    "\n",
    "# Sequential input for text sequences\n",
    "input_text = Input(shape=(num_sequence_features, input_length,))\n",
    "embedding = Embedding(input_dim, output_dim)(input_text)\n",
    "reshaped_embedding = Reshape((input_length, num_sequence_features * output_dim))(embedding)\n",
    "lstm = LSTM(units=128, return_sequences=True)(reshaped_embedding)\n",
    "lstm = LSTM(units=128, return_sequences=True)(lstm)  # Another LSTM layer\n",
    "\n",
    "# Apply masking to the LSTM output\n",
    "masked_lstm = Masking(mask_value=0.0)(lstm)\n",
    "\n",
    "# Add GlobalAveragePooling1D layer\n",
    "pooled_lstm = GlobalAveragePooling1D()(masked_lstm)\n",
    "\n",
    "# Numerical input\n",
    "input_numerical = Input(shape=(num_numerical_input,))\n",
    "\n",
    "# Expand the dimensions of the numerical input\n",
    "#expanded_numerical = Dense(units=output_dim)(input_numerical)\n",
    "#expanded_numerical = RepeatVector(input_length)(expanded_numerical)\n",
    "\n",
    "# Concatenate text LSTM output and numerical input\n",
    "concatenated = concatenate([pooled_lstm, input_numerical])\n",
    "\n",
    "# Additional Dense layers for classification\n",
    "dense1 = Dense(units=64, activation='relu')(concatenated)\n",
    "dense2 = Dense(units=64, activation='relu')(dense1)\n",
    "dense3 = Dense(units=64, activation='relu')(dense2)\n",
    "dense4 = Dense(units=32, activation='relu')(dense3)\n",
    "\n",
    "# Output for subevent_type prediction\n",
    "#subevent_output = Dense(units=20,  name='subevent_output')(dense1)  #activation='softmax'\n",
    "subevent_output = Dense(units=20, activation='softmax', name='subevent_output')(dense4)\n",
    "\n",
    "# Output for civilian_targeting prediction\n",
    "civilian_output = Dense(units=1, activation='sigmoid', name='civilian_output')(dense1)\n",
    "\n",
    "# Create the model\n",
    "model = Model(inputs=[input_text, input_numerical], outputs=[subevent_output, civilian_output])\n",
    "\n",
    "# Print the model summary\n",
    "model.summary()"
   ]
  },
  {
   "cell_type": "markdown",
   "id": "f5244c27",
   "metadata": {},
   "source": [
    "\n",
    "\n",
    "What the model structure means:\n",
    "\n",
    "The Embedding layer is added as the first layer of the model. It takes three main parameters:\n",
    "\n",
    "* input_dim: The total number of unique categories in the categorical feature. This value determines the size of the input space for the Embedding layer.\n",
    "* output_dim: The dimensionality of the dense embedding vectors. It determines the size of the output space for the Embedding layer, i.e., the size of the learned embedding vectors.\n",
    "* input_length: The length of the input sequences. This should match the length of your encoded categorical features.\n",
    "\n",
    "During model training, the Embedding layer learns to map each integer-encoded category to a dense vector of size output_dim. These learned embeddings are updated based on the model's optimization process and are used as input to the subsequent layers (e.g., LSTM layer)."
   ]
  },
  {
   "cell_type": "code",
   "execution_count": 60,
   "id": "7564d5e7",
   "metadata": {},
   "outputs": [
    {
     "data": {
      "text/plain": [
       "(78725, 20)"
      ]
     },
     "execution_count": 60,
     "metadata": {},
     "output_type": "execute_result"
    }
   ],
   "source": [
    "y_categorical_train.shape"
   ]
  },
  {
   "cell_type": "code",
   "execution_count": 61,
   "id": "56020b6d",
   "metadata": {},
   "outputs": [
    {
     "name": "stdout",
     "output_type": "stream",
     "text": [
      "(None, 11, 20) <dtype: 'float32'>\n",
      "(None, 7) <dtype: 'float32'>\n",
      "(None, 20) <dtype: 'float32'>\n",
      "(None, 1) <dtype: 'float32'>\n",
      "input_3 [(None, 11, 20)] float32\n",
      "embedding_1 (None, 11, 20) float32\n",
      "reshape_2 (None, 11, 20, 200) float32\n",
      "lstm_2 (None, 20, 2200) float32\n",
      "lstm_3 (None, 20, 128) float32\n",
      "masking_1 (None, 20, 128) float32\n",
      "global_average_pooling1d_1 (None, 20, 128) float32\n",
      "input_4 [(None, 7)] float32\n",
      "concatenate_1 [(None, 128), (None, 7)] float32\n",
      "dense_4 (None, 135) float32\n",
      "dense_5 (None, 64) float32\n",
      "dense_6 (None, 64) float32\n",
      "dense_7 (None, 64) float32\n",
      "subevent_output (None, 32) float32\n",
      "civilian_output (None, 64) float32\n"
     ]
    },
    {
     "data": {
      "text/plain": [
       "[None,\n",
       " None,\n",
       " None,\n",
       " None,\n",
       " None,\n",
       " None,\n",
       " None,\n",
       " None,\n",
       " None,\n",
       " None,\n",
       " None,\n",
       " None,\n",
       " None,\n",
       " None,\n",
       " None]"
      ]
     },
     "execution_count": 61,
     "metadata": {},
     "output_type": "execute_result"
    }
   ],
   "source": [
    "[print(i.shape, i.dtype) for i in model.inputs]\n",
    "[print(o.shape, o.dtype) for o in model.outputs]\n",
    "[print(l.name, l.input_shape, l.dtype) for l in model.layers]"
   ]
  },
  {
   "cell_type": "markdown",
   "id": "e9dfc87b",
   "metadata": {},
   "source": [
    "#### Compilation and Optimization of the Model"
   ]
  },
  {
   "cell_type": "code",
   "execution_count": 62,
   "id": "552dd54c",
   "metadata": {},
   "outputs": [],
   "source": [
    "from tensorflow.keras.losses import SparseCategoricalCrossentropy\n",
    "from tensorflow.keras.optimizers import Adam\n",
    "\n",
    "#(from_logits = True)\n",
    "model.compile(loss={'subevent_output': 'categorical_crossentropy', 'civilian_output': 'binary_crossentropy'},\n",
    "              loss_weights={'subevent_output': 2.0, 'civilian_output': 1.0},\n",
    "              optimizer= Adam(0.1),\n",
    "              metrics=['accuracy'])"
   ]
  },
  {
   "cell_type": "markdown",
   "id": "98ad3d5d",
   "metadata": {},
   "source": [
    "#### Model Training"
   ]
  },
  {
   "cell_type": "code",
   "execution_count": 63,
   "id": "df908cb8",
   "metadata": {
    "scrolled": false
   },
   "outputs": [
    {
     "name": "stdout",
     "output_type": "stream",
     "text": [
      "Epoch 1/5\n",
      "1231/1231 [==============================] - 220s 175ms/step - loss: nan - subevent_output_loss: nan - civilian_output_loss: 46005.4492 - subevent_output_accuracy: 0.3334 - civilian_output_accuracy: 0.9160 - val_loss: nan - val_subevent_output_loss: nan - val_civilian_output_loss: 0.1717 - val_subevent_output_accuracy: 0.0950 - val_civilian_output_accuracy: 0.9589\n",
      "Epoch 2/5\n",
      "1231/1231 [==============================] - 211s 171ms/step - loss: nan - subevent_output_loss: nan - civilian_output_loss: 0.1772 - subevent_output_accuracy: 0.0938 - civilian_output_accuracy: 0.9571 - val_loss: nan - val_subevent_output_loss: nan - val_civilian_output_loss: 0.1714 - val_subevent_output_accuracy: 0.0950 - val_civilian_output_accuracy: 0.9589\n",
      "Epoch 3/5\n",
      "1231/1231 [==============================] - 215s 174ms/step - loss: nan - subevent_output_loss: nan - civilian_output_loss: 0.1773 - subevent_output_accuracy: 0.0938 - civilian_output_accuracy: 0.9571 - val_loss: nan - val_subevent_output_loss: nan - val_civilian_output_loss: 0.1724 - val_subevent_output_accuracy: 0.0950 - val_civilian_output_accuracy: 0.9589\n",
      "Epoch 4/5\n",
      "1231/1231 [==============================] - 205s 166ms/step - loss: nan - subevent_output_loss: nan - civilian_output_loss: 0.1776 - subevent_output_accuracy: 0.0938 - civilian_output_accuracy: 0.9571 - val_loss: nan - val_subevent_output_loss: nan - val_civilian_output_loss: 0.1718 - val_subevent_output_accuracy: 0.0950 - val_civilian_output_accuracy: 0.9589\n",
      "Epoch 5/5\n",
      "1231/1231 [==============================] - 210s 171ms/step - loss: nan - subevent_output_loss: nan - civilian_output_loss: 0.1776 - subevent_output_accuracy: 0.0938 - civilian_output_accuracy: 0.9571 - val_loss: nan - val_subevent_output_loss: nan - val_civilian_output_loss: 0.1717 - val_subevent_output_accuracy: 0.0950 - val_civilian_output_accuracy: 0.9589\n"
     ]
    },
    {
     "data": {
      "text/plain": [
       "<keras.callbacks.History at 0x23dd93034f0>"
      ]
     },
     "execution_count": 63,
     "metadata": {},
     "output_type": "execute_result"
    }
   ],
   "source": [
    "# Train the model\n",
    "#model.fit(x_train, y_train, batch_size=64, epochs=32, validation_data=(x_test, y_test))\n",
    "# Fit the model\n",
    "model.fit([x_categorical_train, x_numerical_train], [y_categorical_train, y_numerical_train],\n",
    "                    validation_data=([x_categorical_test, x_numerical_test], [y_categorical_test, y_numerical_test]),\n",
    "                    epochs=5, batch_size=64)\n"
   ]
  },
  {
   "cell_type": "code",
   "execution_count": 64,
   "id": "921693dc",
   "metadata": {},
   "outputs": [
    {
     "name": "stdout",
     "output_type": "stream",
     "text": [
      "Loss: nan\n",
      "Subevent Accuracy: 0.0950106680393219\n",
      "Civilian Accuracy: 0.9589472413063049\n",
      "Total Accuracy: 0.5269789546728134\n"
     ]
    }
   ],
   "source": [
    "loss, subevent_loss, civilian_loss, subevent_accuracy, civilian_accuracy= model.evaluate([x_categorical_test, x_numerical_test],\n",
    "                                                                                         [y_categorical_test, y_numerical_test],\n",
    "                                                                                           verbose=0)\n",
    "\n",
    "# Calculate total accuracy as the average of subevent_accuracy and civilian_accuracy\n",
    "total_accuracy = (subevent_accuracy + civilian_accuracy) / 2\n",
    "\n",
    "print(\"Loss:\", loss)\n",
    "print(\"Subevent Accuracy:\", subevent_accuracy)\n",
    "print(\"Civilian Accuracy:\", civilian_accuracy)\n",
    "print(\"Total Accuracy:\", total_accuracy)"
   ]
  },
  {
   "cell_type": "code",
   "execution_count": null,
   "id": "68cc1347",
   "metadata": {},
   "outputs": [],
   "source": []
  },
  {
   "cell_type": "code",
   "execution_count": null,
   "id": "927f17e8",
   "metadata": {},
   "outputs": [],
   "source": []
  },
  {
   "cell_type": "code",
   "execution_count": null,
   "id": "2a06b7fe",
   "metadata": {},
   "outputs": [],
   "source": []
  },
  {
   "cell_type": "code",
   "execution_count": null,
   "id": "e2d13b26",
   "metadata": {},
   "outputs": [],
   "source": []
  },
  {
   "cell_type": "code",
   "execution_count": null,
   "id": "aa7b0025",
   "metadata": {},
   "outputs": [],
   "source": []
  },
  {
   "cell_type": "code",
   "execution_count": null,
   "id": "79ff215b",
   "metadata": {},
   "outputs": [],
   "source": []
  }
 ],
 "metadata": {
  "kernelspec": {
   "display_name": "Python 3 (ipykernel)",
   "language": "python",
   "name": "python3"
  },
  "language_info": {
   "codemirror_mode": {
    "name": "ipython",
    "version": 3
   },
   "file_extension": ".py",
   "mimetype": "text/x-python",
   "name": "python",
   "nbconvert_exporter": "python",
   "pygments_lexer": "ipython3",
   "version": "3.9.16"
  }
 },
 "nbformat": 4,
 "nbformat_minor": 5
}
