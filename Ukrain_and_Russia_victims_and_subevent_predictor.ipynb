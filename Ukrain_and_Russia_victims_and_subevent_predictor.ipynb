{
 "cells": [
  {
   "cell_type": "markdown",
   "id": "b353c3fd",
   "metadata": {},
   "source": [
    "# Previsão de Ataques de Civis e Ocorrência de Sub-eventos durante o conflito entre Ucrânia e Rússia \n",
    "### Autores: Amarilda Chihepe, Ludmila Mucavele, Daniel Muaquiua "
   ]
  },
  {
   "cell_type": "markdown",
   "id": "f23dd41e",
   "metadata": {},
   "source": [
    "### Pacotes"
   ]
  },
  {
   "cell_type": "code",
   "execution_count": 1,
   "id": "5b1c969d",
   "metadata": {},
   "outputs": [],
   "source": [
    "import numpy as np\n",
    "import pandas as pd\n",
    "import matplotlib.pyplot as plt\n",
    "import seaborn as sns\n",
    "%matplotlib inline"
   ]
  },
  {
   "cell_type": "markdown",
   "id": "82ae852b",
   "metadata": {},
   "source": [
    "## Introdução"
   ]
  },
  {
   "cell_type": "code",
   "execution_count": null,
   "id": "edaaf432",
   "metadata": {},
   "outputs": [],
   "source": []
  },
  {
   "cell_type": "markdown",
   "id": "820a7732",
   "metadata": {},
   "source": [
    "### Importação dos Datasets"
   ]
  },
  {
   "cell_type": "code",
   "execution_count": 2,
   "id": "cb38283e",
   "metadata": {},
   "outputs": [],
   "source": [
    "df1 = pd.read_csv('./Datasets/conflict_data_ukr-14-21.csv')\n",
    "df2 = pd.read_csv('./Datasets/UkraineConflict-18-23.csv')"
   ]
  },
  {
   "cell_type": "code",
   "execution_count": 3,
   "id": "726d2424",
   "metadata": {},
   "outputs": [
    {
     "data": {
      "text/html": [
       "<div>\n",
       "<style scoped>\n",
       "    .dataframe tbody tr th:only-of-type {\n",
       "        vertical-align: middle;\n",
       "    }\n",
       "\n",
       "    .dataframe tbody tr th {\n",
       "        vertical-align: top;\n",
       "    }\n",
       "\n",
       "    .dataframe thead th {\n",
       "        text-align: right;\n",
       "    }\n",
       "</style>\n",
       "<table border=\"1\" class=\"dataframe\">\n",
       "  <thead>\n",
       "    <tr style=\"text-align: right;\">\n",
       "      <th></th>\n",
       "      <th>id</th>\n",
       "      <th>relid</th>\n",
       "      <th>year</th>\n",
       "      <th>active_year</th>\n",
       "      <th>code_status</th>\n",
       "      <th>type_of_violence</th>\n",
       "      <th>conflict_dset_id</th>\n",
       "      <th>conflict_new_id</th>\n",
       "      <th>conflict_name</th>\n",
       "      <th>dyad_dset_id</th>\n",
       "      <th>...</th>\n",
       "      <th>date_end</th>\n",
       "      <th>deaths_a</th>\n",
       "      <th>deaths_b</th>\n",
       "      <th>deaths_civilians</th>\n",
       "      <th>deaths_unknown</th>\n",
       "      <th>best</th>\n",
       "      <th>high</th>\n",
       "      <th>low</th>\n",
       "      <th>gwnoa</th>\n",
       "      <th>gwnob</th>\n",
       "    </tr>\n",
       "  </thead>\n",
       "  <tbody>\n",
       "    <tr>\n",
       "      <th>0</th>\n",
       "      <td>NaN</td>\n",
       "      <td>NaN</td>\n",
       "      <td>#date+year</td>\n",
       "      <td>NaN</td>\n",
       "      <td>NaN</td>\n",
       "      <td>NaN</td>\n",
       "      <td>NaN</td>\n",
       "      <td>NaN</td>\n",
       "      <td>NaN</td>\n",
       "      <td>NaN</td>\n",
       "      <td>...</td>\n",
       "      <td>#date+end</td>\n",
       "      <td>NaN</td>\n",
       "      <td>NaN</td>\n",
       "      <td>NaN</td>\n",
       "      <td>NaN</td>\n",
       "      <td>#affected+killed</td>\n",
       "      <td>NaN</td>\n",
       "      <td>NaN</td>\n",
       "      <td>NaN</td>\n",
       "      <td>NaN</td>\n",
       "    </tr>\n",
       "    <tr>\n",
       "      <th>1</th>\n",
       "      <td>147997.0</td>\n",
       "      <td>UKR-2014-1-14085-0</td>\n",
       "      <td>2014</td>\n",
       "      <td>1.0</td>\n",
       "      <td>Clear</td>\n",
       "      <td>1.0</td>\n",
       "      <td>13219.0</td>\n",
       "      <td>13219.0</td>\n",
       "      <td>Ukraine: Government</td>\n",
       "      <td>14085.0</td>\n",
       "      <td>...</td>\n",
       "      <td>00:00.0</td>\n",
       "      <td>0.0</td>\n",
       "      <td>5.0</td>\n",
       "      <td>0.0</td>\n",
       "      <td>0.0</td>\n",
       "      <td>5</td>\n",
       "      <td>5.0</td>\n",
       "      <td>5.0</td>\n",
       "      <td>369.0</td>\n",
       "      <td>NaN</td>\n",
       "    </tr>\n",
       "    <tr>\n",
       "      <th>2</th>\n",
       "      <td>149221.0</td>\n",
       "      <td>UKR-2014-1-14085-1</td>\n",
       "      <td>2014</td>\n",
       "      <td>1.0</td>\n",
       "      <td>Clear</td>\n",
       "      <td>1.0</td>\n",
       "      <td>13219.0</td>\n",
       "      <td>13219.0</td>\n",
       "      <td>Ukraine: Government</td>\n",
       "      <td>14085.0</td>\n",
       "      <td>...</td>\n",
       "      <td>00:00.0</td>\n",
       "      <td>0.0</td>\n",
       "      <td>0.0</td>\n",
       "      <td>0.0</td>\n",
       "      <td>1.0</td>\n",
       "      <td>1</td>\n",
       "      <td>1.0</td>\n",
       "      <td>1.0</td>\n",
       "      <td>369.0</td>\n",
       "      <td>NaN</td>\n",
       "    </tr>\n",
       "    <tr>\n",
       "      <th>3</th>\n",
       "      <td>149248.0</td>\n",
       "      <td>UKR-2014-1-14085-3</td>\n",
       "      <td>2014</td>\n",
       "      <td>1.0</td>\n",
       "      <td>Clear</td>\n",
       "      <td>1.0</td>\n",
       "      <td>13219.0</td>\n",
       "      <td>13219.0</td>\n",
       "      <td>Ukraine: Government</td>\n",
       "      <td>14085.0</td>\n",
       "      <td>...</td>\n",
       "      <td>00:00.0</td>\n",
       "      <td>10.0</td>\n",
       "      <td>4.0</td>\n",
       "      <td>0.0</td>\n",
       "      <td>12.0</td>\n",
       "      <td>26</td>\n",
       "      <td>26.0</td>\n",
       "      <td>26.0</td>\n",
       "      <td>369.0</td>\n",
       "      <td>NaN</td>\n",
       "    </tr>\n",
       "    <tr>\n",
       "      <th>4</th>\n",
       "      <td>149249.0</td>\n",
       "      <td>UKR-2014-1-14085-4</td>\n",
       "      <td>2014</td>\n",
       "      <td>1.0</td>\n",
       "      <td>Clear</td>\n",
       "      <td>1.0</td>\n",
       "      <td>13219.0</td>\n",
       "      <td>13219.0</td>\n",
       "      <td>Ukraine: Government</td>\n",
       "      <td>14085.0</td>\n",
       "      <td>...</td>\n",
       "      <td>00:00.0</td>\n",
       "      <td>0.0</td>\n",
       "      <td>0.0</td>\n",
       "      <td>0.0</td>\n",
       "      <td>2.0</td>\n",
       "      <td>2</td>\n",
       "      <td>2.0</td>\n",
       "      <td>2.0</td>\n",
       "      <td>369.0</td>\n",
       "      <td>NaN</td>\n",
       "    </tr>\n",
       "  </tbody>\n",
       "</table>\n",
       "<p>5 rows × 50 columns</p>\n",
       "</div>"
      ],
      "text/plain": [
       "         id               relid        year  active_year code_status  \\\n",
       "0       NaN                 NaN  #date+year          NaN         NaN   \n",
       "1  147997.0  UKR-2014-1-14085-0        2014          1.0       Clear   \n",
       "2  149221.0  UKR-2014-1-14085-1        2014          1.0       Clear   \n",
       "3  149248.0  UKR-2014-1-14085-3        2014          1.0       Clear   \n",
       "4  149249.0  UKR-2014-1-14085-4        2014          1.0       Clear   \n",
       "\n",
       "   type_of_violence  conflict_dset_id  conflict_new_id        conflict_name  \\\n",
       "0               NaN               NaN              NaN                  NaN   \n",
       "1               1.0           13219.0          13219.0  Ukraine: Government   \n",
       "2               1.0           13219.0          13219.0  Ukraine: Government   \n",
       "3               1.0           13219.0          13219.0  Ukraine: Government   \n",
       "4               1.0           13219.0          13219.0  Ukraine: Government   \n",
       "\n",
       "   dyad_dset_id  ...   date_end deaths_a  deaths_b  deaths_civilians  \\\n",
       "0           NaN  ...  #date+end      NaN       NaN               NaN   \n",
       "1       14085.0  ...    00:00.0      0.0       5.0               0.0   \n",
       "2       14085.0  ...    00:00.0      0.0       0.0               0.0   \n",
       "3       14085.0  ...    00:00.0     10.0       4.0               0.0   \n",
       "4       14085.0  ...    00:00.0      0.0       0.0               0.0   \n",
       "\n",
       "  deaths_unknown              best  high   low  gwnoa gwnob  \n",
       "0            NaN  #affected+killed   NaN   NaN    NaN   NaN  \n",
       "1            0.0                 5   5.0   5.0  369.0   NaN  \n",
       "2            1.0                 1   1.0   1.0  369.0   NaN  \n",
       "3           12.0                26  26.0  26.0  369.0   NaN  \n",
       "4            2.0                 2   2.0   2.0  369.0   NaN  \n",
       "\n",
       "[5 rows x 50 columns]"
      ]
     },
     "execution_count": 3,
     "metadata": {},
     "output_type": "execute_result"
    }
   ],
   "source": [
    "df1.head()"
   ]
  },
  {
   "cell_type": "code",
   "execution_count": 4,
   "id": "2bc782ba",
   "metadata": {},
   "outputs": [
    {
     "data": {
      "text/html": [
       "<div>\n",
       "<style scoped>\n",
       "    .dataframe tbody tr th:only-of-type {\n",
       "        vertical-align: middle;\n",
       "    }\n",
       "\n",
       "    .dataframe tbody tr th {\n",
       "        vertical-align: top;\n",
       "    }\n",
       "\n",
       "    .dataframe thead th {\n",
       "        text-align: right;\n",
       "    }\n",
       "</style>\n",
       "<table border=\"1\" class=\"dataframe\">\n",
       "  <thead>\n",
       "    <tr style=\"text-align: right;\">\n",
       "      <th></th>\n",
       "      <th>EVENT_ID_CNTY</th>\n",
       "      <th>EVENT_DATE</th>\n",
       "      <th>YEAR</th>\n",
       "      <th>TIME_PRECISION</th>\n",
       "      <th>DISORDER_TYPE</th>\n",
       "      <th>EVENT_TYPE</th>\n",
       "      <th>SUB_EVENT_TYPE</th>\n",
       "      <th>ACTOR1</th>\n",
       "      <th>ASSOC_ACTOR_1</th>\n",
       "      <th>INTER1</th>\n",
       "      <th>...</th>\n",
       "      <th>LOCATION</th>\n",
       "      <th>LATITUDE</th>\n",
       "      <th>LONGITUDE</th>\n",
       "      <th>GEO_PRECISION</th>\n",
       "      <th>SOURCE</th>\n",
       "      <th>SOURCE_SCALE</th>\n",
       "      <th>NOTES</th>\n",
       "      <th>FATALITIES</th>\n",
       "      <th>TAGS</th>\n",
       "      <th>TIMESTAMP</th>\n",
       "    </tr>\n",
       "  </thead>\n",
       "  <tbody>\n",
       "    <tr>\n",
       "      <th>0</th>\n",
       "      <td>ROU448</td>\n",
       "      <td>20-May-19</td>\n",
       "      <td>2019</td>\n",
       "      <td>1</td>\n",
       "      <td>Political violence</td>\n",
       "      <td>Violence against civilians</td>\n",
       "      <td>Attack</td>\n",
       "      <td>Police Forces of Romania (2016-2019) Coast Guard</td>\n",
       "      <td>NaN</td>\n",
       "      <td>1</td>\n",
       "      <td>...</td>\n",
       "      <td>Coast of Constanta</td>\n",
       "      <td>44.156</td>\n",
       "      <td>28.948</td>\n",
       "      <td>2</td>\n",
       "      <td>Deschide; Hurriyet Daily; News.ro; CNN; TRT Haber</td>\n",
       "      <td>National-International</td>\n",
       "      <td>On 20 May 2019, the Coast Guard of Romania fir...</td>\n",
       "      <td>0</td>\n",
       "      <td>NaN</td>\n",
       "      <td>1649875498</td>\n",
       "    </tr>\n",
       "    <tr>\n",
       "      <th>1</th>\n",
       "      <td>ROU1885</td>\n",
       "      <td>28-Mar-22</td>\n",
       "      <td>2022</td>\n",
       "      <td>1</td>\n",
       "      <td>Strategic developments</td>\n",
       "      <td>Strategic developments</td>\n",
       "      <td>Disrupted weapons use</td>\n",
       "      <td>Military Forces of Romania (2021-)</td>\n",
       "      <td>NaN</td>\n",
       "      <td>1</td>\n",
       "      <td>...</td>\n",
       "      <td>Coast of Constanta</td>\n",
       "      <td>44.156</td>\n",
       "      <td>28.948</td>\n",
       "      <td>1</td>\n",
       "      <td>Adevarul; G4media</td>\n",
       "      <td>National</td>\n",
       "      <td>Defusal: On 28 March 2022, Romanian minesweepe...</td>\n",
       "      <td>0</td>\n",
       "      <td>NaN</td>\n",
       "      <td>1649184809</td>\n",
       "    </tr>\n",
       "    <tr>\n",
       "      <th>2</th>\n",
       "      <td>ROU1940</td>\n",
       "      <td>28-Jul-22</td>\n",
       "      <td>2022</td>\n",
       "      <td>1</td>\n",
       "      <td>Demonstrations</td>\n",
       "      <td>Protests</td>\n",
       "      <td>Peaceful protest</td>\n",
       "      <td>Protesters (Romania)</td>\n",
       "      <td>Greenpeace</td>\n",
       "      <td>6</td>\n",
       "      <td>...</td>\n",
       "      <td>Coast of Constanta</td>\n",
       "      <td>44.156</td>\n",
       "      <td>28.948</td>\n",
       "      <td>1</td>\n",
       "      <td>News.ro</td>\n",
       "      <td>National</td>\n",
       "      <td>On 28 July 2022, Greenpeace activists proteste...</td>\n",
       "      <td>0</td>\n",
       "      <td>crowd size=no report</td>\n",
       "      <td>1659462993</td>\n",
       "    </tr>\n",
       "    <tr>\n",
       "      <th>3</th>\n",
       "      <td>ROU1945</td>\n",
       "      <td>31-Jul-22</td>\n",
       "      <td>2022</td>\n",
       "      <td>1</td>\n",
       "      <td>Strategic developments</td>\n",
       "      <td>Strategic developments</td>\n",
       "      <td>Disrupted weapons use</td>\n",
       "      <td>Military Forces of Romania (2021-)</td>\n",
       "      <td>NaN</td>\n",
       "      <td>1</td>\n",
       "      <td>...</td>\n",
       "      <td>Coast of Constanta</td>\n",
       "      <td>44.156</td>\n",
       "      <td>28.948</td>\n",
       "      <td>1</td>\n",
       "      <td>Digi24</td>\n",
       "      <td>National</td>\n",
       "      <td>Defusal: On 31 July 2022, Romanian Naval Force...</td>\n",
       "      <td>0</td>\n",
       "      <td>NaN</td>\n",
       "      <td>1660055880</td>\n",
       "    </tr>\n",
       "    <tr>\n",
       "      <th>4</th>\n",
       "      <td>ROU1947</td>\n",
       "      <td>4-Aug-22</td>\n",
       "      <td>2022</td>\n",
       "      <td>1</td>\n",
       "      <td>Demonstrations</td>\n",
       "      <td>Protests</td>\n",
       "      <td>Peaceful protest</td>\n",
       "      <td>Protesters (Romania)</td>\n",
       "      <td>Greenpeace</td>\n",
       "      <td>6</td>\n",
       "      <td>...</td>\n",
       "      <td>Coast of Constanta</td>\n",
       "      <td>44.156</td>\n",
       "      <td>28.948</td>\n",
       "      <td>1</td>\n",
       "      <td>News.ro</td>\n",
       "      <td>National</td>\n",
       "      <td>On 4 August 2022, Greenpeace activists protest...</td>\n",
       "      <td>0</td>\n",
       "      <td>crowd size=no report</td>\n",
       "      <td>1660055882</td>\n",
       "    </tr>\n",
       "  </tbody>\n",
       "</table>\n",
       "<p>5 rows × 31 columns</p>\n",
       "</div>"
      ],
      "text/plain": [
       "  EVENT_ID_CNTY EVENT_DATE  YEAR  TIME_PRECISION           DISORDER_TYPE  \\\n",
       "0        ROU448  20-May-19  2019               1      Political violence   \n",
       "1       ROU1885  28-Mar-22  2022               1  Strategic developments   \n",
       "2       ROU1940  28-Jul-22  2022               1          Demonstrations   \n",
       "3       ROU1945  31-Jul-22  2022               1  Strategic developments   \n",
       "4       ROU1947   4-Aug-22  2022               1          Demonstrations   \n",
       "\n",
       "                   EVENT_TYPE         SUB_EVENT_TYPE  \\\n",
       "0  Violence against civilians                 Attack   \n",
       "1      Strategic developments  Disrupted weapons use   \n",
       "2                    Protests       Peaceful protest   \n",
       "3      Strategic developments  Disrupted weapons use   \n",
       "4                    Protests       Peaceful protest   \n",
       "\n",
       "                                             ACTOR1 ASSOC_ACTOR_1  INTER1  \\\n",
       "0  Police Forces of Romania (2016-2019) Coast Guard           NaN       1   \n",
       "1                Military Forces of Romania (2021-)           NaN       1   \n",
       "2                              Protesters (Romania)    Greenpeace       6   \n",
       "3                Military Forces of Romania (2021-)           NaN       1   \n",
       "4                              Protesters (Romania)    Greenpeace       6   \n",
       "\n",
       "   ...            LOCATION LATITUDE  LONGITUDE  GEO_PRECISION  \\\n",
       "0  ...  Coast of Constanta   44.156     28.948              2   \n",
       "1  ...  Coast of Constanta   44.156     28.948              1   \n",
       "2  ...  Coast of Constanta   44.156     28.948              1   \n",
       "3  ...  Coast of Constanta   44.156     28.948              1   \n",
       "4  ...  Coast of Constanta   44.156     28.948              1   \n",
       "\n",
       "                                              SOURCE            SOURCE_SCALE  \\\n",
       "0  Deschide; Hurriyet Daily; News.ro; CNN; TRT Haber  National-International   \n",
       "1                                  Adevarul; G4media                National   \n",
       "2                                            News.ro                National   \n",
       "3                                             Digi24                National   \n",
       "4                                            News.ro                National   \n",
       "\n",
       "                                               NOTES FATALITIES  \\\n",
       "0  On 20 May 2019, the Coast Guard of Romania fir...          0   \n",
       "1  Defusal: On 28 March 2022, Romanian minesweepe...          0   \n",
       "2  On 28 July 2022, Greenpeace activists proteste...          0   \n",
       "3  Defusal: On 31 July 2022, Romanian Naval Force...          0   \n",
       "4  On 4 August 2022, Greenpeace activists protest...          0   \n",
       "\n",
       "                   TAGS   TIMESTAMP  \n",
       "0                   NaN  1649875498  \n",
       "1                   NaN  1649184809  \n",
       "2  crowd size=no report  1659462993  \n",
       "3                   NaN  1660055880  \n",
       "4  crowd size=no report  1660055882  \n",
       "\n",
       "[5 rows x 31 columns]"
      ]
     },
     "execution_count": 4,
     "metadata": {},
     "output_type": "execute_result"
    }
   ],
   "source": [
    "df2.head()"
   ]
  },
  {
   "cell_type": "markdown",
   "id": "32813740",
   "metadata": {},
   "source": [
    "## Data Assessing"
   ]
  },
  {
   "cell_type": "markdown",
   "id": "f6b17f91",
   "metadata": {},
   "source": [
    "* **Dataset 1 (Conflicto de 2014 a 2021)**"
   ]
  },
  {
   "cell_type": "code",
   "execution_count": 5,
   "id": "9a8c175b",
   "metadata": {},
   "outputs": [
    {
     "name": "stdout",
     "output_type": "stream",
     "text": [
      "(2990, 50)\n",
      "<class 'pandas.core.frame.DataFrame'>\n",
      "RangeIndex: 2990 entries, 0 to 2989\n",
      "Data columns (total 50 columns):\n",
      " #   Column             Non-Null Count  Dtype  \n",
      "---  ------             --------------  -----  \n",
      " 0   id                 2989 non-null   float64\n",
      " 1   relid              2989 non-null   object \n",
      " 2   year               2990 non-null   object \n",
      " 3   active_year        2989 non-null   float64\n",
      " 4   code_status        2989 non-null   object \n",
      " 5   type_of_violence   2989 non-null   float64\n",
      " 6   conflict_dset_id   2989 non-null   float64\n",
      " 7   conflict_new_id    2989 non-null   float64\n",
      " 8   conflict_name      2989 non-null   object \n",
      " 9   dyad_dset_id       2989 non-null   float64\n",
      " 10  dyad_new_id        2989 non-null   float64\n",
      " 11  dyad_name          2989 non-null   object \n",
      " 12  side_a_dset_id     2989 non-null   float64\n",
      " 13  side_a_new_id      2989 non-null   float64\n",
      " 14  side_a             2990 non-null   object \n",
      " 15  side_b_dset_id     2989 non-null   float64\n",
      " 16  side_b_new_id      2989 non-null   float64\n",
      " 17  side_b             2990 non-null   object \n",
      " 18  number_of_sources  2989 non-null   float64\n",
      " 19  source_article     2990 non-null   object \n",
      " 20  source_office      2989 non-null   object \n",
      " 21  source_date        2989 non-null   object \n",
      " 22  source_headline    2990 non-null   object \n",
      " 23  source_original    2971 non-null   object \n",
      " 24  where_prec         2989 non-null   float64\n",
      " 25  where_coordinates  2990 non-null   object \n",
      " 26  where_description  2679 non-null   object \n",
      " 27  adm_1              2762 non-null   object \n",
      " 28  adm_2              2283 non-null   object \n",
      " 29  latitude           2990 non-null   object \n",
      " 30  longitude          2990 non-null   object \n",
      " 31  geom_wkt           2989 non-null   object \n",
      " 32  priogrid_gid       2989 non-null   float64\n",
      " 33  country            2990 non-null   object \n",
      " 34  iso3               2990 non-null   object \n",
      " 35  country_id         2989 non-null   float64\n",
      " 36  region             2990 non-null   object \n",
      " 37  event_clarity      2989 non-null   float64\n",
      " 38  date_prec          2989 non-null   float64\n",
      " 39  date_start         2990 non-null   object \n",
      " 40  date_end           2990 non-null   object \n",
      " 41  deaths_a           2989 non-null   float64\n",
      " 42  deaths_b           2989 non-null   float64\n",
      " 43  deaths_civilians   2989 non-null   float64\n",
      " 44  deaths_unknown     2989 non-null   float64\n",
      " 45  best               2990 non-null   object \n",
      " 46  high               2989 non-null   float64\n",
      " 47  low                2989 non-null   float64\n",
      " 48  gwnoa              2988 non-null   float64\n",
      " 49  gwnob              0 non-null      float64\n",
      "dtypes: float64(25), object(25)\n",
      "memory usage: 1.1+ MB\n"
     ]
    }
   ],
   "source": [
    "print(df1.shape)\n",
    "df1.info()"
   ]
  },
  {
   "cell_type": "code",
   "execution_count": 6,
   "id": "df37eb92",
   "metadata": {},
   "outputs": [
    {
     "data": {
      "text/plain": [
       "0"
      ]
     },
     "execution_count": 6,
     "metadata": {},
     "output_type": "execute_result"
    }
   ],
   "source": [
    "df1.duplicated().sum()"
   ]
  },
  {
   "cell_type": "code",
   "execution_count": 7,
   "id": "8aaafa14",
   "metadata": {},
   "outputs": [
    {
     "data": {
      "text/plain": [
       "id                      1\n",
       "relid                   1\n",
       "year                    0\n",
       "active_year             1\n",
       "code_status             1\n",
       "type_of_violence        1\n",
       "conflict_dset_id        1\n",
       "conflict_new_id         1\n",
       "conflict_name           1\n",
       "dyad_dset_id            1\n",
       "dyad_new_id             1\n",
       "dyad_name               1\n",
       "side_a_dset_id          1\n",
       "side_a_new_id           1\n",
       "side_a                  0\n",
       "side_b_dset_id          1\n",
       "side_b_new_id           1\n",
       "side_b                  0\n",
       "number_of_sources       1\n",
       "source_article          0\n",
       "source_office           1\n",
       "source_date             1\n",
       "source_headline         0\n",
       "source_original        19\n",
       "where_prec              1\n",
       "where_coordinates       0\n",
       "where_description     311\n",
       "adm_1                 228\n",
       "adm_2                 707\n",
       "latitude                0\n",
       "longitude               0\n",
       "geom_wkt                1\n",
       "priogrid_gid            1\n",
       "country                 0\n",
       "iso3                    0\n",
       "country_id              1\n",
       "region                  0\n",
       "event_clarity           1\n",
       "date_prec               1\n",
       "date_start              0\n",
       "date_end                0\n",
       "deaths_a                1\n",
       "deaths_b                1\n",
       "deaths_civilians        1\n",
       "deaths_unknown          1\n",
       "best                    0\n",
       "high                    1\n",
       "low                     1\n",
       "gwnoa                   2\n",
       "gwnob                2990\n",
       "dtype: int64"
      ]
     },
     "execution_count": 7,
     "metadata": {},
     "output_type": "execute_result"
    }
   ],
   "source": [
    "df1.isnull().sum()"
   ]
  },
  {
   "cell_type": "code",
   "execution_count": 8,
   "id": "86dfb78b",
   "metadata": {},
   "outputs": [
    {
     "data": {
      "text/plain": [
       "id                   2989\n",
       "relid                2989\n",
       "year                    9\n",
       "active_year             2\n",
       "code_status             1\n",
       "type_of_violence        2\n",
       "conflict_dset_id        5\n",
       "conflict_new_id         5\n",
       "conflict_name           5\n",
       "dyad_dset_id            7\n",
       "dyad_new_id             7\n",
       "dyad_name               5\n",
       "side_a_dset_id          2\n",
       "side_a_new_id           2\n",
       "side_a                  3\n",
       "side_b_dset_id          7\n",
       "side_b_new_id           7\n",
       "side_b                  6\n",
       "number_of_sources      14\n",
       "source_article       2323\n",
       "source_office         279\n",
       "source_date          1508\n",
       "source_headline      1817\n",
       "source_original       812\n",
       "where_prec              7\n",
       "where_coordinates     402\n",
       "where_description    1569\n",
       "adm_1                   6\n",
       "adm_2                  65\n",
       "latitude              422\n",
       "longitude             424\n",
       "geom_wkt              424\n",
       "priogrid_gid           32\n",
       "country                 2\n",
       "iso3                    2\n",
       "country_id              1\n",
       "region                  2\n",
       "event_clarity           2\n",
       "date_prec               5\n",
       "date_start              2\n",
       "date_end                2\n",
       "deaths_a               21\n",
       "deaths_b               23\n",
       "deaths_civilians       21\n",
       "deaths_unknown         21\n",
       "best                   47\n",
       "high                   48\n",
       "low                    45\n",
       "gwnoa                   1\n",
       "gwnob                   0\n",
       "dtype: int64"
      ]
     },
     "execution_count": 8,
     "metadata": {},
     "output_type": "execute_result"
    }
   ],
   "source": [
    "# looking for numer of uninque values per feature\n",
    "df1.nunique()"
   ]
  },
  {
   "cell_type": "markdown",
   "id": "32b962b4",
   "metadata": {},
   "source": [
    "* **Dataset 1 (Conflicto de 2018 a 2023)**"
   ]
  },
  {
   "cell_type": "code",
   "execution_count": 9,
   "id": "330274cc",
   "metadata": {},
   "outputs": [
    {
     "name": "stdout",
     "output_type": "stream",
     "text": [
      "(96082, 31)\n",
      "<class 'pandas.core.frame.DataFrame'>\n",
      "RangeIndex: 96082 entries, 0 to 96081\n",
      "Data columns (total 31 columns):\n",
      " #   Column              Non-Null Count  Dtype  \n",
      "---  ------              --------------  -----  \n",
      " 0   EVENT_ID_CNTY       96082 non-null  object \n",
      " 1   EVENT_DATE          96082 non-null  object \n",
      " 2   YEAR                96082 non-null  int64  \n",
      " 3   TIME_PRECISION      96082 non-null  int64  \n",
      " 4   DISORDER_TYPE       96082 non-null  object \n",
      " 5   EVENT_TYPE          96082 non-null  object \n",
      " 6   SUB_EVENT_TYPE      96082 non-null  object \n",
      " 7   ACTOR1              96082 non-null  object \n",
      " 8   ASSOC_ACTOR_1       6488 non-null   object \n",
      " 9   INTER1              96082 non-null  int64  \n",
      " 10  ACTOR2              51829 non-null  object \n",
      " 11  ASSOC_ACTOR_2       14678 non-null  object \n",
      " 12  INTER2              96082 non-null  int64  \n",
      " 13  INTERACTION         96082 non-null  int64  \n",
      " 14  CIVILIAN_TARGETING  4188 non-null   object \n",
      " 15  ISO                 96082 non-null  int64  \n",
      " 16  REGION              96082 non-null  object \n",
      " 17  COUNTRY             96082 non-null  object \n",
      " 18  ADMIN1              96065 non-null  object \n",
      " 19  ADMIN2              95991 non-null  object \n",
      " 20  ADMIN3              93680 non-null  object \n",
      " 21  LOCATION            96082 non-null  object \n",
      " 22  LATITUDE            96082 non-null  float64\n",
      " 23  LONGITUDE           96082 non-null  float64\n",
      " 24  GEO_PRECISION       96082 non-null  int64  \n",
      " 25  SOURCE              96082 non-null  object \n",
      " 26  SOURCE_SCALE        96082 non-null  object \n",
      " 27  NOTES               96082 non-null  object \n",
      " 28  FATALITIES          96082 non-null  int64  \n",
      " 29  TAGS                5938 non-null   object \n",
      " 30  TIMESTAMP           96082 non-null  int64  \n",
      "dtypes: float64(2), int64(9), object(20)\n",
      "memory usage: 22.7+ MB\n"
     ]
    }
   ],
   "source": [
    "print(df2.shape)\n",
    "\n",
    "# general information of df2\n",
    "df2.info()"
   ]
  },
  {
   "cell_type": "code",
   "execution_count": 10,
   "id": "e2b16f29",
   "metadata": {
    "scrolled": true
   },
   "outputs": [
    {
     "data": {
      "text/plain": [
       "2        NaN\n",
       "4        NaN\n",
       "14       NaN\n",
       "21       NaN\n",
       "23       NaN\n",
       "        ... \n",
       "96070    NaN\n",
       "96071    NaN\n",
       "96072    NaN\n",
       "96073    NaN\n",
       "96074    NaN\n",
       "Name: ACTOR2, Length: 44253, dtype: object"
      ]
     },
     "execution_count": 10,
     "metadata": {},
     "output_type": "execute_result"
    }
   ],
   "source": [
    "# looking for null values from ACTOR2 in df2\n",
    "df2[df2['ACTOR2'].isna()].ACTOR2"
   ]
  },
  {
   "cell_type": "markdown",
   "id": "1e5d4e4b",
   "metadata": {},
   "source": [
    "## Data Cleaning"
   ]
  },
  {
   "cell_type": "markdown",
   "id": "a4cef91a",
   "metadata": {},
   "source": [
    "### Observations"
   ]
  },
  {
   "cell_type": "markdown",
   "id": "ed4e1b6b",
   "metadata": {},
   "source": [
    "* First index of df1 \n",
    "* Year of df1 as object type\n",
    "* Missing values in Actor 2 feature from df2\n",
    "* Datapoints from 2018-2021 not needed in df1\n",
    "* `deaths_a`, `deaths_b`, `deaths_civilians`, `deaths_unknown` features values\n",
    "* All df2 features in Uppercase\n",
    "* Features to delete from df1:\n",
    "    * id\n",
    "    * relid\n",
    "    * active_year\n",
    "    * code_status\n",
    "    * code_status\n",
    "    * code_status\n",
    "    * conflict_new_id\n",
    "    * conflict_name\n",
    "    * dyad_dset_id\n",
    "    * dyad_new_id\n",
    "    * dyad_name\n",
    "    * side_a_dset_id\n",
    "    * side_a_new_id\n",
    "    * side_b_dset_id\n",
    "    * side_b_dset_id\n",
    "    * number_of_sources\n",
    "    * source_article\n",
    "    * source_article\n",
    "    * source_date\n",
    "    * source_headline\n",
    "    * source_original\n",
    "    * where_prec\n",
    "    * where_description\n",
    "    * geom_wkt\n",
    "    * priogrid_gid\n",
    "    * country_id\n",
    "    * event_clarity\n",
    "    * date_prec\n",
    "    * date_start\n",
    "    * date_end\n",
    "    * date_end\n",
    "    * deaths_b\n",
    "    * deaths_civilians\n",
    "    * deaths_civilians\n",
    "    * best\n",
    "    * high\n",
    "    * low\n",
    "    * gwnoa\n",
    "    * gwnob\n",
    "* Features to delete from df2:\n",
    "    * EVENT_ID_CNTY\n",
    "    * EVENT_DATE\n",
    "    * TIME_PRECISION\n",
    "    * SOURCE\n",
    "    * SOURCE_SCALE\n",
    "    * NOTES\n",
    "    * TAGS\n",
    "    * TIMESTAMP\n",
    "* Merge datasets"
   ]
  },
  {
   "cell_type": "markdown",
   "id": "7cdaa2e0",
   "metadata": {},
   "source": [
    "## Data Cleaning"
   ]
  },
  {
   "cell_type": "markdown",
   "id": "62e0dace",
   "metadata": {},
   "source": [
    "* Drop first index of df1 "
   ]
  },
  {
   "cell_type": "markdown",
   "id": "dd620a67",
   "metadata": {},
   "source": [
    "#### Code"
   ]
  },
  {
   "cell_type": "code",
   "execution_count": 11,
   "id": "6c1b78f7",
   "metadata": {},
   "outputs": [],
   "source": [
    "df1.drop(0, axis = 0, inplace = True)\n",
    "df1.reset_index(drop = True, inplace = True)"
   ]
  },
  {
   "cell_type": "markdown",
   "id": "2bc8f214",
   "metadata": {},
   "source": [
    "#### Test"
   ]
  },
  {
   "cell_type": "code",
   "execution_count": 12,
   "id": "3a806cad",
   "metadata": {},
   "outputs": [
    {
     "data": {
      "text/html": [
       "<div>\n",
       "<style scoped>\n",
       "    .dataframe tbody tr th:only-of-type {\n",
       "        vertical-align: middle;\n",
       "    }\n",
       "\n",
       "    .dataframe tbody tr th {\n",
       "        vertical-align: top;\n",
       "    }\n",
       "\n",
       "    .dataframe thead th {\n",
       "        text-align: right;\n",
       "    }\n",
       "</style>\n",
       "<table border=\"1\" class=\"dataframe\">\n",
       "  <thead>\n",
       "    <tr style=\"text-align: right;\">\n",
       "      <th></th>\n",
       "      <th>id</th>\n",
       "      <th>relid</th>\n",
       "      <th>year</th>\n",
       "      <th>active_year</th>\n",
       "      <th>code_status</th>\n",
       "      <th>type_of_violence</th>\n",
       "      <th>conflict_dset_id</th>\n",
       "      <th>conflict_new_id</th>\n",
       "      <th>conflict_name</th>\n",
       "      <th>dyad_dset_id</th>\n",
       "      <th>...</th>\n",
       "      <th>date_end</th>\n",
       "      <th>deaths_a</th>\n",
       "      <th>deaths_b</th>\n",
       "      <th>deaths_civilians</th>\n",
       "      <th>deaths_unknown</th>\n",
       "      <th>best</th>\n",
       "      <th>high</th>\n",
       "      <th>low</th>\n",
       "      <th>gwnoa</th>\n",
       "      <th>gwnob</th>\n",
       "    </tr>\n",
       "  </thead>\n",
       "  <tbody>\n",
       "    <tr>\n",
       "      <th>0</th>\n",
       "      <td>147997.0</td>\n",
       "      <td>UKR-2014-1-14085-0</td>\n",
       "      <td>2014</td>\n",
       "      <td>1.0</td>\n",
       "      <td>Clear</td>\n",
       "      <td>1.0</td>\n",
       "      <td>13219.0</td>\n",
       "      <td>13219.0</td>\n",
       "      <td>Ukraine: Government</td>\n",
       "      <td>14085.0</td>\n",
       "      <td>...</td>\n",
       "      <td>00:00.0</td>\n",
       "      <td>0.0</td>\n",
       "      <td>5.0</td>\n",
       "      <td>0.0</td>\n",
       "      <td>0.0</td>\n",
       "      <td>5</td>\n",
       "      <td>5.0</td>\n",
       "      <td>5.0</td>\n",
       "      <td>369.0</td>\n",
       "      <td>NaN</td>\n",
       "    </tr>\n",
       "    <tr>\n",
       "      <th>1</th>\n",
       "      <td>149221.0</td>\n",
       "      <td>UKR-2014-1-14085-1</td>\n",
       "      <td>2014</td>\n",
       "      <td>1.0</td>\n",
       "      <td>Clear</td>\n",
       "      <td>1.0</td>\n",
       "      <td>13219.0</td>\n",
       "      <td>13219.0</td>\n",
       "      <td>Ukraine: Government</td>\n",
       "      <td>14085.0</td>\n",
       "      <td>...</td>\n",
       "      <td>00:00.0</td>\n",
       "      <td>0.0</td>\n",
       "      <td>0.0</td>\n",
       "      <td>0.0</td>\n",
       "      <td>1.0</td>\n",
       "      <td>1</td>\n",
       "      <td>1.0</td>\n",
       "      <td>1.0</td>\n",
       "      <td>369.0</td>\n",
       "      <td>NaN</td>\n",
       "    </tr>\n",
       "    <tr>\n",
       "      <th>2</th>\n",
       "      <td>149248.0</td>\n",
       "      <td>UKR-2014-1-14085-3</td>\n",
       "      <td>2014</td>\n",
       "      <td>1.0</td>\n",
       "      <td>Clear</td>\n",
       "      <td>1.0</td>\n",
       "      <td>13219.0</td>\n",
       "      <td>13219.0</td>\n",
       "      <td>Ukraine: Government</td>\n",
       "      <td>14085.0</td>\n",
       "      <td>...</td>\n",
       "      <td>00:00.0</td>\n",
       "      <td>10.0</td>\n",
       "      <td>4.0</td>\n",
       "      <td>0.0</td>\n",
       "      <td>12.0</td>\n",
       "      <td>26</td>\n",
       "      <td>26.0</td>\n",
       "      <td>26.0</td>\n",
       "      <td>369.0</td>\n",
       "      <td>NaN</td>\n",
       "    </tr>\n",
       "    <tr>\n",
       "      <th>3</th>\n",
       "      <td>149249.0</td>\n",
       "      <td>UKR-2014-1-14085-4</td>\n",
       "      <td>2014</td>\n",
       "      <td>1.0</td>\n",
       "      <td>Clear</td>\n",
       "      <td>1.0</td>\n",
       "      <td>13219.0</td>\n",
       "      <td>13219.0</td>\n",
       "      <td>Ukraine: Government</td>\n",
       "      <td>14085.0</td>\n",
       "      <td>...</td>\n",
       "      <td>00:00.0</td>\n",
       "      <td>0.0</td>\n",
       "      <td>0.0</td>\n",
       "      <td>0.0</td>\n",
       "      <td>2.0</td>\n",
       "      <td>2</td>\n",
       "      <td>2.0</td>\n",
       "      <td>2.0</td>\n",
       "      <td>369.0</td>\n",
       "      <td>NaN</td>\n",
       "    </tr>\n",
       "    <tr>\n",
       "      <th>4</th>\n",
       "      <td>149251.0</td>\n",
       "      <td>UKR-2014-1-14085-6</td>\n",
       "      <td>2014</td>\n",
       "      <td>1.0</td>\n",
       "      <td>Clear</td>\n",
       "      <td>1.0</td>\n",
       "      <td>13219.0</td>\n",
       "      <td>13219.0</td>\n",
       "      <td>Ukraine: Government</td>\n",
       "      <td>14085.0</td>\n",
       "      <td>...</td>\n",
       "      <td>00:00.0</td>\n",
       "      <td>0.0</td>\n",
       "      <td>0.0</td>\n",
       "      <td>0.0</td>\n",
       "      <td>6.0</td>\n",
       "      <td>6</td>\n",
       "      <td>6.0</td>\n",
       "      <td>6.0</td>\n",
       "      <td>369.0</td>\n",
       "      <td>NaN</td>\n",
       "    </tr>\n",
       "  </tbody>\n",
       "</table>\n",
       "<p>5 rows × 50 columns</p>\n",
       "</div>"
      ],
      "text/plain": [
       "         id               relid  year  active_year code_status  \\\n",
       "0  147997.0  UKR-2014-1-14085-0  2014          1.0       Clear   \n",
       "1  149221.0  UKR-2014-1-14085-1  2014          1.0       Clear   \n",
       "2  149248.0  UKR-2014-1-14085-3  2014          1.0       Clear   \n",
       "3  149249.0  UKR-2014-1-14085-4  2014          1.0       Clear   \n",
       "4  149251.0  UKR-2014-1-14085-6  2014          1.0       Clear   \n",
       "\n",
       "   type_of_violence  conflict_dset_id  conflict_new_id        conflict_name  \\\n",
       "0               1.0           13219.0          13219.0  Ukraine: Government   \n",
       "1               1.0           13219.0          13219.0  Ukraine: Government   \n",
       "2               1.0           13219.0          13219.0  Ukraine: Government   \n",
       "3               1.0           13219.0          13219.0  Ukraine: Government   \n",
       "4               1.0           13219.0          13219.0  Ukraine: Government   \n",
       "\n",
       "   dyad_dset_id  ...  date_end deaths_a  deaths_b  deaths_civilians  \\\n",
       "0       14085.0  ...   00:00.0      0.0       5.0               0.0   \n",
       "1       14085.0  ...   00:00.0      0.0       0.0               0.0   \n",
       "2       14085.0  ...   00:00.0     10.0       4.0               0.0   \n",
       "3       14085.0  ...   00:00.0      0.0       0.0               0.0   \n",
       "4       14085.0  ...   00:00.0      0.0       0.0               0.0   \n",
       "\n",
       "  deaths_unknown  best  high   low  gwnoa gwnob  \n",
       "0            0.0     5   5.0   5.0  369.0   NaN  \n",
       "1            1.0     1   1.0   1.0  369.0   NaN  \n",
       "2           12.0    26  26.0  26.0  369.0   NaN  \n",
       "3            2.0     2   2.0   2.0  369.0   NaN  \n",
       "4            6.0     6   6.0   6.0  369.0   NaN  \n",
       "\n",
       "[5 rows x 50 columns]"
      ]
     },
     "execution_count": 12,
     "metadata": {},
     "output_type": "execute_result"
    }
   ],
   "source": [
    "df1.head()"
   ]
  },
  {
   "cell_type": "markdown",
   "id": "267fdf6f",
   "metadata": {},
   "source": [
    "* Change `year` of df1 to integer type"
   ]
  },
  {
   "cell_type": "markdown",
   "id": "85ae269a",
   "metadata": {},
   "source": [
    "#### Code"
   ]
  },
  {
   "cell_type": "code",
   "execution_count": 13,
   "id": "f9aab77b",
   "metadata": {},
   "outputs": [],
   "source": [
    "df1.year = df1.year.astype(int)"
   ]
  },
  {
   "cell_type": "markdown",
   "id": "bd22d567",
   "metadata": {},
   "source": [
    "#### Test"
   ]
  },
  {
   "cell_type": "code",
   "execution_count": 14,
   "id": "2020f8e1",
   "metadata": {},
   "outputs": [
    {
     "data": {
      "text/plain": [
       "dtype('int32')"
      ]
     },
     "execution_count": 14,
     "metadata": {},
     "output_type": "execute_result"
    }
   ],
   "source": [
    "df1.year.dtype"
   ]
  },
  {
   "cell_type": "markdown",
   "id": "d1d956dd",
   "metadata": {},
   "source": [
    "* Imputing missing values in `Actor2` feature from df2 with 'None'"
   ]
  },
  {
   "cell_type": "markdown",
   "id": "f4601bdc",
   "metadata": {},
   "source": [
    "#### Code"
   ]
  },
  {
   "cell_type": "code",
   "execution_count": 15,
   "id": "f8aa8036",
   "metadata": {},
   "outputs": [],
   "source": [
    "df2.loc[df2['ACTOR2'].isna(), 'ACTOR2'] = 'None'"
   ]
  },
  {
   "cell_type": "markdown",
   "id": "bdf7c018",
   "metadata": {},
   "source": [
    "#### Test"
   ]
  },
  {
   "cell_type": "code",
   "execution_count": 16,
   "id": "d1d5ebd2",
   "metadata": {},
   "outputs": [
    {
     "data": {
      "text/plain": [
       "(44253, 31)"
      ]
     },
     "execution_count": 16,
     "metadata": {},
     "output_type": "execute_result"
    }
   ],
   "source": [
    "df2[df2['ACTOR2'] == 'None'].shape"
   ]
  },
  {
   "cell_type": "markdown",
   "id": "e9b55f7d",
   "metadata": {},
   "source": [
    "* Delete datapoints from 2018-2021 in df1"
   ]
  },
  {
   "cell_type": "markdown",
   "id": "1e33be88",
   "metadata": {},
   "source": [
    "#### Code"
   ]
  },
  {
   "cell_type": "code",
   "execution_count": 17,
   "id": "07df6e80",
   "metadata": {},
   "outputs": [
    {
     "data": {
      "text/plain": [
       "(2325, 50)"
      ]
     },
     "execution_count": 17,
     "metadata": {},
     "output_type": "execute_result"
    }
   ],
   "source": [
    "index = df1[df1.year >= 2018].index.values\n",
    "df1.drop(index, axis = 0, inplace = True)\n",
    "df1.shape"
   ]
  },
  {
   "cell_type": "markdown",
   "id": "b7c2a179",
   "metadata": {},
   "source": [
    "#### Test"
   ]
  },
  {
   "cell_type": "code",
   "execution_count": 18,
   "id": "fcb390ff",
   "metadata": {},
   "outputs": [
    {
     "data": {
      "text/html": [
       "<div>\n",
       "<style scoped>\n",
       "    .dataframe tbody tr th:only-of-type {\n",
       "        vertical-align: middle;\n",
       "    }\n",
       "\n",
       "    .dataframe tbody tr th {\n",
       "        vertical-align: top;\n",
       "    }\n",
       "\n",
       "    .dataframe thead th {\n",
       "        text-align: right;\n",
       "    }\n",
       "</style>\n",
       "<table border=\"1\" class=\"dataframe\">\n",
       "  <thead>\n",
       "    <tr style=\"text-align: right;\">\n",
       "      <th></th>\n",
       "      <th>id</th>\n",
       "      <th>relid</th>\n",
       "      <th>year</th>\n",
       "      <th>active_year</th>\n",
       "      <th>code_status</th>\n",
       "      <th>type_of_violence</th>\n",
       "      <th>conflict_dset_id</th>\n",
       "      <th>conflict_new_id</th>\n",
       "      <th>conflict_name</th>\n",
       "      <th>dyad_dset_id</th>\n",
       "      <th>...</th>\n",
       "      <th>date_end</th>\n",
       "      <th>deaths_a</th>\n",
       "      <th>deaths_b</th>\n",
       "      <th>deaths_civilians</th>\n",
       "      <th>deaths_unknown</th>\n",
       "      <th>best</th>\n",
       "      <th>high</th>\n",
       "      <th>low</th>\n",
       "      <th>gwnoa</th>\n",
       "      <th>gwnob</th>\n",
       "    </tr>\n",
       "  </thead>\n",
       "  <tbody>\n",
       "  </tbody>\n",
       "</table>\n",
       "<p>0 rows × 50 columns</p>\n",
       "</div>"
      ],
      "text/plain": [
       "Empty DataFrame\n",
       "Columns: [id, relid, year, active_year, code_status, type_of_violence, conflict_dset_id, conflict_new_id, conflict_name, dyad_dset_id, dyad_new_id, dyad_name, side_a_dset_id, side_a_new_id, side_a, side_b_dset_id, side_b_new_id, side_b, number_of_sources, source_article, source_office, source_date, source_headline, source_original, where_prec, where_coordinates, where_description, adm_1, adm_2, latitude, longitude, geom_wkt, priogrid_gid, country, iso3, country_id, region, event_clarity, date_prec, date_start, date_end, deaths_a, deaths_b, deaths_civilians, deaths_unknown, best, high, low, gwnoa, gwnob]\n",
       "Index: []\n",
       "\n",
       "[0 rows x 50 columns]"
      ]
     },
     "execution_count": 18,
     "metadata": {},
     "output_type": "execute_result"
    }
   ],
   "source": [
    "df1[df1.year >= 2018]"
   ]
  },
  {
   "cell_type": "markdown",
   "id": "4781c567",
   "metadata": {},
   "source": [
    "* Join `deaths_a`, `deaths_b`, `deaths_civilians`, `deaths_unknown` features values as `fatalities`"
   ]
  },
  {
   "cell_type": "markdown",
   "id": "48ae6198",
   "metadata": {},
   "source": [
    "#### Code"
   ]
  },
  {
   "cell_type": "code",
   "execution_count": 19,
   "id": "79a777e4",
   "metadata": {},
   "outputs": [],
   "source": [
    "# joining columns values into one new column\n",
    "a = df1.deaths_a.values\n",
    "b = df1.deaths_b.values\n",
    "c = df1.deaths_civilians.values\n",
    "d = df1.deaths_unknown.values\n",
    "df1['fatalities'] = a + b + c + d\n",
    "\n",
    "# dropping the columns\n",
    "df1.drop(columns = ['deaths_a', 'deaths_b', 'deaths_civilians', 'deaths_unknown'], inplace = True)"
   ]
  },
  {
   "cell_type": "markdown",
   "id": "dbe2b040",
   "metadata": {},
   "source": [
    "#### Test"
   ]
  },
  {
   "cell_type": "code",
   "execution_count": 20,
   "id": "e819623c",
   "metadata": {},
   "outputs": [
    {
     "name": "stdout",
     "output_type": "stream",
     "text": [
      "(2325, 47)\n"
     ]
    },
    {
     "data": {
      "text/plain": [
       "0        5.0\n",
       "1        1.0\n",
       "2       26.0\n",
       "3        2.0\n",
       "4        6.0\n",
       "        ... \n",
       "2828     1.0\n",
       "2829     4.0\n",
       "2830     1.0\n",
       "2831     1.0\n",
       "2832     1.0\n",
       "Name: fatalities, Length: 2325, dtype: float64"
      ]
     },
     "execution_count": 20,
     "metadata": {},
     "output_type": "execute_result"
    }
   ],
   "source": [
    "print(df1.shape)\n",
    "df1['fatalities']"
   ]
  },
  {
   "cell_type": "markdown",
   "id": "cb228318",
   "metadata": {},
   "source": [
    "*  Delete features from df1\n",
    "    * id\n",
    "    * relid\n",
    "    * active_year\n",
    "    * code_status \n",
    "    * conflict_new_id\n",
    "    * conflict_name\n",
    "    * dyad_dset_id\n",
    "    * dyad_new_id\n",
    "    * dyad_name\n",
    "    * side_a_dset_id\n",
    "    * side_a_new_id\n",
    "    * side_b_dset_id\n",
    "    * side_b_dset_id\n",
    "    * number_of_sources\n",
    "    * source_article\n",
    "    * source_article\n",
    "    * source_date\n",
    "    * source_headline\n",
    "    * source_original\n",
    "    * where_prec\n",
    "    * where_description\n",
    "    * geom_wkt\n",
    "    * priogrid_gid\n",
    "    * country_id\n",
    "    * event_clarity\n",
    "    * date_prec\n",
    "    * date_start\n",
    "    * date_end\n",
    "    * date_end\n",
    "    * deaths_b\n",
    "    * deaths_civilians\n",
    "    * deaths_civilians\n",
    "    * best\n",
    "    * high\n",
    "    * low\n",
    "    * gwnoa\n",
    "    * gwnob"
   ]
  },
  {
   "cell_type": "markdown",
   "id": "da9cac46",
   "metadata": {},
   "source": [
    "#### Code"
   ]
  },
  {
   "cell_type": "code",
   "execution_count": 21,
   "id": "b7af886e",
   "metadata": {},
   "outputs": [],
   "source": [
    "index = list(df1.columns[[0, 1]]) + df1.columns[3:8].tolist() + df1.columns[9:14].tolist() + list(df1.columns[[15, 16]]) + df1.columns[18:25].tolist() + [df1.columns[26]] + [df1.columns[31]] + [df1.columns[32]] + df1.columns[34:46].tolist()\n",
    "df1.drop(columns=index, inplace=True)"
   ]
  },
  {
   "cell_type": "markdown",
   "id": "68b7805c",
   "metadata": {},
   "source": [
    "#### Test"
   ]
  },
  {
   "cell_type": "code",
   "execution_count": 22,
   "id": "70432484",
   "metadata": {},
   "outputs": [
    {
     "data": {
      "text/plain": [
       "Index(['year', 'conflict_name', 'side_a', 'side_b', 'where_coordinates',\n",
       "       'adm_1', 'adm_2', 'latitude', 'longitude', 'country', 'fatalities'],\n",
       "      dtype='object')"
      ]
     },
     "execution_count": 22,
     "metadata": {},
     "output_type": "execute_result"
    }
   ],
   "source": [
    "df1.columns"
   ]
  },
  {
   "cell_type": "markdown",
   "id": "13aa6c66",
   "metadata": {},
   "source": [
    "*  Delete features from df2:\n",
    "    * EVENT_ID_CNTY\n",
    "    * EVENT_DATE\n",
    "    * TIME_PRECISION\n",
    "    * SOURCE\n",
    "    * SOURCE_SCALE\n",
    "    * NOTES\n",
    "    * TAGS\n",
    "    * TIMESTAMP"
   ]
  },
  {
   "cell_type": "markdown",
   "id": "6ef393a7",
   "metadata": {},
   "source": [
    "#### Code"
   ]
  },
  {
   "cell_type": "code",
   "execution_count": 23,
   "id": "82536b7c",
   "metadata": {},
   "outputs": [],
   "source": [
    "columns = ['EVENT_ID_CNTY', 'EVENT_DATE', 'TIME_PRECISION', 'SOURCE', 'SOURCE_SCALE', 'NOTES', 'TAGS', 'TIMESTAMP', 'REGION', 'ISO', 'GEO_PRECISION']\n",
    "df2.drop(columns = columns, inplace=True)"
   ]
  },
  {
   "cell_type": "markdown",
   "id": "9bf55ad6",
   "metadata": {},
   "source": [
    "#### Test"
   ]
  },
  {
   "cell_type": "code",
   "execution_count": 24,
   "id": "dd07d685",
   "metadata": {},
   "outputs": [
    {
     "data": {
      "text/plain": [
       "Index(['YEAR', 'DISORDER_TYPE', 'EVENT_TYPE', 'SUB_EVENT_TYPE', 'ACTOR1',\n",
       "       'ASSOC_ACTOR_1', 'INTER1', 'ACTOR2', 'ASSOC_ACTOR_2', 'INTER2',\n",
       "       'INTERACTION', 'CIVILIAN_TARGETING', 'COUNTRY', 'ADMIN1', 'ADMIN2',\n",
       "       'ADMIN3', 'LOCATION', 'LATITUDE', 'LONGITUDE', 'FATALITIES'],\n",
       "      dtype='object')"
      ]
     },
     "execution_count": 24,
     "metadata": {},
     "output_type": "execute_result"
    }
   ],
   "source": [
    "df2.columns"
   ]
  },
  {
   "cell_type": "markdown",
   "id": "8471c039",
   "metadata": {},
   "source": [
    "* Lowcase all df2 features"
   ]
  },
  {
   "cell_type": "markdown",
   "id": "1bed2bea",
   "metadata": {},
   "source": [
    "#### Code"
   ]
  },
  {
   "cell_type": "code",
   "execution_count": 25,
   "id": "f87fadcc",
   "metadata": {},
   "outputs": [],
   "source": [
    "df2.columns = df2.columns.str.lower()"
   ]
  },
  {
   "cell_type": "markdown",
   "id": "367ebee0",
   "metadata": {},
   "source": [
    "#### Test"
   ]
  },
  {
   "cell_type": "code",
   "execution_count": 26,
   "id": "0864f6df",
   "metadata": {},
   "outputs": [
    {
     "data": {
      "text/plain": [
       "Index(['year', 'disorder_type', 'event_type', 'sub_event_type', 'actor1',\n",
       "       'assoc_actor_1', 'inter1', 'actor2', 'assoc_actor_2', 'inter2',\n",
       "       'interaction', 'civilian_targeting', 'country', 'admin1', 'admin2',\n",
       "       'admin3', 'location', 'latitude', 'longitude', 'fatalities'],\n",
       "      dtype='object')"
      ]
     },
     "execution_count": 26,
     "metadata": {},
     "output_type": "execute_result"
    }
   ],
   "source": [
    "df2.columns"
   ]
  },
  {
   "cell_type": "markdown",
   "id": "49f31cfe",
   "metadata": {},
   "source": [
    "* Merge datasets"
   ]
  },
  {
   "cell_type": "code",
   "execution_count": null,
   "id": "72d6f5f2",
   "metadata": {},
   "outputs": [],
   "source": []
  },
  {
   "cell_type": "code",
   "execution_count": null,
   "id": "81b190cd",
   "metadata": {},
   "outputs": [],
   "source": []
  },
  {
   "cell_type": "code",
   "execution_count": null,
   "id": "0749f845",
   "metadata": {},
   "outputs": [],
   "source": []
  },
  {
   "cell_type": "code",
   "execution_count": null,
   "id": "b6cd78fc",
   "metadata": {},
   "outputs": [],
   "source": []
  },
  {
   "cell_type": "code",
   "execution_count": null,
   "id": "d5194587",
   "metadata": {},
   "outputs": [],
   "source": []
  },
  {
   "cell_type": "code",
   "execution_count": null,
   "id": "354f6afa",
   "metadata": {},
   "outputs": [],
   "source": []
  },
  {
   "cell_type": "code",
   "execution_count": null,
   "id": "b73e148c",
   "metadata": {},
   "outputs": [],
   "source": []
  },
  {
   "cell_type": "code",
   "execution_count": null,
   "id": "43ee2203",
   "metadata": {},
   "outputs": [],
   "source": []
  },
  {
   "cell_type": "code",
   "execution_count": null,
   "id": "df70d7ec",
   "metadata": {},
   "outputs": [],
   "source": []
  }
 ],
 "metadata": {
  "kernelspec": {
   "display_name": "Python 3 (ipykernel)",
   "language": "python",
   "name": "python3"
  },
  "language_info": {
   "codemirror_mode": {
    "name": "ipython",
    "version": 3
   },
   "file_extension": ".py",
   "mimetype": "text/x-python",
   "name": "python",
   "nbconvert_exporter": "python",
   "pygments_lexer": "ipython3",
   "version": "3.9.16"
  }
 },
 "nbformat": 4,
 "nbformat_minor": 5
}
