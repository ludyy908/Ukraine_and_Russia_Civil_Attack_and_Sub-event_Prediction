{
 "cells": [
  {
   "cell_type": "markdown",
   "id": "b9961c4b",
   "metadata": {},
   "source": [
    "# Ukrain and Russia Sub event and Civilian Attack Predictor\n",
    "### By Ludmila Mucavele, Amarilda Chihepe"
   ]
  },
  {
   "cell_type": "code",
   "execution_count": 1,
   "id": "fa51a653",
   "metadata": {},
   "outputs": [],
   "source": [
    "import Ukrain_and_Russia_victims_and_subevent_Model as model"
   ]
  },
  {
   "cell_type": "markdown",
   "id": "164874a1",
   "metadata": {},
   "source": [
    "### Dictionary: \n",
    "* disorder_type: Type of event conflict/disorder\n",
    "    * Political violence, \n",
    "    * Strategic developments, \n",
    "    * Demonstrations, \n",
    "    * Political violence; Demonstrations.\n",
    "* event_type: Type of event being settled\n",
    "    * Violence against civilians\n",
    "    * Strategic developments\n",
    "    * Protests\n",
    "    * Explosions/Remote violence\n",
    "    * Battles\n",
    "    * Riots\n",
    "* actor1: Main Actor 1 of the event\n",
    "    * Police Forces of Ukraine (2014-2019) State Border Guard Service',\n",
    "    * Government of Russia (2000-)',\n",
    "    * Military Forces of Ukraine (2014-2019) Special Forces',\n",
    "    * Donetsk People's Republic - Police\",\n",
    "    * Police Forces of Russia (2000-) Prison Guards',\n",
    "    * Rioters (Russia)', 'Cossacks (Russia)', 'C14',\n",
    "    * Police Forces of Russia (2000-) Federal Security Service',\n",
    "    * Police Forces of Russia (2000-) Border Service',\n",
    "    * Luhansk People's Republic - Government\",\n",
    "    * Sentianivka Communal Militia (Ukraine)',\n",
    "    * Private Security Forces (Ukraine)',\n",
    "    * Police Forces of Ukraine (2014-2019) Municipal Guard',\n",
    "    * Protesters (International)', 'Rioters (Greece)',\n",
    "    * Military Forces of the United States (2017-2021)',\n",
    "    * Civilians (Ukraine)', 'Wagner Group',\n",
    "    * Police Forces of Ukraine (2014-2019) Prison Guards',\n",
    "    * Police Forces of Romania (2016-2019) Coast Guard',\n",
    "    * Military Forces of Romania (2021-)', 'Protesters (Romania)',\n",
    "    * Unidentified Military Forces',\n",
    "    * Military Forces of Turkey (2016-)',\n",
    "    * Military Forces of Ukraine (2014-2019)',\n",
    "    * NAF: United Armed Forces of Novorossiya', 'Protesters (Ukraine)',\n",
    "    * Unidentified Armed Group (Ukraine)'\n",
    "* associate_actor_1: Actor 2 associated with the event\n",
    "* actor2: Main Actor 2 of the event\n",
    "    * Civilians (Turkey)\n",
    "    * Police Forces of Ukraine (2014-2019) State Border Guard Service',\n",
    "    * Government of Russia (2000-)',\n",
    "    * Military Forces of Ukraine (2014-2019) Special Forces',\n",
    "    * Donetsk People's Republic - Police\",\n",
    "    * Police Forces of Russia (2000-) Prison Guards',\n",
    "    * Rioters (Russia)', 'Cossacks (Russia)', 'C14',\n",
    "    * Police Forces of Russia (2000-) Federal Security Service',\n",
    "    * Police Forces of Russia (2000-) Border Service',\n",
    "    * Luhansk People's Republic - Government\",\n",
    "    * Sentianivka Communal Militia (Ukraine)',\n",
    "    * Private Security Forces (Ukraine)',\n",
    "    * Police Forces of Ukraine (2014-2019) Municipal Guard',\n",
    "    * Protesters (International)', 'Rioters (Greece)',\n",
    "    * Military Forces of the United States (2017-2021)',\n",
    "    * Civilians (Ukraine)', 'Wagner Group',\n",
    "    * Police Forces of Ukraine (2014-2019) Prison Guards',\n",
    "    * Police Forces of Romania (2016-2019) Coast Guard',\n",
    "    * Military Forces of Romania (2021-)', 'Protesters (Romania)',\n",
    "    * Unidentified Military Forces',\n",
    "    * Military Forces of Turkey (2016-)',\n",
    "    * Military Forces of Ukraine (2014-2019)',\n",
    "    * NAF: United Armed Forces of Novorossiya', 'Protesters (Ukraine)',\n",
    "    * Unidentified Armed Group (Ukraine)'\n",
    "* associate_actor_2: Actor 2 associated with the event\n",
    "* country: country were the event is being settled\n",
    "    * Romania \n",
    "    * Turkey\n",
    "    * Ukraine\n",
    "* admin1: Administrative division 1 within Ukraine\n",
    "* admin2: Administrative divisions 2 within Ukraine\n",
    "* admin3: Administrative divisions 3 within Ukraine\n",
    "* location: Location of event occurence\n",
    "* year: Year of occurence of event\n",
    "* inter1: Interaction of Actor 1 (0-9)\n",
    "* inter2: Interaction of Actor 2 (0-9)\n",
    "* interaction: Total Interaction (Inter1|Inter2)\n",
    "* latitude: Latitude of local of conflict\n",
    "* longitude: Longitude of local of conflict\n",
    "* fatalities: Number of deaths during event\n",
    "\n",
    "##### Note: \n",
    "* If there is not a value for a categorical feature, 'None' should be typed.\n",
    "* If there is not a value for a numerical feature, 0 should be typed"
   ]
  },
  {
   "cell_type": "markdown",
   "id": "cd383a82",
   "metadata": {},
   "source": [
    "#### Categorical values based on the features:"
   ]
  },
  {
   "cell_type": "code",
   "execution_count": 2,
   "id": "89f4eabb",
   "metadata": {},
   "outputs": [],
   "source": [
    "categorical_arr = {'disorder_type': 'Political violence' ,\n",
    "                'event_type':  'Violence against civilians',\n",
    "                'actor1': 'Protesters (Romania)' ,\n",
    "                'associate_actor_1': 'Greenpeace' ,\n",
    "                'actor2': 'Unidentified Military Forces' ,\n",
    "                'associate_actor_2': 'Fishers (Turkey)' ,\n",
    "                'country': 'Romania' ,\n",
    "                'admin1': 'Constanta' ,\n",
    "                'admin2': 'None',\n",
    "                'admin3': 'None' ,\n",
    "                'location' : 'Pryshyb village'\n",
    "                  }"
   ]
  },
  {
   "cell_type": "markdown",
   "id": "c9ca6c3c",
   "metadata": {},
   "source": [
    "#### Numerical values based on the features:"
   ]
  },
  {
   "cell_type": "code",
   "execution_count": 3,
   "id": "5ff1800e",
   "metadata": {},
   "outputs": [],
   "source": [
    "numerical_arr = {'year' : 2020,\n",
    "                 'inter1' : 6,\n",
    "                 'inter2' : 5,\n",
    "                 'interaction' : 65 ,\n",
    "                 'latitude' : 44.156,\n",
    "                 'longitude' : 28.948,\n",
    "                 'fatalities' : 10\n",
    "                }"
   ]
  },
  {
   "cell_type": "markdown",
   "id": "b92bb3fb",
   "metadata": {},
   "source": [
    "## Prediction"
   ]
  },
  {
   "cell_type": "code",
   "execution_count": 4,
   "id": "66768a98",
   "metadata": {},
   "outputs": [
    {
     "name": "stdout",
     "output_type": "stream",
     "text": [
      "1/1 [==============================] - 0s 458ms/step\n"
     ]
    }
   ],
   "source": [
    "sub_event, civilian_targeting = model.predictor(categorical_arr.values(), numerical_arr)"
   ]
  },
  {
   "cell_type": "code",
   "execution_count": 19,
   "id": "765d4b89",
   "metadata": {},
   "outputs": [
    {
     "name": "stdout",
     "output_type": "stream",
     "text": [
      "Sub_event:  Violent demonstration \n",
      "Civilian Targeting:  No\n"
     ]
    }
   ],
   "source": [
    "print('Sub_event: ', sub_event, '\\nCivilian Targeting: ', civilian_targeting)"
   ]
  },
  {
   "cell_type": "code",
   "execution_count": null,
   "id": "2512f4b1",
   "metadata": {},
   "outputs": [],
   "source": []
  },
  {
   "cell_type": "code",
   "execution_count": null,
   "id": "bc51e43c",
   "metadata": {},
   "outputs": [],
   "source": []
  }
 ],
 "metadata": {
  "kernelspec": {
   "display_name": "Python 3 (ipykernel)",
   "language": "python",
   "name": "python3"
  },
  "language_info": {
   "codemirror_mode": {
    "name": "ipython",
    "version": 3
   },
   "file_extension": ".py",
   "mimetype": "text/x-python",
   "name": "python",
   "nbconvert_exporter": "python",
   "pygments_lexer": "ipython3",
   "version": "3.9.16"
  }
 },
 "nbformat": 4,
 "nbformat_minor": 5
}
